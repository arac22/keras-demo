{
 "cells": [
  {
   "cell_type": "markdown",
   "id": "15c7a0f0",
   "metadata": {
    "papermill": {
     "duration": 0.010734,
     "end_time": "2022-10-04T17:31:58.106199",
     "exception": false,
     "start_time": "2022-10-04T17:31:58.095465",
     "status": "completed"
    },
    "tags": []
   },
   "source": [
    "Useful links\n",
    "\n",
    "https://www.dataquest.io/blog/tutorial-time-series-analysis-with-pandas/"
   ]
  },
  {
   "cell_type": "code",
   "execution_count": 1,
   "id": "8662340f",
   "metadata": {
    "_cell_guid": "b1076dfc-b9ad-4769-8c92-a6c4dae69d19",
    "_uuid": "8f2839f25d086af736a60e9eeb907d3b93b6e0e5",
    "execution": {
     "iopub.execute_input": "2022-10-04T17:31:58.126574Z",
     "iopub.status.busy": "2022-10-04T17:31:58.126154Z",
     "iopub.status.idle": "2022-10-04T17:31:58.147101Z",
     "shell.execute_reply": "2022-10-04T17:31:58.146068Z"
    },
    "papermill": {
     "duration": 0.034391,
     "end_time": "2022-10-04T17:31:58.150041",
     "exception": false,
     "start_time": "2022-10-04T17:31:58.115650",
     "status": "completed"
    },
    "tags": []
   },
   "outputs": [
    {
     "name": "stdout",
     "output_type": "stream",
     "text": [
      "/kaggle/input/posital-2-braccio/Posital 2 braccio.trc\n"
     ]
    }
   ],
   "source": [
    "# This Python 3 environment comes with many helpful analytics libraries installed\n",
    "# It is defined by the kaggle/python Docker image: https://github.com/kaggle/docker-python\n",
    "# For example, here's several helpful packages to load\n",
    "\n",
    "import numpy as np # linear algebra\n",
    "import pandas as pd # data processing, CSV file I/O (e.g. pd.read_csv)\n",
    "from functools import partial\n",
    "\n",
    "import matplotlib.pyplot as plt\n",
    "\n",
    "# Input data files are available in the read-only \"../input/\" directory\n",
    "# For example, running this (by clicking run or pressing Shift+Enter) will list all files under the input directory\n",
    "\n",
    "import os\n",
    "for dirname, _, filenames in os.walk('/kaggle/input'):\n",
    "    for filename in filenames:\n",
    "        print(os.path.join(dirname, filename))\n",
    "\n",
    "# You can write up to 20GB to the current directory (/kaggle/working/) that gets preserved as output when you create a version using \"Save & Run All\" \n",
    "# You can also write temporary files to /kaggle/temp/, but they won't be saved outside of the current session"
   ]
  },
  {
   "cell_type": "code",
   "execution_count": 2,
   "id": "173ac8e4",
   "metadata": {
    "execution": {
     "iopub.execute_input": "2022-10-04T17:31:58.170740Z",
     "iopub.status.busy": "2022-10-04T17:31:58.170393Z",
     "iopub.status.idle": "2022-10-04T17:31:58.176012Z",
     "shell.execute_reply": "2022-10-04T17:31:58.174955Z"
    },
    "papermill": {
     "duration": 0.018532,
     "end_time": "2022-10-04T17:31:58.178060",
     "exception": false,
     "start_time": "2022-10-04T17:31:58.159528",
     "status": "completed"
    },
    "tags": []
   },
   "outputs": [],
   "source": [
    "# adjust these parameters\n",
    "\n",
    "# data collection\n",
    "fname = \"../input/posital-2-braccio/Posital 2 braccio.trc\"\n",
    "rows_to_skip = 20\n",
    "\n",
    "# data filter\n",
    "command_rolling_length = 1\n",
    "position_rolling_length = 1\n",
    "velocity_rolling_length = 1\n",
    "\n",
    "# keras model\n",
    "labels_column_names = ['DV2']\n",
    "output_dimension = len(labels_column_names)\n",
    "model_filename= './model_1'"
   ]
  },
  {
   "cell_type": "code",
   "execution_count": 3,
   "id": "22cba39b",
   "metadata": {
    "execution": {
     "iopub.execute_input": "2022-10-04T17:31:58.199994Z",
     "iopub.status.busy": "2022-10-04T17:31:58.199604Z",
     "iopub.status.idle": "2022-10-04T17:31:58.210344Z",
     "shell.execute_reply": "2022-10-04T17:31:58.209384Z"
    },
    "papermill": {
     "duration": 0.023589,
     "end_time": "2022-10-04T17:31:58.212409",
     "exception": false,
     "start_time": "2022-10-04T17:31:58.188820",
     "status": "completed"
    },
    "tags": []
   },
   "outputs": [],
   "source": [
    "# utility function: convert hex string to unsigned int (es. FF00 -> 65280)\n",
    "def hex2int_unsigned(hex_val):\n",
    "    return int(hex_val,16)"
   ]
  },
  {
   "cell_type": "code",
   "execution_count": 4,
   "id": "4fd255a9",
   "metadata": {
    "execution": {
     "iopub.execute_input": "2022-10-04T17:31:58.233052Z",
     "iopub.status.busy": "2022-10-04T17:31:58.232681Z",
     "iopub.status.idle": "2022-10-04T17:31:58.237847Z",
     "shell.execute_reply": "2022-10-04T17:31:58.236906Z"
    },
    "papermill": {
     "duration": 0.018235,
     "end_time": "2022-10-04T17:31:58.239977",
     "exception": false,
     "start_time": "2022-10-04T17:31:58.221742",
     "status": "completed"
    },
    "tags": []
   },
   "outputs": [],
   "source": [
    "# utility function: convert hex string to signed int (es. FF00 -> -256)\n",
    "def hex2int_signed(hexval):\n",
    "    bits = 16\n",
    "    val = int(hexval, bits)\n",
    "    if val & (1 << (bits-1)):\n",
    "        val -= 1 << bits\n",
    "    return val"
   ]
  },
  {
   "cell_type": "code",
   "execution_count": 5,
   "id": "25d0f328",
   "metadata": {
    "execution": {
     "iopub.execute_input": "2022-10-04T17:31:58.260232Z",
     "iopub.status.busy": "2022-10-04T17:31:58.259906Z",
     "iopub.status.idle": "2022-10-04T17:32:05.700474Z",
     "shell.execute_reply": "2022-10-04T17:32:05.699428Z"
    },
    "papermill": {
     "duration": 7.45366,
     "end_time": "2022-10-04T17:32:05.703132",
     "exception": false,
     "start_time": "2022-10-04T17:31:58.249472",
     "status": "completed"
    },
    "tags": []
   },
   "outputs": [
    {
     "data": {
      "text/html": [
       "<div>\n",
       "<style scoped>\n",
       "    .dataframe tbody tr th:only-of-type {\n",
       "        vertical-align: middle;\n",
       "    }\n",
       "\n",
       "    .dataframe tbody tr th {\n",
       "        vertical-align: top;\n",
       "    }\n",
       "\n",
       "    .dataframe thead th {\n",
       "        text-align: right;\n",
       "    }\n",
       "</style>\n",
       "<table border=\"1\" class=\"dataframe\">\n",
       "  <thead>\n",
       "    <tr style=\"text-align: right;\">\n",
       "      <th></th>\n",
       "      <th>N</th>\n",
       "      <th>T</th>\n",
       "      <th>B</th>\n",
       "      <th>I</th>\n",
       "      <th>d</th>\n",
       "      <th>R</th>\n",
       "      <th>L</th>\n",
       "      <th>D0</th>\n",
       "      <th>D1</th>\n",
       "      <th>D2</th>\n",
       "      <th>D3</th>\n",
       "      <th>D4</th>\n",
       "      <th>D5</th>\n",
       "      <th>D6</th>\n",
       "      <th>D7</th>\n",
       "    </tr>\n",
       "    <tr>\n",
       "      <th>O</th>\n",
       "      <th></th>\n",
       "      <th></th>\n",
       "      <th></th>\n",
       "      <th></th>\n",
       "      <th></th>\n",
       "      <th></th>\n",
       "      <th></th>\n",
       "      <th></th>\n",
       "      <th></th>\n",
       "      <th></th>\n",
       "      <th></th>\n",
       "      <th></th>\n",
       "      <th></th>\n",
       "      <th></th>\n",
       "      <th></th>\n",
       "    </tr>\n",
       "  </thead>\n",
       "  <tbody>\n",
       "    <tr>\n",
       "      <th>1970-01-01 00:00:00.000059</th>\n",
       "      <td>1</td>\n",
       "      <td>DT</td>\n",
       "      <td>4</td>\n",
       "      <td>0181</td>\n",
       "      <td>Rx</td>\n",
       "      <td>-</td>\n",
       "      <td>4</td>\n",
       "      <td>06</td>\n",
       "      <td>B2</td>\n",
       "      <td>95</td>\n",
       "      <td>11</td>\n",
       "      <td>NaN</td>\n",
       "      <td>NaN</td>\n",
       "      <td>NaN</td>\n",
       "      <td>NaN</td>\n",
       "    </tr>\n",
       "    <tr>\n",
       "      <th>1970-01-01 00:00:00.001133</th>\n",
       "      <td>2</td>\n",
       "      <td>DT</td>\n",
       "      <td>4</td>\n",
       "      <td>0281</td>\n",
       "      <td>Rx</td>\n",
       "      <td>-</td>\n",
       "      <td>8</td>\n",
       "      <td>DF</td>\n",
       "      <td>B1</td>\n",
       "      <td>FF</td>\n",
       "      <td>FF</td>\n",
       "      <td>6E</td>\n",
       "      <td>11</td>\n",
       "      <td>01</td>\n",
       "      <td>00</td>\n",
       "    </tr>\n",
       "    <tr>\n",
       "      <th>1970-01-01 00:00:00.002679</th>\n",
       "      <td>3</td>\n",
       "      <td>DT</td>\n",
       "      <td>4</td>\n",
       "      <td>03B1</td>\n",
       "      <td>Rx</td>\n",
       "      <td>-</td>\n",
       "      <td>8</td>\n",
       "      <td>DE</td>\n",
       "      <td>01</td>\n",
       "      <td>66</td>\n",
       "      <td>03</td>\n",
       "      <td>6F</td>\n",
       "      <td>01</td>\n",
       "      <td>0E</td>\n",
       "      <td>02</td>\n",
       "    </tr>\n",
       "    <tr>\n",
       "      <th>1970-01-01 00:00:00.002910</th>\n",
       "      <td>4</td>\n",
       "      <td>DT</td>\n",
       "      <td>4</td>\n",
       "      <td>01B1</td>\n",
       "      <td>Rx</td>\n",
       "      <td>-</td>\n",
       "      <td>8</td>\n",
       "      <td>5C</td>\n",
       "      <td>03</td>\n",
       "      <td>9B</td>\n",
       "      <td>05</td>\n",
       "      <td>D1</td>\n",
       "      <td>06</td>\n",
       "      <td>22</td>\n",
       "      <td>03</td>\n",
       "    </tr>\n",
       "    <tr>\n",
       "      <th>1970-01-01 00:00:00.004752</th>\n",
       "      <td>5</td>\n",
       "      <td>DT</td>\n",
       "      <td>4</td>\n",
       "      <td>0CF02AE3</td>\n",
       "      <td>Rx</td>\n",
       "      <td>-</td>\n",
       "      <td>8</td>\n",
       "      <td>C5</td>\n",
       "      <td>7C</td>\n",
       "      <td>3A</td>\n",
       "      <td>7D</td>\n",
       "      <td>15</td>\n",
       "      <td>7B</td>\n",
       "      <td>00</td>\n",
       "      <td>05</td>\n",
       "    </tr>\n",
       "    <tr>\n",
       "      <th>...</th>\n",
       "      <td>...</td>\n",
       "      <td>...</td>\n",
       "      <td>...</td>\n",
       "      <td>...</td>\n",
       "      <td>...</td>\n",
       "      <td>...</td>\n",
       "      <td>...</td>\n",
       "      <td>...</td>\n",
       "      <td>...</td>\n",
       "      <td>...</td>\n",
       "      <td>...</td>\n",
       "      <td>...</td>\n",
       "      <td>...</td>\n",
       "      <td>...</td>\n",
       "      <td>...</td>\n",
       "    </tr>\n",
       "    <tr>\n",
       "      <th>1970-01-01 00:01:02.077336</th>\n",
       "      <td>75846</td>\n",
       "      <td>DT</td>\n",
       "      <td>4</td>\n",
       "      <td>08F02DE3</td>\n",
       "      <td>Rx</td>\n",
       "      <td>-</td>\n",
       "      <td>8</td>\n",
       "      <td>C8</td>\n",
       "      <td>80</td>\n",
       "      <td>C1</td>\n",
       "      <td>7D</td>\n",
       "      <td>00</td>\n",
       "      <td>7D</td>\n",
       "      <td>00</td>\n",
       "      <td>00</td>\n",
       "    </tr>\n",
       "    <tr>\n",
       "      <th>1970-01-01 00:01:02.077569</th>\n",
       "      <td>75847</td>\n",
       "      <td>DT</td>\n",
       "      <td>4</td>\n",
       "      <td>03B1</td>\n",
       "      <td>Rx</td>\n",
       "      <td>-</td>\n",
       "      <td>8</td>\n",
       "      <td>A8</td>\n",
       "      <td>01</td>\n",
       "      <td>15</td>\n",
       "      <td>03</td>\n",
       "      <td>17</td>\n",
       "      <td>01</td>\n",
       "      <td>E3</td>\n",
       "      <td>01</td>\n",
       "    </tr>\n",
       "    <tr>\n",
       "      <th>1970-01-01 00:01:02.077802</th>\n",
       "      <td>75848</td>\n",
       "      <td>DT</td>\n",
       "      <td>4</td>\n",
       "      <td>01B1</td>\n",
       "      <td>Rx</td>\n",
       "      <td>-</td>\n",
       "      <td>8</td>\n",
       "      <td>FD</td>\n",
       "      <td>02</td>\n",
       "      <td>BB</td>\n",
       "      <td>04</td>\n",
       "      <td>F4</td>\n",
       "      <td>04</td>\n",
       "      <td>46</td>\n",
       "      <td>02</td>\n",
       "    </tr>\n",
       "    <tr>\n",
       "      <th>1970-01-01 00:01:02.078074</th>\n",
       "      <td>75849</td>\n",
       "      <td>DT</td>\n",
       "      <td>4</td>\n",
       "      <td>0CF029E3</td>\n",
       "      <td>Rx</td>\n",
       "      <td>-</td>\n",
       "      <td>8</td>\n",
       "      <td>7E</td>\n",
       "      <td>A9</td>\n",
       "      <td>82</td>\n",
       "      <td>1D</td>\n",
       "      <td>F3</td>\n",
       "      <td>A9</td>\n",
       "      <td>00</td>\n",
       "      <td>05</td>\n",
       "    </tr>\n",
       "    <tr>\n",
       "      <th>1970-01-01 00:01:02.078596</th>\n",
       "      <td>75850</td>\n",
       "      <td>DT</td>\n",
       "      <td>4</td>\n",
       "      <td>0181</td>\n",
       "      <td>Rx</td>\n",
       "      <td>-</td>\n",
       "      <td>4</td>\n",
       "      <td>13</td>\n",
       "      <td>37</td>\n",
       "      <td>79</td>\n",
       "      <td>28</td>\n",
       "      <td>NaN</td>\n",
       "      <td>NaN</td>\n",
       "      <td>NaN</td>\n",
       "      <td>NaN</td>\n",
       "    </tr>\n",
       "  </tbody>\n",
       "</table>\n",
       "<p>75850 rows × 15 columns</p>\n",
       "</div>"
      ],
      "text/plain": [
       "                                N   T  B         I   d  R  L  D0  D1  D2  D3  \\\n",
       "O                                                                              \n",
       "1970-01-01 00:00:00.000059      1  DT  4      0181  Rx  -  4  06  B2  95  11   \n",
       "1970-01-01 00:00:00.001133      2  DT  4      0281  Rx  -  8  DF  B1  FF  FF   \n",
       "1970-01-01 00:00:00.002679      3  DT  4      03B1  Rx  -  8  DE  01  66  03   \n",
       "1970-01-01 00:00:00.002910      4  DT  4      01B1  Rx  -  8  5C  03  9B  05   \n",
       "1970-01-01 00:00:00.004752      5  DT  4  0CF02AE3  Rx  -  8  C5  7C  3A  7D   \n",
       "...                           ...  .. ..       ...  .. .. ..  ..  ..  ..  ..   \n",
       "1970-01-01 00:01:02.077336  75846  DT  4  08F02DE3  Rx  -  8  C8  80  C1  7D   \n",
       "1970-01-01 00:01:02.077569  75847  DT  4      03B1  Rx  -  8  A8  01  15  03   \n",
       "1970-01-01 00:01:02.077802  75848  DT  4      01B1  Rx  -  8  FD  02  BB  04   \n",
       "1970-01-01 00:01:02.078074  75849  DT  4  0CF029E3  Rx  -  8  7E  A9  82  1D   \n",
       "1970-01-01 00:01:02.078596  75850  DT  4      0181  Rx  -  4  13  37  79  28   \n",
       "\n",
       "                             D4   D5   D6   D7  \n",
       "O                                               \n",
       "1970-01-01 00:00:00.000059  NaN  NaN  NaN  NaN  \n",
       "1970-01-01 00:00:00.001133   6E   11   01   00  \n",
       "1970-01-01 00:00:00.002679   6F   01   0E   02  \n",
       "1970-01-01 00:00:00.002910   D1   06   22   03  \n",
       "1970-01-01 00:00:00.004752   15   7B   00   05  \n",
       "...                         ...  ...  ...  ...  \n",
       "1970-01-01 00:01:02.077336   00   7D   00   00  \n",
       "1970-01-01 00:01:02.077569   17   01   E3   01  \n",
       "1970-01-01 00:01:02.077802   F4   04   46   02  \n",
       "1970-01-01 00:01:02.078074   F3   A9   00   05  \n",
       "1970-01-01 00:01:02.078596  NaN  NaN  NaN  NaN  \n",
       "\n",
       "[75850 rows x 15 columns]"
      ]
     },
     "execution_count": 5,
     "metadata": {},
     "output_type": "execute_result"
    }
   ],
   "source": [
    "# read text file into pandas DataFrame\n",
    "df = pd.read_csv(\n",
    "        fname,\n",
    "        delim_whitespace=True, \n",
    "        skiprows = rows_to_skip, \n",
    "        header=None, \n",
    "        names=[\"N\",\"O\",\"T\",\"B\",\"I\",\"d\",\"R\",\"L\",\"D0\",\"D1\",\"D2\",\"D3\",\"D4\",\"D5\",\"D6\",\"D7\"],\n",
    "        #nrows=10000,\n",
    "        index_col = 'O',\n",
    "        converters={\n",
    "            'O': partial(pd.to_datetime,unit='ms',infer_datetime_format=True)\n",
    "            #    'D0': partial(int, base=16),\n",
    "        }\n",
    "        \n",
    "    )\n",
    "\n",
    "# display DataFrame\n",
    "df"
   ]
  },
  {
   "cell_type": "code",
   "execution_count": 6,
   "id": "f2c5aab4",
   "metadata": {
    "execution": {
     "iopub.execute_input": "2022-10-04T17:32:05.724631Z",
     "iopub.status.busy": "2022-10-04T17:32:05.723756Z",
     "iopub.status.idle": "2022-10-04T17:32:05.728091Z",
     "shell.execute_reply": "2022-10-04T17:32:05.727051Z"
    },
    "papermill": {
     "duration": 0.017053,
     "end_time": "2022-10-04T17:32:05.730205",
     "exception": false,
     "start_time": "2022-10-04T17:32:05.713152",
     "status": "completed"
    },
    "tags": []
   },
   "outputs": [],
   "source": [
    "# start_time = pd.to_datetime('26/05/2022 12:09:59.00')    \n",
    "# converters = {'O': lambda x: pd.to_datetime(float(x), unit='ms', origin = start_time)}"
   ]
  },
  {
   "cell_type": "code",
   "execution_count": 7,
   "id": "6a1282ad",
   "metadata": {
    "execution": {
     "iopub.execute_input": "2022-10-04T17:32:05.750434Z",
     "iopub.status.busy": "2022-10-04T17:32:05.750106Z",
     "iopub.status.idle": "2022-10-04T17:32:06.118104Z",
     "shell.execute_reply": "2022-10-04T17:32:06.117118Z"
    },
    "papermill": {
     "duration": 0.38097,
     "end_time": "2022-10-04T17:32:06.120559",
     "exception": false,
     "start_time": "2022-10-04T17:32:05.739589",
     "status": "completed"
    },
    "tags": []
   },
   "outputs": [
    {
     "name": "stderr",
     "output_type": "stream",
     "text": [
      "/opt/conda/lib/python3.7/site-packages/ipykernel_launcher.py:5: SettingWithCopyWarning: \n",
      "A value is trying to be set on a copy of a slice from a DataFrame.\n",
      "Try using .loc[row_indexer,col_indexer] = value instead\n",
      "\n",
      "See the caveats in the documentation: https://pandas.pydata.org/pandas-docs/stable/user_guide/indexing.html#returning-a-view-versus-a-copy\n",
      "  \"\"\"\n"
     ]
    },
    {
     "data": {
      "text/plain": [
       "<AxesSubplot:xlabel='O'>"
      ]
     },
     "execution_count": 7,
     "metadata": {},
     "output_type": "execute_result"
    },
    {
     "data": {
      "image/png": "[encoded data removed]",
      "text/plain": [
       "<Figure size 432x288 with 1 Axes>"
      ]
     },
     "metadata": {
      "needs_background": "light"
     },
     "output_type": "display_data"
    }
   ],
   "source": [
    "# select posital rows\n",
    "posital = df[df[\"I\"] == '0182']\n",
    "\n",
    "# convert angle from hex bytes to unsigned int\n",
    "posital['P2'] = (posital['D1'] + posital['D0']).apply(hex2int_unsigned)\n",
    "\n",
    "# resample at 10 milliseconds\n",
    "posital = posital.resample(\"10L\").ffill()\n",
    "\n",
    "posital['P2'].plot()"
   ]
  },
  {
   "cell_type": "code",
   "execution_count": 8,
   "id": "585a2ab7",
   "metadata": {
    "execution": {
     "iopub.execute_input": "2022-10-04T17:32:06.144438Z",
     "iopub.status.busy": "2022-10-04T17:32:06.143786Z",
     "iopub.status.idle": "2022-10-04T17:32:06.470517Z",
     "shell.execute_reply": "2022-10-04T17:32:06.469454Z"
    },
    "papermill": {
     "duration": 0.341572,
     "end_time": "2022-10-04T17:32:06.472868",
     "exception": false,
     "start_time": "2022-10-04T17:32:06.131296",
     "status": "completed"
    },
    "tags": []
   },
   "outputs": [
    {
     "name": "stderr",
     "output_type": "stream",
     "text": [
      "/opt/conda/lib/python3.7/site-packages/ipykernel_launcher.py:5: SettingWithCopyWarning: \n",
      "A value is trying to be set on a copy of a slice from a DataFrame.\n",
      "Try using .loc[row_indexer,col_indexer] = value instead\n",
      "\n",
      "See the caveats in the documentation: https://pandas.pydata.org/pandas-docs/stable/user_guide/indexing.html#returning-a-view-versus-a-copy\n",
      "  \"\"\"\n",
      "/opt/conda/lib/python3.7/site-packages/ipykernel_launcher.py:6: SettingWithCopyWarning: \n",
      "A value is trying to be set on a copy of a slice from a DataFrame.\n",
      "Try using .loc[row_indexer,col_indexer] = value instead\n",
      "\n",
      "See the caveats in the documentation: https://pandas.pydata.org/pandas-docs/stable/user_guide/indexing.html#returning-a-view-versus-a-copy\n",
      "  \n"
     ]
    },
    {
     "data": {
      "text/plain": [
       "<AxesSubplot:xlabel='O'>"
      ]
     },
     "execution_count": 8,
     "metadata": {},
     "output_type": "execute_result"
    },
    {
     "data": {
      "image/png": "[encoded data removed]",
      "text/plain": [
       "<Figure size 432x288 with 1 Axes>"
      ]
     },
     "metadata": {
      "needs_background": "light"
     },
     "output_type": "display_data"
    }
   ],
   "source": [
    "# select joystick rows\n",
    "command = df[df[\"I\"] == '02B2']\n",
    "\n",
    "# convert set points from hex strings to signed int\n",
    "command['C2'] = (command['D1'] + command['D0']).apply(hex2int_signed)\n",
    "command['C1'] = (command['D3'] + command['D2']).apply(hex2int_signed)\n",
    "\n",
    "# resample at 10 milliseconds\n",
    "command = command.resample(\"10L\").ffill()\n",
    "\n",
    "command['C2'].plot()"
   ]
  },
  {
   "cell_type": "code",
   "execution_count": 9,
   "id": "2c1c633b",
   "metadata": {
    "execution": {
     "iopub.execute_input": "2022-10-04T17:32:06.496672Z",
     "iopub.status.busy": "2022-10-04T17:32:06.496321Z",
     "iopub.status.idle": "2022-10-04T17:32:07.121720Z",
     "shell.execute_reply": "2022-10-04T17:32:07.120640Z"
    },
    "papermill": {
     "duration": 0.640598,
     "end_time": "2022-10-04T17:32:07.124586",
     "exception": false,
     "start_time": "2022-10-04T17:32:06.483988",
     "status": "completed"
    },
    "tags": []
   },
   "outputs": [
    {
     "data": {
      "image/png": "[encoded data removed]",
      "text/plain": [
       "<Figure size 432x288 with 2 Axes>"
      ]
     },
     "metadata": {
      "needs_background": "light"
     },
     "output_type": "display_data"
    }
   ],
   "source": [
    "fig, ax = plt.subplots()\n",
    "ax2 = ax.twinx()\n",
    "\n",
    "posital.plot(y=['P2'], ax=ax)\n",
    "command.plot(y=[\"C1\", \"C2\"], ax=ax2, ls=\"--\")\n",
    "\n",
    "plt.show()"
   ]
  },
  {
   "cell_type": "code",
   "execution_count": 10,
   "id": "6a592fdd",
   "metadata": {
    "execution": {
     "iopub.execute_input": "2022-10-04T17:32:07.151735Z",
     "iopub.status.busy": "2022-10-04T17:32:07.150851Z",
     "iopub.status.idle": "2022-10-04T17:32:07.157700Z",
     "shell.execute_reply": "2022-10-04T17:32:07.156695Z"
    },
    "papermill": {
     "duration": 0.02323,
     "end_time": "2022-10-04T17:32:07.160171",
     "exception": false,
     "start_time": "2022-10-04T17:32:07.136941",
     "status": "completed"
    },
    "tags": []
   },
   "outputs": [
    {
     "data": {
      "text/plain": [
       "6207"
      ]
     },
     "execution_count": 10,
     "metadata": {},
     "output_type": "execute_result"
    }
   ],
   "source": [
    "min_length = min(command.shape[0], posital.shape[0])\n",
    "min_length"
   ]
  },
  {
   "cell_type": "code",
   "execution_count": 11,
   "id": "365f58d2",
   "metadata": {
    "execution": {
     "iopub.execute_input": "2022-10-04T17:32:07.185620Z",
     "iopub.status.busy": "2022-10-04T17:32:07.184822Z",
     "iopub.status.idle": "2022-10-04T17:32:07.541237Z",
     "shell.execute_reply": "2022-10-04T17:32:07.539329Z"
    },
    "papermill": {
     "duration": 0.37154,
     "end_time": "2022-10-04T17:32:07.543419",
     "exception": false,
     "start_time": "2022-10-04T17:32:07.171879",
     "status": "completed"
    },
    "tags": []
   },
   "outputs": [
    {
     "data": {
      "text/plain": [
       "<AxesSubplot:xlabel='O'>"
      ]
     },
     "execution_count": 11,
     "metadata": {},
     "output_type": "execute_result"
    },
    {
     "data": {
      "image/png": "[encoded data removed]",
      "text/plain": [
       "<Figure size 432x288 with 1 Axes>"
      ]
     },
     "metadata": {
      "needs_background": "light"
     },
     "output_type": "display_data"
    }
   ],
   "source": [
    "command = command[['C1','C2']].iloc[0:min_length].copy()\n",
    "command = command.rolling(command_rolling_length).mean()\n",
    "command.plot()"
   ]
  },
  {
   "cell_type": "code",
   "execution_count": 12,
   "id": "31764e67",
   "metadata": {
    "execution": {
     "iopub.execute_input": "2022-10-04T17:32:07.570087Z",
     "iopub.status.busy": "2022-10-04T17:32:07.569726Z",
     "iopub.status.idle": "2022-10-04T17:32:07.878772Z",
     "shell.execute_reply": "2022-10-04T17:32:07.878011Z"
    },
    "papermill": {
     "duration": 0.324806,
     "end_time": "2022-10-04T17:32:07.880929",
     "exception": false,
     "start_time": "2022-10-04T17:32:07.556123",
     "status": "completed"
    },
    "tags": []
   },
   "outputs": [
    {
     "data": {
      "text/plain": [
       "<AxesSubplot:xlabel='O'>"
      ]
     },
     "execution_count": 12,
     "metadata": {},
     "output_type": "execute_result"
    },
    {
     "data": {
      "image/png": "[encoded data removed]",
      "text/plain": [
       "<Figure size 432x288 with 1 Axes>"
      ]
     },
     "metadata": {
      "needs_background": "light"
     },
     "output_type": "display_data"
    }
   ],
   "source": [
    "position = posital[['P2']].iloc[0:min_length].copy()\n",
    "\n",
    "position = position.rolling(position_rolling_length).mean()\n",
    "position.plot()"
   ]
  },
  {
   "cell_type": "code",
   "execution_count": 13,
   "id": "b222128f",
   "metadata": {
    "execution": {
     "iopub.execute_input": "2022-10-04T17:32:07.908876Z",
     "iopub.status.busy": "2022-10-04T17:32:07.908348Z",
     "iopub.status.idle": "2022-10-04T17:32:07.930730Z",
     "shell.execute_reply": "2022-10-04T17:32:07.929500Z"
    },
    "papermill": {
     "duration": 0.038637,
     "end_time": "2022-10-04T17:32:07.932790",
     "exception": false,
     "start_time": "2022-10-04T17:32:07.894153",
     "status": "completed"
    },
    "tags": []
   },
   "outputs": [
    {
     "data": {
      "text/html": [
       "<div>\n",
       "<style scoped>\n",
       "    .dataframe tbody tr th:only-of-type {\n",
       "        vertical-align: middle;\n",
       "    }\n",
       "\n",
       "    .dataframe tbody tr th {\n",
       "        vertical-align: top;\n",
       "    }\n",
       "\n",
       "    .dataframe thead th {\n",
       "        text-align: right;\n",
       "    }\n",
       "</style>\n",
       "<table border=\"1\" class=\"dataframe\">\n",
       "  <thead>\n",
       "    <tr style=\"text-align: right;\">\n",
       "      <th></th>\n",
       "      <th>C1</th>\n",
       "      <th>C2</th>\n",
       "      <th>P2</th>\n",
       "    </tr>\n",
       "    <tr>\n",
       "      <th>O</th>\n",
       "      <th></th>\n",
       "      <th></th>\n",
       "      <th></th>\n",
       "    </tr>\n",
       "  </thead>\n",
       "  <tbody>\n",
       "    <tr>\n",
       "      <th>1970-01-01 00:00:00.010</th>\n",
       "      <td>NaN</td>\n",
       "      <td>NaN</td>\n",
       "      <td>3366.0</td>\n",
       "    </tr>\n",
       "    <tr>\n",
       "      <th>1970-01-01 00:00:00.020</th>\n",
       "      <td>0.0</td>\n",
       "      <td>0.0</td>\n",
       "      <td>3369.0</td>\n",
       "    </tr>\n",
       "    <tr>\n",
       "      <th>1970-01-01 00:00:00.030</th>\n",
       "      <td>0.0</td>\n",
       "      <td>0.0</td>\n",
       "      <td>3371.0</td>\n",
       "    </tr>\n",
       "    <tr>\n",
       "      <th>1970-01-01 00:00:00.040</th>\n",
       "      <td>0.0</td>\n",
       "      <td>0.0</td>\n",
       "      <td>3374.0</td>\n",
       "    </tr>\n",
       "    <tr>\n",
       "      <th>1970-01-01 00:00:00.050</th>\n",
       "      <td>0.0</td>\n",
       "      <td>0.0</td>\n",
       "      <td>3377.0</td>\n",
       "    </tr>\n",
       "    <tr>\n",
       "      <th>...</th>\n",
       "      <td>...</td>\n",
       "      <td>...</td>\n",
       "      <td>...</td>\n",
       "    </tr>\n",
       "    <tr>\n",
       "      <th>1970-01-01 00:01:02.020</th>\n",
       "      <td>0.0</td>\n",
       "      <td>0.0</td>\n",
       "      <td>6523.0</td>\n",
       "    </tr>\n",
       "    <tr>\n",
       "      <th>1970-01-01 00:01:02.030</th>\n",
       "      <td>0.0</td>\n",
       "      <td>0.0</td>\n",
       "      <td>6523.0</td>\n",
       "    </tr>\n",
       "    <tr>\n",
       "      <th>1970-01-01 00:01:02.040</th>\n",
       "      <td>0.0</td>\n",
       "      <td>0.0</td>\n",
       "      <td>6523.0</td>\n",
       "    </tr>\n",
       "    <tr>\n",
       "      <th>1970-01-01 00:01:02.050</th>\n",
       "      <td>0.0</td>\n",
       "      <td>0.0</td>\n",
       "      <td>6523.0</td>\n",
       "    </tr>\n",
       "    <tr>\n",
       "      <th>1970-01-01 00:01:02.060</th>\n",
       "      <td>0.0</td>\n",
       "      <td>0.0</td>\n",
       "      <td>6523.0</td>\n",
       "    </tr>\n",
       "  </tbody>\n",
       "</table>\n",
       "<p>6206 rows × 3 columns</p>\n",
       "</div>"
      ],
      "text/plain": [
       "                          C1   C2      P2\n",
       "O                                        \n",
       "1970-01-01 00:00:00.010  NaN  NaN  3366.0\n",
       "1970-01-01 00:00:00.020  0.0  0.0  3369.0\n",
       "1970-01-01 00:00:00.030  0.0  0.0  3371.0\n",
       "1970-01-01 00:00:00.040  0.0  0.0  3374.0\n",
       "1970-01-01 00:00:00.050  0.0  0.0  3377.0\n",
       "...                      ...  ...     ...\n",
       "1970-01-01 00:01:02.020  0.0  0.0  6523.0\n",
       "1970-01-01 00:01:02.030  0.0  0.0  6523.0\n",
       "1970-01-01 00:01:02.040  0.0  0.0  6523.0\n",
       "1970-01-01 00:01:02.050  0.0  0.0  6523.0\n",
       "1970-01-01 00:01:02.060  0.0  0.0  6523.0\n",
       "\n",
       "[6206 rows x 3 columns]"
      ]
     },
     "execution_count": 13,
     "metadata": {},
     "output_type": "execute_result"
    }
   ],
   "source": [
    "df2 = pd.merge(command, position, left_index=True, right_index=True)\n",
    "df2"
   ]
  },
  {
   "cell_type": "code",
   "execution_count": 14,
   "id": "ab20ba9a",
   "metadata": {
    "execution": {
     "iopub.execute_input": "2022-10-04T17:32:07.960405Z",
     "iopub.status.busy": "2022-10-04T17:32:07.960050Z",
     "iopub.status.idle": "2022-10-04T17:32:08.326193Z",
     "shell.execute_reply": "2022-10-04T17:32:08.325115Z"
    },
    "papermill": {
     "duration": 0.382527,
     "end_time": "2022-10-04T17:32:08.328453",
     "exception": false,
     "start_time": "2022-10-04T17:32:07.945926",
     "status": "completed"
    },
    "tags": []
   },
   "outputs": [
    {
     "data": {
      "text/plain": [
       "<AxesSubplot:xlabel='O'>"
      ]
     },
     "execution_count": 14,
     "metadata": {},
     "output_type": "execute_result"
    },
    {
     "data": {
      "image/png": "[encoded data removed]",
      "text/plain": [
       "<Figure size 432x288 with 1 Axes>"
      ]
     },
     "metadata": {
      "needs_background": "light"
     },
     "output_type": "display_data"
    }
   ],
   "source": [
    "df2 = df2.dropna()\n",
    "df2.plot()"
   ]
  },
  {
   "cell_type": "code",
   "execution_count": 15,
   "id": "3c52915d",
   "metadata": {
    "execution": {
     "iopub.execute_input": "2022-10-04T17:32:08.358130Z",
     "iopub.status.busy": "2022-10-04T17:32:08.357503Z",
     "iopub.status.idle": "2022-10-04T17:32:08.379547Z",
     "shell.execute_reply": "2022-10-04T17:32:08.378360Z"
    },
    "papermill": {
     "duration": 0.039268,
     "end_time": "2022-10-04T17:32:08.381835",
     "exception": false,
     "start_time": "2022-10-04T17:32:08.342567",
     "status": "completed"
    },
    "tags": []
   },
   "outputs": [
    {
     "data": {
      "text/html": [
       "<div>\n",
       "<style scoped>\n",
       "    .dataframe tbody tr th:only-of-type {\n",
       "        vertical-align: middle;\n",
       "    }\n",
       "\n",
       "    .dataframe tbody tr th {\n",
       "        vertical-align: top;\n",
       "    }\n",
       "\n",
       "    .dataframe thead th {\n",
       "        text-align: right;\n",
       "    }\n",
       "</style>\n",
       "<table border=\"1\" class=\"dataframe\">\n",
       "  <thead>\n",
       "    <tr style=\"text-align: right;\">\n",
       "      <th></th>\n",
       "      <th>C1</th>\n",
       "      <th>C2</th>\n",
       "      <th>P2</th>\n",
       "    </tr>\n",
       "  </thead>\n",
       "  <tbody>\n",
       "    <tr>\n",
       "      <th>count</th>\n",
       "      <td>6205.000000</td>\n",
       "      <td>6205.000000</td>\n",
       "      <td>6205.000000</td>\n",
       "    </tr>\n",
       "    <tr>\n",
       "      <th>mean</th>\n",
       "      <td>39.349234</td>\n",
       "      <td>52.610959</td>\n",
       "      <td>4836.388719</td>\n",
       "    </tr>\n",
       "    <tr>\n",
       "      <th>std</th>\n",
       "      <td>437.829163</td>\n",
       "      <td>362.581454</td>\n",
       "      <td>1494.196815</td>\n",
       "    </tr>\n",
       "    <tr>\n",
       "      <th>min</th>\n",
       "      <td>-1000.000000</td>\n",
       "      <td>-995.000000</td>\n",
       "      <td>1886.000000</td>\n",
       "    </tr>\n",
       "    <tr>\n",
       "      <th>25%</th>\n",
       "      <td>0.000000</td>\n",
       "      <td>0.000000</td>\n",
       "      <td>3505.000000</td>\n",
       "    </tr>\n",
       "    <tr>\n",
       "      <th>50%</th>\n",
       "      <td>0.000000</td>\n",
       "      <td>0.000000</td>\n",
       "      <td>4765.000000</td>\n",
       "    </tr>\n",
       "    <tr>\n",
       "      <th>75%</th>\n",
       "      <td>0.000000</td>\n",
       "      <td>0.000000</td>\n",
       "      <td>6496.000000</td>\n",
       "    </tr>\n",
       "    <tr>\n",
       "      <th>max</th>\n",
       "      <td>1000.000000</td>\n",
       "      <td>1000.000000</td>\n",
       "      <td>7689.000000</td>\n",
       "    </tr>\n",
       "  </tbody>\n",
       "</table>\n",
       "</div>"
      ],
      "text/plain": [
       "                C1           C2           P2\n",
       "count  6205.000000  6205.000000  6205.000000\n",
       "mean     39.349234    52.610959  4836.388719\n",
       "std     437.829163   362.581454  1494.196815\n",
       "min   -1000.000000  -995.000000  1886.000000\n",
       "25%       0.000000     0.000000  3505.000000\n",
       "50%       0.000000     0.000000  4765.000000\n",
       "75%       0.000000     0.000000  6496.000000\n",
       "max    1000.000000  1000.000000  7689.000000"
      ]
     },
     "execution_count": 15,
     "metadata": {},
     "output_type": "execute_result"
    }
   ],
   "source": [
    "df2.describe()"
   ]
  },
  {
   "cell_type": "code",
   "execution_count": 16,
   "id": "56f712f7",
   "metadata": {
    "execution": {
     "iopub.execute_input": "2022-10-04T17:32:08.412423Z",
     "iopub.status.busy": "2022-10-04T17:32:08.411280Z",
     "iopub.status.idle": "2022-10-04T17:32:09.833375Z",
     "shell.execute_reply": "2022-10-04T17:32:09.832537Z"
    },
    "papermill": {
     "duration": 1.439592,
     "end_time": "2022-10-04T17:32:09.835723",
     "exception": false,
     "start_time": "2022-10-04T17:32:08.396131",
     "status": "completed"
    },
    "tags": []
   },
   "outputs": [],
   "source": [
    "df2.to_excel('df2.xlsx')"
   ]
  },
  {
   "cell_type": "markdown",
   "id": "231ae6c3",
   "metadata": {
    "papermill": {
     "duration": 0.013788,
     "end_time": "2022-10-04T17:32:09.864296",
     "exception": false,
     "start_time": "2022-10-04T17:32:09.850508",
     "status": "completed"
    },
    "tags": []
   },
   "source": [
    "# Create additional columns"
   ]
  },
  {
   "cell_type": "code",
   "execution_count": 17,
   "id": "96892d07",
   "metadata": {
    "execution": {
     "iopub.execute_input": "2022-10-04T17:32:09.894054Z",
     "iopub.status.busy": "2022-10-04T17:32:09.893209Z",
     "iopub.status.idle": "2022-10-04T17:32:09.897708Z",
     "shell.execute_reply": "2022-10-04T17:32:09.897020Z"
    },
    "papermill": {
     "duration": 0.021747,
     "end_time": "2022-10-04T17:32:09.899837",
     "exception": false,
     "start_time": "2022-10-04T17:32:09.878090",
     "status": "completed"
    },
    "tags": []
   },
   "outputs": [],
   "source": [
    "df3 = df2.copy()"
   ]
  },
  {
   "cell_type": "code",
   "execution_count": 18,
   "id": "ae85940c",
   "metadata": {
    "execution": {
     "iopub.execute_input": "2022-10-04T17:32:09.929469Z",
     "iopub.status.busy": "2022-10-04T17:32:09.929128Z",
     "iopub.status.idle": "2022-10-04T17:32:09.944907Z",
     "shell.execute_reply": "2022-10-04T17:32:09.943807Z"
    },
    "papermill": {
     "duration": 0.033146,
     "end_time": "2022-10-04T17:32:09.946958",
     "exception": false,
     "start_time": "2022-10-04T17:32:09.913812",
     "status": "completed"
    },
    "tags": []
   },
   "outputs": [
    {
     "data": {
      "text/html": [
       "<div>\n",
       "<style scoped>\n",
       "    .dataframe tbody tr th:only-of-type {\n",
       "        vertical-align: middle;\n",
       "    }\n",
       "\n",
       "    .dataframe tbody tr th {\n",
       "        vertical-align: top;\n",
       "    }\n",
       "\n",
       "    .dataframe thead th {\n",
       "        text-align: right;\n",
       "    }\n",
       "</style>\n",
       "<table border=\"1\" class=\"dataframe\">\n",
       "  <thead>\n",
       "    <tr style=\"text-align: right;\">\n",
       "      <th></th>\n",
       "      <th>C1</th>\n",
       "      <th>C2</th>\n",
       "      <th>P2</th>\n",
       "    </tr>\n",
       "    <tr>\n",
       "      <th>O</th>\n",
       "      <th></th>\n",
       "      <th></th>\n",
       "      <th></th>\n",
       "    </tr>\n",
       "  </thead>\n",
       "  <tbody>\n",
       "    <tr>\n",
       "      <th>1970-01-01 00:00:00.020</th>\n",
       "      <td>0.0</td>\n",
       "      <td>0.0</td>\n",
       "      <td>3369.0</td>\n",
       "    </tr>\n",
       "    <tr>\n",
       "      <th>1970-01-01 00:00:00.030</th>\n",
       "      <td>0.0</td>\n",
       "      <td>0.0</td>\n",
       "      <td>3371.0</td>\n",
       "    </tr>\n",
       "    <tr>\n",
       "      <th>1970-01-01 00:00:00.040</th>\n",
       "      <td>0.0</td>\n",
       "      <td>0.0</td>\n",
       "      <td>3374.0</td>\n",
       "    </tr>\n",
       "    <tr>\n",
       "      <th>1970-01-01 00:00:00.050</th>\n",
       "      <td>0.0</td>\n",
       "      <td>0.0</td>\n",
       "      <td>3377.0</td>\n",
       "    </tr>\n",
       "    <tr>\n",
       "      <th>1970-01-01 00:00:00.060</th>\n",
       "      <td>0.0</td>\n",
       "      <td>0.0</td>\n",
       "      <td>3380.0</td>\n",
       "    </tr>\n",
       "    <tr>\n",
       "      <th>...</th>\n",
       "      <td>...</td>\n",
       "      <td>...</td>\n",
       "      <td>...</td>\n",
       "    </tr>\n",
       "    <tr>\n",
       "      <th>1970-01-01 00:01:02.020</th>\n",
       "      <td>0.0</td>\n",
       "      <td>0.0</td>\n",
       "      <td>6523.0</td>\n",
       "    </tr>\n",
       "    <tr>\n",
       "      <th>1970-01-01 00:01:02.030</th>\n",
       "      <td>0.0</td>\n",
       "      <td>0.0</td>\n",
       "      <td>6523.0</td>\n",
       "    </tr>\n",
       "    <tr>\n",
       "      <th>1970-01-01 00:01:02.040</th>\n",
       "      <td>0.0</td>\n",
       "      <td>0.0</td>\n",
       "      <td>6523.0</td>\n",
       "    </tr>\n",
       "    <tr>\n",
       "      <th>1970-01-01 00:01:02.050</th>\n",
       "      <td>0.0</td>\n",
       "      <td>0.0</td>\n",
       "      <td>6523.0</td>\n",
       "    </tr>\n",
       "    <tr>\n",
       "      <th>1970-01-01 00:01:02.060</th>\n",
       "      <td>0.0</td>\n",
       "      <td>0.0</td>\n",
       "      <td>6523.0</td>\n",
       "    </tr>\n",
       "  </tbody>\n",
       "</table>\n",
       "<p>6205 rows × 3 columns</p>\n",
       "</div>"
      ],
      "text/plain": [
       "                          C1   C2      P2\n",
       "O                                        \n",
       "1970-01-01 00:00:00.020  0.0  0.0  3369.0\n",
       "1970-01-01 00:00:00.030  0.0  0.0  3371.0\n",
       "1970-01-01 00:00:00.040  0.0  0.0  3374.0\n",
       "1970-01-01 00:00:00.050  0.0  0.0  3377.0\n",
       "1970-01-01 00:00:00.060  0.0  0.0  3380.0\n",
       "...                      ...  ...     ...\n",
       "1970-01-01 00:01:02.020  0.0  0.0  6523.0\n",
       "1970-01-01 00:01:02.030  0.0  0.0  6523.0\n",
       "1970-01-01 00:01:02.040  0.0  0.0  6523.0\n",
       "1970-01-01 00:01:02.050  0.0  0.0  6523.0\n",
       "1970-01-01 00:01:02.060  0.0  0.0  6523.0\n",
       "\n",
       "[6205 rows x 3 columns]"
      ]
     },
     "execution_count": 18,
     "metadata": {},
     "output_type": "execute_result"
    }
   ],
   "source": [
    "df3"
   ]
  },
  {
   "cell_type": "code",
   "execution_count": 19,
   "id": "63fb3fe9",
   "metadata": {
    "execution": {
     "iopub.execute_input": "2022-10-04T17:32:09.977468Z",
     "iopub.status.busy": "2022-10-04T17:32:09.976644Z",
     "iopub.status.idle": "2022-10-04T17:32:10.068569Z",
     "shell.execute_reply": "2022-10-04T17:32:10.067696Z"
    },
    "papermill": {
     "duration": 0.109985,
     "end_time": "2022-10-04T17:32:10.071166",
     "exception": false,
     "start_time": "2022-10-04T17:32:09.961181",
     "status": "completed"
    },
    "tags": []
   },
   "outputs": [],
   "source": [
    "C1_BASE = 3  # start from columns 3\n",
    "C1_STEP = 3  # take 3 steps back\n",
    "C1_SIZE = 33 # was 33 in the ETH model\n",
    "\n",
    "C2_BASE = C1_BASE+C1_SIZE  # start from columns 3+5\n",
    "C2_STEP = 3  # take 3 steps back\n",
    "C2_SIZE = 33 # was 33 in the ETH model\n",
    "\n",
    "\n",
    "V_BASE = C1_BASE+C1_SIZE+C2_SIZE \n",
    "V_STEP = 1 # take 1 step back\n",
    "V_SIZE = 10 # was 10 in the ETH model\n",
    "\n",
    "# create columns with past commands\n",
    "for i in range(1,C1_SIZE+1):\n",
    "    df3[C1_BASE+i] = df3['C1'].shift(i*C1_STEP)\n",
    "    df3.rename(columns={C1_BASE+i:'C1-'+ str(i*C1_STEP)}, inplace=True)\n",
    "\n",
    "for i in range(1,C2_SIZE+1):\n",
    "    df3[C2_BASE+i] = df3['C2'].shift(i*C2_STEP)\n",
    "    df3.rename(columns={C2_BASE+i:'C2-'+ str(i*C2_STEP)}, inplace=True)\n",
    "\n",
    "# create velocities from positions\n",
    "df3['V2'] = df3['P2']-df3['P2'].shift(1)\n",
    "\n",
    "# filter velocities\n",
    "df3['V2'] = df3['V2'].rolling(velocity_rolling_length).mean()\n",
    "\n",
    "# create delta velocities from velocities\n",
    "df3['DV2'] = df3['V2']-df3['V2'].shift(1)\n",
    "\n",
    "# create columns with past velocities\n",
    "for i in range(1,V_SIZE+1):\n",
    "    df3[V_BASE+i] = df3['V2'].shift(i*V_STEP)\n",
    "    df3.rename(columns={V_BASE+i:'V2-'+ str(i*V_STEP)}, inplace=True)\n"
   ]
  },
  {
   "cell_type": "code",
   "execution_count": 20,
   "id": "da393f4b",
   "metadata": {
    "execution": {
     "iopub.execute_input": "2022-10-04T17:32:10.102068Z",
     "iopub.status.busy": "2022-10-04T17:32:10.100990Z",
     "iopub.status.idle": "2022-10-04T17:32:10.152903Z",
     "shell.execute_reply": "2022-10-04T17:32:10.151847Z"
    },
    "papermill": {
     "duration": 0.069601,
     "end_time": "2022-10-04T17:32:10.155304",
     "exception": false,
     "start_time": "2022-10-04T17:32:10.085703",
     "status": "completed"
    },
    "tags": []
   },
   "outputs": [
    {
     "data": {
      "text/html": [
       "<div>\n",
       "<style scoped>\n",
       "    .dataframe tbody tr th:only-of-type {\n",
       "        vertical-align: middle;\n",
       "    }\n",
       "\n",
       "    .dataframe tbody tr th {\n",
       "        vertical-align: top;\n",
       "    }\n",
       "\n",
       "    .dataframe thead th {\n",
       "        text-align: right;\n",
       "    }\n",
       "</style>\n",
       "<table border=\"1\" class=\"dataframe\">\n",
       "  <thead>\n",
       "    <tr style=\"text-align: right;\">\n",
       "      <th></th>\n",
       "      <th>C1</th>\n",
       "      <th>C2</th>\n",
       "      <th>P2</th>\n",
       "      <th>C1-3</th>\n",
       "      <th>C1-6</th>\n",
       "      <th>C1-9</th>\n",
       "      <th>C1-12</th>\n",
       "      <th>C1-15</th>\n",
       "      <th>C1-18</th>\n",
       "      <th>C1-21</th>\n",
       "      <th>...</th>\n",
       "      <th>V2-1</th>\n",
       "      <th>V2-2</th>\n",
       "      <th>V2-3</th>\n",
       "      <th>V2-4</th>\n",
       "      <th>V2-5</th>\n",
       "      <th>V2-6</th>\n",
       "      <th>V2-7</th>\n",
       "      <th>V2-8</th>\n",
       "      <th>V2-9</th>\n",
       "      <th>V2-10</th>\n",
       "    </tr>\n",
       "    <tr>\n",
       "      <th>O</th>\n",
       "      <th></th>\n",
       "      <th></th>\n",
       "      <th></th>\n",
       "      <th></th>\n",
       "      <th></th>\n",
       "      <th></th>\n",
       "      <th></th>\n",
       "      <th></th>\n",
       "      <th></th>\n",
       "      <th></th>\n",
       "      <th></th>\n",
       "      <th></th>\n",
       "      <th></th>\n",
       "      <th></th>\n",
       "      <th></th>\n",
       "      <th></th>\n",
       "      <th></th>\n",
       "      <th></th>\n",
       "      <th></th>\n",
       "      <th></th>\n",
       "      <th></th>\n",
       "    </tr>\n",
       "  </thead>\n",
       "  <tbody>\n",
       "    <tr>\n",
       "      <th>1970-01-01 00:00:00.020</th>\n",
       "      <td>0.0</td>\n",
       "      <td>0.0</td>\n",
       "      <td>3369.0</td>\n",
       "      <td>0.0</td>\n",
       "      <td>0.0</td>\n",
       "      <td>0.0</td>\n",
       "      <td>0.0</td>\n",
       "      <td>0.0</td>\n",
       "      <td>0.0</td>\n",
       "      <td>0.0</td>\n",
       "      <td>...</td>\n",
       "      <td>0.0</td>\n",
       "      <td>0.0</td>\n",
       "      <td>0.0</td>\n",
       "      <td>0.0</td>\n",
       "      <td>0.0</td>\n",
       "      <td>0.0</td>\n",
       "      <td>0.0</td>\n",
       "      <td>0.0</td>\n",
       "      <td>0.0</td>\n",
       "      <td>0.0</td>\n",
       "    </tr>\n",
       "    <tr>\n",
       "      <th>1970-01-01 00:00:00.030</th>\n",
       "      <td>0.0</td>\n",
       "      <td>0.0</td>\n",
       "      <td>3371.0</td>\n",
       "      <td>0.0</td>\n",
       "      <td>0.0</td>\n",
       "      <td>0.0</td>\n",
       "      <td>0.0</td>\n",
       "      <td>0.0</td>\n",
       "      <td>0.0</td>\n",
       "      <td>0.0</td>\n",
       "      <td>...</td>\n",
       "      <td>0.0</td>\n",
       "      <td>0.0</td>\n",
       "      <td>0.0</td>\n",
       "      <td>0.0</td>\n",
       "      <td>0.0</td>\n",
       "      <td>0.0</td>\n",
       "      <td>0.0</td>\n",
       "      <td>0.0</td>\n",
       "      <td>0.0</td>\n",
       "      <td>0.0</td>\n",
       "    </tr>\n",
       "    <tr>\n",
       "      <th>1970-01-01 00:00:00.040</th>\n",
       "      <td>0.0</td>\n",
       "      <td>0.0</td>\n",
       "      <td>3374.0</td>\n",
       "      <td>0.0</td>\n",
       "      <td>0.0</td>\n",
       "      <td>0.0</td>\n",
       "      <td>0.0</td>\n",
       "      <td>0.0</td>\n",
       "      <td>0.0</td>\n",
       "      <td>0.0</td>\n",
       "      <td>...</td>\n",
       "      <td>2.0</td>\n",
       "      <td>0.0</td>\n",
       "      <td>0.0</td>\n",
       "      <td>0.0</td>\n",
       "      <td>0.0</td>\n",
       "      <td>0.0</td>\n",
       "      <td>0.0</td>\n",
       "      <td>0.0</td>\n",
       "      <td>0.0</td>\n",
       "      <td>0.0</td>\n",
       "    </tr>\n",
       "    <tr>\n",
       "      <th>1970-01-01 00:00:00.050</th>\n",
       "      <td>0.0</td>\n",
       "      <td>0.0</td>\n",
       "      <td>3377.0</td>\n",
       "      <td>0.0</td>\n",
       "      <td>0.0</td>\n",
       "      <td>0.0</td>\n",
       "      <td>0.0</td>\n",
       "      <td>0.0</td>\n",
       "      <td>0.0</td>\n",
       "      <td>0.0</td>\n",
       "      <td>...</td>\n",
       "      <td>3.0</td>\n",
       "      <td>2.0</td>\n",
       "      <td>0.0</td>\n",
       "      <td>0.0</td>\n",
       "      <td>0.0</td>\n",
       "      <td>0.0</td>\n",
       "      <td>0.0</td>\n",
       "      <td>0.0</td>\n",
       "      <td>0.0</td>\n",
       "      <td>0.0</td>\n",
       "    </tr>\n",
       "    <tr>\n",
       "      <th>1970-01-01 00:00:00.060</th>\n",
       "      <td>0.0</td>\n",
       "      <td>0.0</td>\n",
       "      <td>3380.0</td>\n",
       "      <td>0.0</td>\n",
       "      <td>0.0</td>\n",
       "      <td>0.0</td>\n",
       "      <td>0.0</td>\n",
       "      <td>0.0</td>\n",
       "      <td>0.0</td>\n",
       "      <td>0.0</td>\n",
       "      <td>...</td>\n",
       "      <td>3.0</td>\n",
       "      <td>3.0</td>\n",
       "      <td>2.0</td>\n",
       "      <td>0.0</td>\n",
       "      <td>0.0</td>\n",
       "      <td>0.0</td>\n",
       "      <td>0.0</td>\n",
       "      <td>0.0</td>\n",
       "      <td>0.0</td>\n",
       "      <td>0.0</td>\n",
       "    </tr>\n",
       "    <tr>\n",
       "      <th>...</th>\n",
       "      <td>...</td>\n",
       "      <td>...</td>\n",
       "      <td>...</td>\n",
       "      <td>...</td>\n",
       "      <td>...</td>\n",
       "      <td>...</td>\n",
       "      <td>...</td>\n",
       "      <td>...</td>\n",
       "      <td>...</td>\n",
       "      <td>...</td>\n",
       "      <td>...</td>\n",
       "      <td>...</td>\n",
       "      <td>...</td>\n",
       "      <td>...</td>\n",
       "      <td>...</td>\n",
       "      <td>...</td>\n",
       "      <td>...</td>\n",
       "      <td>...</td>\n",
       "      <td>...</td>\n",
       "      <td>...</td>\n",
       "      <td>...</td>\n",
       "    </tr>\n",
       "    <tr>\n",
       "      <th>1970-01-01 00:01:02.020</th>\n",
       "      <td>0.0</td>\n",
       "      <td>0.0</td>\n",
       "      <td>6523.0</td>\n",
       "      <td>0.0</td>\n",
       "      <td>0.0</td>\n",
       "      <td>0.0</td>\n",
       "      <td>0.0</td>\n",
       "      <td>0.0</td>\n",
       "      <td>0.0</td>\n",
       "      <td>0.0</td>\n",
       "      <td>...</td>\n",
       "      <td>0.0</td>\n",
       "      <td>0.0</td>\n",
       "      <td>0.0</td>\n",
       "      <td>0.0</td>\n",
       "      <td>0.0</td>\n",
       "      <td>0.0</td>\n",
       "      <td>0.0</td>\n",
       "      <td>0.0</td>\n",
       "      <td>0.0</td>\n",
       "      <td>0.0</td>\n",
       "    </tr>\n",
       "    <tr>\n",
       "      <th>1970-01-01 00:01:02.030</th>\n",
       "      <td>0.0</td>\n",
       "      <td>0.0</td>\n",
       "      <td>6523.0</td>\n",
       "      <td>0.0</td>\n",
       "      <td>0.0</td>\n",
       "      <td>0.0</td>\n",
       "      <td>0.0</td>\n",
       "      <td>0.0</td>\n",
       "      <td>0.0</td>\n",
       "      <td>0.0</td>\n",
       "      <td>...</td>\n",
       "      <td>0.0</td>\n",
       "      <td>0.0</td>\n",
       "      <td>0.0</td>\n",
       "      <td>0.0</td>\n",
       "      <td>0.0</td>\n",
       "      <td>0.0</td>\n",
       "      <td>0.0</td>\n",
       "      <td>0.0</td>\n",
       "      <td>0.0</td>\n",
       "      <td>0.0</td>\n",
       "    </tr>\n",
       "    <tr>\n",
       "      <th>1970-01-01 00:01:02.040</th>\n",
       "      <td>0.0</td>\n",
       "      <td>0.0</td>\n",
       "      <td>6523.0</td>\n",
       "      <td>0.0</td>\n",
       "      <td>0.0</td>\n",
       "      <td>0.0</td>\n",
       "      <td>0.0</td>\n",
       "      <td>0.0</td>\n",
       "      <td>0.0</td>\n",
       "      <td>0.0</td>\n",
       "      <td>...</td>\n",
       "      <td>0.0</td>\n",
       "      <td>0.0</td>\n",
       "      <td>0.0</td>\n",
       "      <td>0.0</td>\n",
       "      <td>0.0</td>\n",
       "      <td>0.0</td>\n",
       "      <td>0.0</td>\n",
       "      <td>0.0</td>\n",
       "      <td>0.0</td>\n",
       "      <td>0.0</td>\n",
       "    </tr>\n",
       "    <tr>\n",
       "      <th>1970-01-01 00:01:02.050</th>\n",
       "      <td>0.0</td>\n",
       "      <td>0.0</td>\n",
       "      <td>6523.0</td>\n",
       "      <td>0.0</td>\n",
       "      <td>0.0</td>\n",
       "      <td>0.0</td>\n",
       "      <td>0.0</td>\n",
       "      <td>0.0</td>\n",
       "      <td>0.0</td>\n",
       "      <td>0.0</td>\n",
       "      <td>...</td>\n",
       "      <td>0.0</td>\n",
       "      <td>0.0</td>\n",
       "      <td>0.0</td>\n",
       "      <td>0.0</td>\n",
       "      <td>0.0</td>\n",
       "      <td>0.0</td>\n",
       "      <td>0.0</td>\n",
       "      <td>0.0</td>\n",
       "      <td>0.0</td>\n",
       "      <td>0.0</td>\n",
       "    </tr>\n",
       "    <tr>\n",
       "      <th>1970-01-01 00:01:02.060</th>\n",
       "      <td>0.0</td>\n",
       "      <td>0.0</td>\n",
       "      <td>6523.0</td>\n",
       "      <td>0.0</td>\n",
       "      <td>0.0</td>\n",
       "      <td>0.0</td>\n",
       "      <td>0.0</td>\n",
       "      <td>0.0</td>\n",
       "      <td>0.0</td>\n",
       "      <td>0.0</td>\n",
       "      <td>...</td>\n",
       "      <td>0.0</td>\n",
       "      <td>0.0</td>\n",
       "      <td>0.0</td>\n",
       "      <td>0.0</td>\n",
       "      <td>0.0</td>\n",
       "      <td>0.0</td>\n",
       "      <td>0.0</td>\n",
       "      <td>0.0</td>\n",
       "      <td>0.0</td>\n",
       "      <td>0.0</td>\n",
       "    </tr>\n",
       "  </tbody>\n",
       "</table>\n",
       "<p>6205 rows × 81 columns</p>\n",
       "</div>"
      ],
      "text/plain": [
       "                          C1   C2      P2  C1-3  C1-6  C1-9  C1-12  C1-15  \\\n",
       "O                                                                           \n",
       "1970-01-01 00:00:00.020  0.0  0.0  3369.0   0.0   0.0   0.0    0.0    0.0   \n",
       "1970-01-01 00:00:00.030  0.0  0.0  3371.0   0.0   0.0   0.0    0.0    0.0   \n",
       "1970-01-01 00:00:00.040  0.0  0.0  3374.0   0.0   0.0   0.0    0.0    0.0   \n",
       "1970-01-01 00:00:00.050  0.0  0.0  3377.0   0.0   0.0   0.0    0.0    0.0   \n",
       "1970-01-01 00:00:00.060  0.0  0.0  3380.0   0.0   0.0   0.0    0.0    0.0   \n",
       "...                      ...  ...     ...   ...   ...   ...    ...    ...   \n",
       "1970-01-01 00:01:02.020  0.0  0.0  6523.0   0.0   0.0   0.0    0.0    0.0   \n",
       "1970-01-01 00:01:02.030  0.0  0.0  6523.0   0.0   0.0   0.0    0.0    0.0   \n",
       "1970-01-01 00:01:02.040  0.0  0.0  6523.0   0.0   0.0   0.0    0.0    0.0   \n",
       "1970-01-01 00:01:02.050  0.0  0.0  6523.0   0.0   0.0   0.0    0.0    0.0   \n",
       "1970-01-01 00:01:02.060  0.0  0.0  6523.0   0.0   0.0   0.0    0.0    0.0   \n",
       "\n",
       "                         C1-18  C1-21  ...  V2-1  V2-2  V2-3  V2-4  V2-5  \\\n",
       "O                                      ...                                 \n",
       "1970-01-01 00:00:00.020    0.0    0.0  ...   0.0   0.0   0.0   0.0   0.0   \n",
       "1970-01-01 00:00:00.030    0.0    0.0  ...   0.0   0.0   0.0   0.0   0.0   \n",
       "1970-01-01 00:00:00.040    0.0    0.0  ...   2.0   0.0   0.0   0.0   0.0   \n",
       "1970-01-01 00:00:00.050    0.0    0.0  ...   3.0   2.0   0.0   0.0   0.0   \n",
       "1970-01-01 00:00:00.060    0.0    0.0  ...   3.0   3.0   2.0   0.0   0.0   \n",
       "...                        ...    ...  ...   ...   ...   ...   ...   ...   \n",
       "1970-01-01 00:01:02.020    0.0    0.0  ...   0.0   0.0   0.0   0.0   0.0   \n",
       "1970-01-01 00:01:02.030    0.0    0.0  ...   0.0   0.0   0.0   0.0   0.0   \n",
       "1970-01-01 00:01:02.040    0.0    0.0  ...   0.0   0.0   0.0   0.0   0.0   \n",
       "1970-01-01 00:01:02.050    0.0    0.0  ...   0.0   0.0   0.0   0.0   0.0   \n",
       "1970-01-01 00:01:02.060    0.0    0.0  ...   0.0   0.0   0.0   0.0   0.0   \n",
       "\n",
       "                         V2-6  V2-7  V2-8  V2-9  V2-10  \n",
       "O                                                       \n",
       "1970-01-01 00:00:00.020   0.0   0.0   0.0   0.0    0.0  \n",
       "1970-01-01 00:00:00.030   0.0   0.0   0.0   0.0    0.0  \n",
       "1970-01-01 00:00:00.040   0.0   0.0   0.0   0.0    0.0  \n",
       "1970-01-01 00:00:00.050   0.0   0.0   0.0   0.0    0.0  \n",
       "1970-01-01 00:00:00.060   0.0   0.0   0.0   0.0    0.0  \n",
       "...                       ...   ...   ...   ...    ...  \n",
       "1970-01-01 00:01:02.020   0.0   0.0   0.0   0.0    0.0  \n",
       "1970-01-01 00:01:02.030   0.0   0.0   0.0   0.0    0.0  \n",
       "1970-01-01 00:01:02.040   0.0   0.0   0.0   0.0    0.0  \n",
       "1970-01-01 00:01:02.050   0.0   0.0   0.0   0.0    0.0  \n",
       "1970-01-01 00:01:02.060   0.0   0.0   0.0   0.0    0.0  \n",
       "\n",
       "[6205 rows x 81 columns]"
      ]
     },
     "execution_count": 20,
     "metadata": {},
     "output_type": "execute_result"
    }
   ],
   "source": [
    "df3 = df3.fillna(0)\n",
    "df3"
   ]
  },
  {
   "cell_type": "markdown",
   "id": "0358b960",
   "metadata": {
    "papermill": {
     "duration": 0.01536,
     "end_time": "2022-10-04T17:32:10.186425",
     "exception": false,
     "start_time": "2022-10-04T17:32:10.171065",
     "status": "completed"
    },
    "tags": []
   },
   "source": [
    "# Use KERAS"
   ]
  },
  {
   "cell_type": "code",
   "execution_count": 21,
   "id": "893c4746",
   "metadata": {
    "execution": {
     "iopub.execute_input": "2022-10-04T17:32:10.219145Z",
     "iopub.status.busy": "2022-10-04T17:32:10.218004Z",
     "iopub.status.idle": "2022-10-04T17:32:16.053121Z",
     "shell.execute_reply": "2022-10-04T17:32:16.051792Z"
    },
    "papermill": {
     "duration": 5.854575,
     "end_time": "2022-10-04T17:32:16.055581",
     "exception": false,
     "start_time": "2022-10-04T17:32:10.201006",
     "status": "completed"
    },
    "tags": []
   },
   "outputs": [
    {
     "name": "stdout",
     "output_type": "stream",
     "text": [
      "2.6.4\n"
     ]
    }
   ],
   "source": [
    "import tensorflow as tf\n",
    "\n",
    "from tensorflow import keras\n",
    "from tensorflow.keras import layers\n",
    "\n",
    "print(tf.__version__)"
   ]
  },
  {
   "cell_type": "code",
   "execution_count": 22,
   "id": "8e3377cd",
   "metadata": {
    "execution": {
     "iopub.execute_input": "2022-10-04T17:32:16.090057Z",
     "iopub.status.busy": "2022-10-04T17:32:16.088474Z",
     "iopub.status.idle": "2022-10-04T17:32:16.097253Z",
     "shell.execute_reply": "2022-10-04T17:32:16.096219Z"
    },
    "papermill": {
     "duration": 0.027942,
     "end_time": "2022-10-04T17:32:16.100118",
     "exception": false,
     "start_time": "2022-10-04T17:32:16.072176",
     "status": "completed"
    },
    "tags": []
   },
   "outputs": [],
   "source": [
    "keras_dataset=df3.copy()"
   ]
  },
  {
   "cell_type": "code",
   "execution_count": 23,
   "id": "1dd37b52",
   "metadata": {
    "execution": {
     "iopub.execute_input": "2022-10-04T17:32:16.138162Z",
     "iopub.status.busy": "2022-10-04T17:32:16.137303Z",
     "iopub.status.idle": "2022-10-04T17:32:16.176529Z",
     "shell.execute_reply": "2022-10-04T17:32:16.175683Z"
    },
    "papermill": {
     "duration": 0.063144,
     "end_time": "2022-10-04T17:32:16.179434",
     "exception": false,
     "start_time": "2022-10-04T17:32:16.116290",
     "status": "completed"
    },
    "tags": []
   },
   "outputs": [],
   "source": [
    "# split dataset in train and test\n",
    "train_dataset = keras_dataset.sample(frac=0.8, random_state=0)\n",
    "test_dataset = keras_dataset.drop(train_dataset.index)\n",
    "\n",
    "# extract features and labels into separate arrays\n",
    "train_features = train_dataset.copy()\n",
    "train_features = train_features.drop(labels_column_names, axis=1)\n",
    "train_labels = train_dataset.loc[:, labels_column_names]\n",
    "\n",
    "test_features = test_dataset.copy()\n",
    "test_features = test_features.drop(labels_column_names, axis=1)\n",
    "test_labels = test_dataset.loc[:, labels_column_names]"
   ]
  },
  {
   "cell_type": "code",
   "execution_count": 24,
   "id": "e11de105",
   "metadata": {
    "execution": {
     "iopub.execute_input": "2022-10-04T17:32:16.218085Z",
     "iopub.status.busy": "2022-10-04T17:32:16.217146Z",
     "iopub.status.idle": "2022-10-04T17:32:16.267969Z",
     "shell.execute_reply": "2022-10-04T17:32:16.266850Z"
    },
    "papermill": {
     "duration": 0.070126,
     "end_time": "2022-10-04T17:32:16.270824",
     "exception": false,
     "start_time": "2022-10-04T17:32:16.200698",
     "status": "completed"
    },
    "tags": []
   },
   "outputs": [
    {
     "data": {
      "text/html": [
       "<div>\n",
       "<style scoped>\n",
       "    .dataframe tbody tr th:only-of-type {\n",
       "        vertical-align: middle;\n",
       "    }\n",
       "\n",
       "    .dataframe tbody tr th {\n",
       "        vertical-align: top;\n",
       "    }\n",
       "\n",
       "    .dataframe thead th {\n",
       "        text-align: right;\n",
       "    }\n",
       "</style>\n",
       "<table border=\"1\" class=\"dataframe\">\n",
       "  <thead>\n",
       "    <tr style=\"text-align: right;\">\n",
       "      <th></th>\n",
       "      <th>C1</th>\n",
       "      <th>C2</th>\n",
       "      <th>P2</th>\n",
       "      <th>C1-3</th>\n",
       "      <th>C1-6</th>\n",
       "      <th>C1-9</th>\n",
       "      <th>C1-12</th>\n",
       "      <th>C1-15</th>\n",
       "      <th>C1-18</th>\n",
       "      <th>C1-21</th>\n",
       "      <th>...</th>\n",
       "      <th>V2-1</th>\n",
       "      <th>V2-2</th>\n",
       "      <th>V2-3</th>\n",
       "      <th>V2-4</th>\n",
       "      <th>V2-5</th>\n",
       "      <th>V2-6</th>\n",
       "      <th>V2-7</th>\n",
       "      <th>V2-8</th>\n",
       "      <th>V2-9</th>\n",
       "      <th>V2-10</th>\n",
       "    </tr>\n",
       "    <tr>\n",
       "      <th>O</th>\n",
       "      <th></th>\n",
       "      <th></th>\n",
       "      <th></th>\n",
       "      <th></th>\n",
       "      <th></th>\n",
       "      <th></th>\n",
       "      <th></th>\n",
       "      <th></th>\n",
       "      <th></th>\n",
       "      <th></th>\n",
       "      <th></th>\n",
       "      <th></th>\n",
       "      <th></th>\n",
       "      <th></th>\n",
       "      <th></th>\n",
       "      <th></th>\n",
       "      <th></th>\n",
       "      <th></th>\n",
       "      <th></th>\n",
       "      <th></th>\n",
       "      <th></th>\n",
       "    </tr>\n",
       "  </thead>\n",
       "  <tbody>\n",
       "    <tr>\n",
       "      <th>1970-01-01 00:00:15.970</th>\n",
       "      <td>0.0</td>\n",
       "      <td>0.0</td>\n",
       "      <td>3544.0</td>\n",
       "      <td>0.0</td>\n",
       "      <td>0.0</td>\n",
       "      <td>0.0</td>\n",
       "      <td>0.0</td>\n",
       "      <td>0.0</td>\n",
       "      <td>0.0</td>\n",
       "      <td>0.0</td>\n",
       "      <td>...</td>\n",
       "      <td>-1.0</td>\n",
       "      <td>-1.0</td>\n",
       "      <td>0.0</td>\n",
       "      <td>0.0</td>\n",
       "      <td>0.0</td>\n",
       "      <td>0.0</td>\n",
       "      <td>0.0</td>\n",
       "      <td>-1.0</td>\n",
       "      <td>-1.0</td>\n",
       "      <td>-2.0</td>\n",
       "    </tr>\n",
       "    <tr>\n",
       "      <th>1970-01-01 00:00:41.850</th>\n",
       "      <td>0.0</td>\n",
       "      <td>-164.0</td>\n",
       "      <td>6010.0</td>\n",
       "      <td>0.0</td>\n",
       "      <td>0.0</td>\n",
       "      <td>0.0</td>\n",
       "      <td>0.0</td>\n",
       "      <td>0.0</td>\n",
       "      <td>0.0</td>\n",
       "      <td>0.0</td>\n",
       "      <td>...</td>\n",
       "      <td>-13.0</td>\n",
       "      <td>-14.0</td>\n",
       "      <td>-15.0</td>\n",
       "      <td>-15.0</td>\n",
       "      <td>-16.0</td>\n",
       "      <td>-15.0</td>\n",
       "      <td>-16.0</td>\n",
       "      <td>-15.0</td>\n",
       "      <td>-16.0</td>\n",
       "      <td>-14.0</td>\n",
       "    </tr>\n",
       "    <tr>\n",
       "      <th>1970-01-01 00:01:01.980</th>\n",
       "      <td>0.0</td>\n",
       "      <td>0.0</td>\n",
       "      <td>6523.0</td>\n",
       "      <td>0.0</td>\n",
       "      <td>0.0</td>\n",
       "      <td>0.0</td>\n",
       "      <td>0.0</td>\n",
       "      <td>0.0</td>\n",
       "      <td>0.0</td>\n",
       "      <td>0.0</td>\n",
       "      <td>...</td>\n",
       "      <td>0.0</td>\n",
       "      <td>0.0</td>\n",
       "      <td>0.0</td>\n",
       "      <td>0.0</td>\n",
       "      <td>0.0</td>\n",
       "      <td>0.0</td>\n",
       "      <td>0.0</td>\n",
       "      <td>0.0</td>\n",
       "      <td>0.0</td>\n",
       "      <td>0.0</td>\n",
       "    </tr>\n",
       "    <tr>\n",
       "      <th>1970-01-01 00:00:11.620</th>\n",
       "      <td>0.0</td>\n",
       "      <td>0.0</td>\n",
       "      <td>3512.0</td>\n",
       "      <td>0.0</td>\n",
       "      <td>0.0</td>\n",
       "      <td>0.0</td>\n",
       "      <td>0.0</td>\n",
       "      <td>0.0</td>\n",
       "      <td>0.0</td>\n",
       "      <td>0.0</td>\n",
       "      <td>...</td>\n",
       "      <td>0.0</td>\n",
       "      <td>0.0</td>\n",
       "      <td>0.0</td>\n",
       "      <td>0.0</td>\n",
       "      <td>0.0</td>\n",
       "      <td>0.0</td>\n",
       "      <td>0.0</td>\n",
       "      <td>0.0</td>\n",
       "      <td>1.0</td>\n",
       "      <td>-1.0</td>\n",
       "    </tr>\n",
       "    <tr>\n",
       "      <th>1970-01-01 00:00:24.500</th>\n",
       "      <td>1000.0</td>\n",
       "      <td>0.0</td>\n",
       "      <td>3542.0</td>\n",
       "      <td>1000.0</td>\n",
       "      <td>1000.0</td>\n",
       "      <td>1000.0</td>\n",
       "      <td>1000.0</td>\n",
       "      <td>1000.0</td>\n",
       "      <td>1000.0</td>\n",
       "      <td>1000.0</td>\n",
       "      <td>...</td>\n",
       "      <td>6.0</td>\n",
       "      <td>6.0</td>\n",
       "      <td>5.0</td>\n",
       "      <td>6.0</td>\n",
       "      <td>6.0</td>\n",
       "      <td>6.0</td>\n",
       "      <td>6.0</td>\n",
       "      <td>6.0</td>\n",
       "      <td>6.0</td>\n",
       "      <td>6.0</td>\n",
       "    </tr>\n",
       "    <tr>\n",
       "      <th>...</th>\n",
       "      <td>...</td>\n",
       "      <td>...</td>\n",
       "      <td>...</td>\n",
       "      <td>...</td>\n",
       "      <td>...</td>\n",
       "      <td>...</td>\n",
       "      <td>...</td>\n",
       "      <td>...</td>\n",
       "      <td>...</td>\n",
       "      <td>...</td>\n",
       "      <td>...</td>\n",
       "      <td>...</td>\n",
       "      <td>...</td>\n",
       "      <td>...</td>\n",
       "      <td>...</td>\n",
       "      <td>...</td>\n",
       "      <td>...</td>\n",
       "      <td>...</td>\n",
       "      <td>...</td>\n",
       "      <td>...</td>\n",
       "      <td>...</td>\n",
       "    </tr>\n",
       "    <tr>\n",
       "      <th>1970-01-01 00:00:50.370</th>\n",
       "      <td>-311.0</td>\n",
       "      <td>1000.0</td>\n",
       "      <td>7223.0</td>\n",
       "      <td>-331.0</td>\n",
       "      <td>-340.0</td>\n",
       "      <td>-341.0</td>\n",
       "      <td>-342.0</td>\n",
       "      <td>-343.0</td>\n",
       "      <td>-342.0</td>\n",
       "      <td>-341.0</td>\n",
       "      <td>...</td>\n",
       "      <td>6.0</td>\n",
       "      <td>5.0</td>\n",
       "      <td>3.0</td>\n",
       "      <td>7.0</td>\n",
       "      <td>6.0</td>\n",
       "      <td>3.0</td>\n",
       "      <td>10.0</td>\n",
       "      <td>10.0</td>\n",
       "      <td>10.0</td>\n",
       "      <td>13.0</td>\n",
       "    </tr>\n",
       "    <tr>\n",
       "      <th>1970-01-01 00:00:55.550</th>\n",
       "      <td>0.0</td>\n",
       "      <td>0.0</td>\n",
       "      <td>6562.0</td>\n",
       "      <td>0.0</td>\n",
       "      <td>0.0</td>\n",
       "      <td>0.0</td>\n",
       "      <td>0.0</td>\n",
       "      <td>0.0</td>\n",
       "      <td>0.0</td>\n",
       "      <td>0.0</td>\n",
       "      <td>...</td>\n",
       "      <td>0.0</td>\n",
       "      <td>2.0</td>\n",
       "      <td>0.0</td>\n",
       "      <td>-1.0</td>\n",
       "      <td>0.0</td>\n",
       "      <td>4.0</td>\n",
       "      <td>0.0</td>\n",
       "      <td>5.0</td>\n",
       "      <td>7.0</td>\n",
       "      <td>6.0</td>\n",
       "    </tr>\n",
       "    <tr>\n",
       "      <th>1970-01-01 00:01:01.870</th>\n",
       "      <td>0.0</td>\n",
       "      <td>0.0</td>\n",
       "      <td>6523.0</td>\n",
       "      <td>0.0</td>\n",
       "      <td>0.0</td>\n",
       "      <td>0.0</td>\n",
       "      <td>0.0</td>\n",
       "      <td>0.0</td>\n",
       "      <td>0.0</td>\n",
       "      <td>0.0</td>\n",
       "      <td>...</td>\n",
       "      <td>0.0</td>\n",
       "      <td>0.0</td>\n",
       "      <td>0.0</td>\n",
       "      <td>0.0</td>\n",
       "      <td>0.0</td>\n",
       "      <td>0.0</td>\n",
       "      <td>0.0</td>\n",
       "      <td>0.0</td>\n",
       "      <td>0.0</td>\n",
       "      <td>0.0</td>\n",
       "    </tr>\n",
       "    <tr>\n",
       "      <th>1970-01-01 00:00:54.180</th>\n",
       "      <td>-652.0</td>\n",
       "      <td>1000.0</td>\n",
       "      <td>6538.0</td>\n",
       "      <td>-651.0</td>\n",
       "      <td>-654.0</td>\n",
       "      <td>-652.0</td>\n",
       "      <td>-652.0</td>\n",
       "      <td>-695.0</td>\n",
       "      <td>-732.0</td>\n",
       "      <td>-824.0</td>\n",
       "      <td>...</td>\n",
       "      <td>-5.0</td>\n",
       "      <td>-5.0</td>\n",
       "      <td>-6.0</td>\n",
       "      <td>-6.0</td>\n",
       "      <td>-6.0</td>\n",
       "      <td>-5.0</td>\n",
       "      <td>-6.0</td>\n",
       "      <td>-8.0</td>\n",
       "      <td>-9.0</td>\n",
       "      <td>-9.0</td>\n",
       "    </tr>\n",
       "    <tr>\n",
       "      <th>1970-01-01 00:00:02.410</th>\n",
       "      <td>0.0</td>\n",
       "      <td>0.0</td>\n",
       "      <td>3377.0</td>\n",
       "      <td>0.0</td>\n",
       "      <td>0.0</td>\n",
       "      <td>0.0</td>\n",
       "      <td>0.0</td>\n",
       "      <td>0.0</td>\n",
       "      <td>0.0</td>\n",
       "      <td>0.0</td>\n",
       "      <td>...</td>\n",
       "      <td>0.0</td>\n",
       "      <td>-1.0</td>\n",
       "      <td>0.0</td>\n",
       "      <td>-2.0</td>\n",
       "      <td>0.0</td>\n",
       "      <td>-1.0</td>\n",
       "      <td>-1.0</td>\n",
       "      <td>-2.0</td>\n",
       "      <td>0.0</td>\n",
       "      <td>-2.0</td>\n",
       "    </tr>\n",
       "  </tbody>\n",
       "</table>\n",
       "<p>4964 rows × 80 columns</p>\n",
       "</div>"
      ],
      "text/plain": [
       "                             C1      C2      P2    C1-3    C1-6    C1-9  \\\n",
       "O                                                                         \n",
       "1970-01-01 00:00:15.970     0.0     0.0  3544.0     0.0     0.0     0.0   \n",
       "1970-01-01 00:00:41.850     0.0  -164.0  6010.0     0.0     0.0     0.0   \n",
       "1970-01-01 00:01:01.980     0.0     0.0  6523.0     0.0     0.0     0.0   \n",
       "1970-01-01 00:00:11.620     0.0     0.0  3512.0     0.0     0.0     0.0   \n",
       "1970-01-01 00:00:24.500  1000.0     0.0  3542.0  1000.0  1000.0  1000.0   \n",
       "...                         ...     ...     ...     ...     ...     ...   \n",
       "1970-01-01 00:00:50.370  -311.0  1000.0  7223.0  -331.0  -340.0  -341.0   \n",
       "1970-01-01 00:00:55.550     0.0     0.0  6562.0     0.0     0.0     0.0   \n",
       "1970-01-01 00:01:01.870     0.0     0.0  6523.0     0.0     0.0     0.0   \n",
       "1970-01-01 00:00:54.180  -652.0  1000.0  6538.0  -651.0  -654.0  -652.0   \n",
       "1970-01-01 00:00:02.410     0.0     0.0  3377.0     0.0     0.0     0.0   \n",
       "\n",
       "                          C1-12   C1-15   C1-18   C1-21  ...  V2-1  V2-2  \\\n",
       "O                                                        ...               \n",
       "1970-01-01 00:00:15.970     0.0     0.0     0.0     0.0  ...  -1.0  -1.0   \n",
       "1970-01-01 00:00:41.850     0.0     0.0     0.0     0.0  ... -13.0 -14.0   \n",
       "1970-01-01 00:01:01.980     0.0     0.0     0.0     0.0  ...   0.0   0.0   \n",
       "1970-01-01 00:00:11.620     0.0     0.0     0.0     0.0  ...   0.0   0.0   \n",
       "1970-01-01 00:00:24.500  1000.0  1000.0  1000.0  1000.0  ...   6.0   6.0   \n",
       "...                         ...     ...     ...     ...  ...   ...   ...   \n",
       "1970-01-01 00:00:50.370  -342.0  -343.0  -342.0  -341.0  ...   6.0   5.0   \n",
       "1970-01-01 00:00:55.550     0.0     0.0     0.0     0.0  ...   0.0   2.0   \n",
       "1970-01-01 00:01:01.870     0.0     0.0     0.0     0.0  ...   0.0   0.0   \n",
       "1970-01-01 00:00:54.180  -652.0  -695.0  -732.0  -824.0  ...  -5.0  -5.0   \n",
       "1970-01-01 00:00:02.410     0.0     0.0     0.0     0.0  ...   0.0  -1.0   \n",
       "\n",
       "                         V2-3  V2-4  V2-5  V2-6  V2-7  V2-8  V2-9  V2-10  \n",
       "O                                                                         \n",
       "1970-01-01 00:00:15.970   0.0   0.0   0.0   0.0   0.0  -1.0  -1.0   -2.0  \n",
       "1970-01-01 00:00:41.850 -15.0 -15.0 -16.0 -15.0 -16.0 -15.0 -16.0  -14.0  \n",
       "1970-01-01 00:01:01.980   0.0   0.0   0.0   0.0   0.0   0.0   0.0    0.0  \n",
       "1970-01-01 00:00:11.620   0.0   0.0   0.0   0.0   0.0   0.0   1.0   -1.0  \n",
       "1970-01-01 00:00:24.500   5.0   6.0   6.0   6.0   6.0   6.0   6.0    6.0  \n",
       "...                       ...   ...   ...   ...   ...   ...   ...    ...  \n",
       "1970-01-01 00:00:50.370   3.0   7.0   6.0   3.0  10.0  10.0  10.0   13.0  \n",
       "1970-01-01 00:00:55.550   0.0  -1.0   0.0   4.0   0.0   5.0   7.0    6.0  \n",
       "1970-01-01 00:01:01.870   0.0   0.0   0.0   0.0   0.0   0.0   0.0    0.0  \n",
       "1970-01-01 00:00:54.180  -6.0  -6.0  -6.0  -5.0  -6.0  -8.0  -9.0   -9.0  \n",
       "1970-01-01 00:00:02.410   0.0  -2.0   0.0  -1.0  -1.0  -2.0   0.0   -2.0  \n",
       "\n",
       "[4964 rows x 80 columns]"
      ]
     },
     "execution_count": 24,
     "metadata": {},
     "output_type": "execute_result"
    }
   ],
   "source": [
    "train_features"
   ]
  },
  {
   "cell_type": "markdown",
   "id": "0201746a",
   "metadata": {
    "papermill": {
     "duration": 0.015094,
     "end_time": "2022-10-04T17:32:16.307512",
     "exception": false,
     "start_time": "2022-10-04T17:32:16.292418",
     "status": "completed"
    },
    "tags": []
   },
   "source": [
    "## Normalization"
   ]
  },
  {
   "cell_type": "code",
   "execution_count": 25,
   "id": "7106ce1a",
   "metadata": {
    "execution": {
     "iopub.execute_input": "2022-10-04T17:32:16.341584Z",
     "iopub.status.busy": "2022-10-04T17:32:16.340600Z",
     "iopub.status.idle": "2022-10-04T17:32:17.010100Z",
     "shell.execute_reply": "2022-10-04T17:32:17.009299Z"
    },
    "papermill": {
     "duration": 0.689861,
     "end_time": "2022-10-04T17:32:17.012734",
     "exception": false,
     "start_time": "2022-10-04T17:32:16.322873",
     "status": "completed"
    },
    "tags": []
   },
   "outputs": [
    {
     "name": "stderr",
     "output_type": "stream",
     "text": [
      "2022-10-04 17:32:16.558408: I tensorflow/core/common_runtime/process_util.cc:146] Creating new thread pool with default inter op setting: 2. Tune using inter_op_parallelism_threads for best performance.\n",
      "2022-10-04 17:32:16.649236: I tensorflow/compiler/mlir/mlir_graph_optimization_pass.cc:185] None of the MLIR Optimization Passes are enabled (registered 2)\n"
     ]
    },
    {
     "name": "stdout",
     "output_type": "stream",
     "text": [
      "[[3.7551159e+01 5.4985912e+01 4.8341089e+03 3.6776981e+01 3.6354160e+01\n",
      "  3.6044533e+01 3.6346508e+01 3.7081997e+01 3.7562244e+01 3.8153721e+01\n",
      "  3.8720585e+01 3.9161968e+01 3.8374695e+01 3.8245152e+01 3.7686340e+01\n",
      "  3.7390209e+01 3.7327953e+01 3.6684727e+01 3.5890404e+01 3.6096096e+01\n",
      "  3.6632740e+01 3.6679512e+01 3.6393024e+01 3.6371475e+01 3.6089851e+01\n",
      "  3.6449024e+01 3.7008457e+01 3.8121273e+01 3.8234486e+01 3.7886379e+01\n",
      "  3.7845890e+01 3.8004230e+01 3.8122482e+01 3.7883980e+01 3.7752644e+01\n",
      "  3.7174473e+01 5.5782833e+01 5.7036057e+01 5.7556622e+01 5.7706295e+01\n",
      "  5.6933098e+01 5.6994179e+01 5.6663593e+01 5.6723217e+01 5.6735092e+01\n",
      "  5.6743767e+01 5.6278599e+01 5.5981068e+01 5.5608181e+01 5.5746761e+01\n",
      "  5.5644466e+01 5.5302780e+01 5.5282036e+01 5.5073730e+01 5.4836063e+01\n",
      "  5.4358368e+01 5.4066071e+01 5.3980286e+01 5.3739731e+01 5.4231274e+01\n",
      "  5.4585205e+01 5.4815063e+01 5.5244160e+01 5.5491718e+01 5.5818691e+01\n",
      "  5.5974216e+01 5.6112411e+01 5.6337444e+01 5.6119457e+01 5.1954103e-01\n",
      "  5.4472238e-01 5.4351324e-01 5.0261879e-01 5.4391623e-01 5.5298167e-01\n",
      "  5.5056411e-01 5.5056405e-01 5.5761451e-01 5.7896882e-01 5.6607586e-01]]\n"
     ]
    }
   ],
   "source": [
    "# show train_dataset mean and std\n",
    "train_dataset.describe().transpose()\n",
    "\n",
    "# create a Normalization layer\n",
    "normalizer = tf.keras.layers.Normalization(axis=-1)  # many variables\n",
    "# normalizer = tf.keras.layers.Normalization(input_shape=[1,], axis=None) #one variable\n",
    "\n",
    "# set mean and std for Normalization layer\n",
    "normalizer.adapt(np.array(train_features))\n",
    "print(normalizer.mean.numpy())"
   ]
  },
  {
   "cell_type": "markdown",
   "id": "40705ea0",
   "metadata": {
    "papermill": {
     "duration": 0.014947,
     "end_time": "2022-10-04T17:32:17.043147",
     "exception": false,
     "start_time": "2022-10-04T17:32:17.028200",
     "status": "completed"
    },
    "tags": []
   },
   "source": [
    "## Utility functions"
   ]
  },
  {
   "cell_type": "code",
   "execution_count": 26,
   "id": "7cd68f11",
   "metadata": {
    "execution": {
     "iopub.execute_input": "2022-10-04T17:32:17.075591Z",
     "iopub.status.busy": "2022-10-04T17:32:17.075223Z",
     "iopub.status.idle": "2022-10-04T17:32:17.080791Z",
     "shell.execute_reply": "2022-10-04T17:32:17.079734Z"
    },
    "papermill": {
     "duration": 0.024421,
     "end_time": "2022-10-04T17:32:17.083001",
     "exception": false,
     "start_time": "2022-10-04T17:32:17.058580",
     "status": "completed"
    },
    "tags": []
   },
   "outputs": [],
   "source": [
    "def plot_loss(history, ymax=100):\n",
    "  plt.plot(history.history['loss'], label='loss')\n",
    "  plt.plot(history.history['val_loss'], label='val_loss')\n",
    "  plt.ylim([0, ymax])\n",
    "  plt.xlabel('Epoch')\n",
    "  plt.ylabel('Error [y]')\n",
    "  plt.legend()\n",
    "  plt.grid(True)"
   ]
  },
  {
   "cell_type": "markdown",
   "id": "745221fa",
   "metadata": {
    "papermill": {
     "duration": 0.014707,
     "end_time": "2022-10-04T17:32:17.112663",
     "exception": false,
     "start_time": "2022-10-04T17:32:17.097956",
     "status": "completed"
    },
    "tags": []
   },
   "source": [
    "## Regression using a DNN"
   ]
  },
  {
   "cell_type": "code",
   "execution_count": 27,
   "id": "3c1ee556",
   "metadata": {
    "execution": {
     "iopub.execute_input": "2022-10-04T17:32:17.144992Z",
     "iopub.status.busy": "2022-10-04T17:32:17.144555Z",
     "iopub.status.idle": "2022-10-04T17:32:17.209908Z",
     "shell.execute_reply": "2022-10-04T17:32:17.208257Z"
    },
    "papermill": {
     "duration": 0.084333,
     "end_time": "2022-10-04T17:32:17.212177",
     "exception": false,
     "start_time": "2022-10-04T17:32:17.127844",
     "status": "completed"
    },
    "tags": []
   },
   "outputs": [
    {
     "name": "stdout",
     "output_type": "stream",
     "text": [
      "Model: \"sequential\"\n",
      "_________________________________________________________________\n",
      "Layer (type)                 Output Shape              Param #   \n",
      "=================================================================\n",
      "normalization (Normalization (None, 80)                161       \n",
      "_________________________________________________________________\n",
      "dense (Dense)                (None, 128)               10368     \n",
      "_________________________________________________________________\n",
      "dense_1 (Dense)              (None, 128)               16512     \n",
      "_________________________________________________________________\n",
      "dense_2 (Dense)              (None, 128)               16512     \n",
      "_________________________________________________________________\n",
      "dense_3 (Dense)              (None, 1)                 129       \n",
      "=================================================================\n",
      "Total params: 43,682\n",
      "Trainable params: 43,521\n",
      "Non-trainable params: 161\n",
      "_________________________________________________________________\n"
     ]
    }
   ],
   "source": [
    "# create keras model\n",
    "\n",
    "dnn_model = keras.Sequential([\n",
    "      normalizer,\n",
    "      layers.Dense(units=128, activation='relu'),\n",
    "      layers.Dense(units = 128, activation='relu'),\n",
    "      layers.Dense(units=128, activation='relu'),\n",
    "      layers.Dense(output_dimension)\n",
    "  ])\n",
    "\n",
    "dnn_model.compile(loss='mean_absolute_error',\n",
    "                optimizer=tf.keras.optimizers.Adam(0.001))\n",
    "dnn_model.summary()"
   ]
  },
  {
   "cell_type": "code",
   "execution_count": 28,
   "id": "b57b33c6",
   "metadata": {
    "execution": {
     "iopub.execute_input": "2022-10-04T17:32:17.244982Z",
     "iopub.status.busy": "2022-10-04T17:32:17.244571Z",
     "iopub.status.idle": "2022-10-04T17:32:20.987107Z",
     "shell.execute_reply": "2022-10-04T17:32:20.986176Z"
    },
    "papermill": {
     "duration": 3.761962,
     "end_time": "2022-10-04T17:32:20.989681",
     "exception": false,
     "start_time": "2022-10-04T17:32:17.227719",
     "status": "completed"
    },
    "tags": []
   },
   "outputs": [],
   "source": [
    "# train keras model\n",
    "\n",
    "history = dnn_model.fit(\n",
    "    train_features,\n",
    "    train_labels,\n",
    "    validation_split=0.2,\n",
    "    verbose=0, \n",
    "    epochs=10\n",
    ")"
   ]
  },
  {
   "cell_type": "code",
   "execution_count": 29,
   "id": "cdee353e",
   "metadata": {
    "execution": {
     "iopub.execute_input": "2022-10-04T17:32:21.022772Z",
     "iopub.status.busy": "2022-10-04T17:32:21.022409Z",
     "iopub.status.idle": "2022-10-04T17:32:21.199621Z",
     "shell.execute_reply": "2022-10-04T17:32:21.198569Z"
    },
    "papermill": {
     "duration": 0.196619,
     "end_time": "2022-10-04T17:32:21.201907",
     "exception": false,
     "start_time": "2022-10-04T17:32:21.005288",
     "status": "completed"
    },
    "tags": []
   },
   "outputs": [
    {
     "data": {
      "image/png": "[encoded data removed]",
      "text/plain": [
       "<Figure size 432x288 with 1 Axes>"
      ]
     },
     "metadata": {
      "needs_background": "light"
     },
     "output_type": "display_data"
    }
   ],
   "source": [
    "plot_loss(history,2)"
   ]
  },
  {
   "cell_type": "markdown",
   "id": "1f6ce348",
   "metadata": {
    "papermill": {
     "duration": 0.01566,
     "end_time": "2022-10-04T17:32:21.233530",
     "exception": false,
     "start_time": "2022-10-04T17:32:21.217870",
     "status": "completed"
    },
    "tags": []
   },
   "source": [
    "## Evaluate model with test_data"
   ]
  },
  {
   "cell_type": "code",
   "execution_count": 30,
   "id": "53dcd758",
   "metadata": {
    "execution": {
     "iopub.execute_input": "2022-10-04T17:32:21.266764Z",
     "iopub.status.busy": "2022-10-04T17:32:21.266401Z",
     "iopub.status.idle": "2022-10-04T17:32:21.400229Z",
     "shell.execute_reply": "2022-10-04T17:32:21.399455Z"
    },
    "papermill": {
     "duration": 0.152952,
     "end_time": "2022-10-04T17:32:21.402316",
     "exception": false,
     "start_time": "2022-10-04T17:32:21.249364",
     "status": "completed"
    },
    "tags": []
   },
   "outputs": [
    {
     "data": {
      "text/plain": [
       "0.2965330481529236"
      ]
     },
     "execution_count": 30,
     "metadata": {},
     "output_type": "execute_result"
    }
   ],
   "source": [
    "# evaluate model loss with test_data \n",
    "test_results = {}\n",
    "test_results = dnn_model.evaluate(test_features, test_labels, verbose=0)\n",
    "test_results"
   ]
  },
  {
   "cell_type": "code",
   "execution_count": 31,
   "id": "fddaafef",
   "metadata": {
    "execution": {
     "iopub.execute_input": "2022-10-04T17:32:21.436287Z",
     "iopub.status.busy": "2022-10-04T17:32:21.435327Z",
     "iopub.status.idle": "2022-10-04T17:32:21.805466Z",
     "shell.execute_reply": "2022-10-04T17:32:21.804568Z"
    },
    "papermill": {
     "duration": 0.389595,
     "end_time": "2022-10-04T17:32:21.807874",
     "exception": false,
     "start_time": "2022-10-04T17:32:21.418279",
     "status": "completed"
    },
    "tags": []
   },
   "outputs": [
    {
     "data": {
      "image/png": "[encoded data removed]",
      "text/plain": [
       "<Figure size 432x288 with 1 Axes>"
      ]
     },
     "metadata": {
      "needs_background": "light"
     },
     "output_type": "display_data"
    }
   ],
   "source": [
    "# compare test predictions with test labels\n",
    "test_predictions = dnn_model.predict(test_features)\n",
    "\n",
    "a = plt.axes(aspect='equal')\n",
    "plt.scatter(test_labels, test_predictions)\n",
    "plt.xlabel('True Values [y]')\n",
    "plt.ylabel('Predictions [y]')\n",
    "lims = [0, 30]\n",
    "plt.xlim(lims)\n",
    "plt.ylim(lims)\n",
    "_ = plt.plot(lims, lims)"
   ]
  },
  {
   "cell_type": "code",
   "execution_count": 32,
   "id": "f4f3a29e",
   "metadata": {
    "execution": {
     "iopub.execute_input": "2022-10-04T17:32:21.843043Z",
     "iopub.status.busy": "2022-10-04T17:32:21.842640Z",
     "iopub.status.idle": "2022-10-04T17:32:22.025537Z",
     "shell.execute_reply": "2022-10-04T17:32:22.024654Z"
    },
    "papermill": {
     "duration": 0.203086,
     "end_time": "2022-10-04T17:32:22.027758",
     "exception": false,
     "start_time": "2022-10-04T17:32:21.824672",
     "status": "completed"
    },
    "tags": []
   },
   "outputs": [
    {
     "data": {
      "image/png": "[encoded data removed]",
      "text/plain": [
       "<Figure size 432x288 with 1 Axes>"
      ]
     },
     "metadata": {
      "needs_background": "light"
     },
     "output_type": "display_data"
    }
   ],
   "source": [
    "# evaluate predictions error\n",
    "error = test_predictions - test_labels\n",
    "plt.hist(error, bins=25)\n",
    "plt.xlabel('Prediction Error [y]')\n",
    "_ = plt.ylabel('Count')"
   ]
  },
  {
   "cell_type": "code",
   "execution_count": 33,
   "id": "2180b6bf",
   "metadata": {
    "execution": {
     "iopub.execute_input": "2022-10-04T17:32:22.061993Z",
     "iopub.status.busy": "2022-10-04T17:32:22.061565Z",
     "iopub.status.idle": "2022-10-04T17:32:22.236574Z",
     "shell.execute_reply": "2022-10-04T17:32:22.234710Z"
    },
    "papermill": {
     "duration": 0.194724,
     "end_time": "2022-10-04T17:32:22.238898",
     "exception": false,
     "start_time": "2022-10-04T17:32:22.044174",
     "status": "completed"
    },
    "tags": []
   },
   "outputs": [
    {
     "data": {
      "text/plain": [
       "[<matplotlib.lines.Line2D at 0x7f871b6f57d0>]"
      ]
     },
     "execution_count": 33,
     "metadata": {},
     "output_type": "execute_result"
    },
    {
     "data": {
      "image/png": "[encoded data removed]",
      "text/plain": [
       "<Figure size 432x288 with 1 Axes>"
      ]
     },
     "metadata": {
      "needs_background": "light"
     },
     "output_type": "display_data"
    }
   ],
   "source": [
    "plt.plot(test_predictions)"
   ]
  },
  {
   "cell_type": "code",
   "execution_count": 34,
   "id": "fd0c86e0",
   "metadata": {
    "execution": {
     "iopub.execute_input": "2022-10-04T17:32:22.273743Z",
     "iopub.status.busy": "2022-10-04T17:32:22.273382Z",
     "iopub.status.idle": "2022-10-04T17:32:22.792384Z",
     "shell.execute_reply": "2022-10-04T17:32:22.791232Z"
    },
    "papermill": {
     "duration": 0.539034,
     "end_time": "2022-10-04T17:32:22.794707",
     "exception": false,
     "start_time": "2022-10-04T17:32:22.255673",
     "status": "completed"
    },
    "tags": []
   },
   "outputs": [
    {
     "data": {
      "text/plain": [
       "<AxesSubplot:xlabel='O'>"
      ]
     },
     "execution_count": 34,
     "metadata": {},
     "output_type": "execute_result"
    },
    {
     "data": {
      "image/png": "[encoded data removed]",
      "text/plain": [
       "<Figure size 432x288 with 1 Axes>"
      ]
     },
     "metadata": {
      "needs_background": "light"
     },
     "output_type": "display_data"
    }
   ],
   "source": [
    "df3[labels_column_names].plot()"
   ]
  },
  {
   "cell_type": "markdown",
   "id": "d89ee64f",
   "metadata": {
    "papermill": {
     "duration": 0.017267,
     "end_time": "2022-10-04T17:32:22.829338",
     "exception": false,
     "start_time": "2022-10-04T17:32:22.812071",
     "status": "completed"
    },
    "tags": []
   },
   "source": [
    "## Save and Load model"
   ]
  },
  {
   "cell_type": "code",
   "execution_count": 35,
   "id": "d3e165e6",
   "metadata": {
    "execution": {
     "iopub.execute_input": "2022-10-04T17:32:22.865173Z",
     "iopub.status.busy": "2022-10-04T17:32:22.864624Z",
     "iopub.status.idle": "2022-10-04T17:32:23.808682Z",
     "shell.execute_reply": "2022-10-04T17:32:23.807770Z"
    },
    "papermill": {
     "duration": 0.965428,
     "end_time": "2022-10-04T17:32:23.811661",
     "exception": false,
     "start_time": "2022-10-04T17:32:22.846233",
     "status": "completed"
    },
    "tags": []
   },
   "outputs": [
    {
     "name": "stderr",
     "output_type": "stream",
     "text": [
      "2022-10-04 17:32:23.168088: W tensorflow/python/util/util.cc:348] Sets are not currently considered sequences, but this may change in the future, so consider avoiding using them.\n"
     ]
    }
   ],
   "source": [
    "dnn_model.save(model_filename)"
   ]
  },
  {
   "cell_type": "code",
   "execution_count": 36,
   "id": "5ae0ed8c",
   "metadata": {
    "execution": {
     "iopub.execute_input": "2022-10-04T17:32:23.847705Z",
     "iopub.status.busy": "2022-10-04T17:32:23.847367Z",
     "iopub.status.idle": "2022-10-04T17:32:24.157054Z",
     "shell.execute_reply": "2022-10-04T17:32:24.156182Z"
    },
    "papermill": {
     "duration": 0.331406,
     "end_time": "2022-10-04T17:32:24.160239",
     "exception": false,
     "start_time": "2022-10-04T17:32:23.828833",
     "status": "completed"
    },
    "tags": []
   },
   "outputs": [],
   "source": [
    "reloaded = tf.keras.models.load_model(model_filename)"
   ]
  }
 ],
 "metadata": {
  "kernelspec": {
   "display_name": "Python 3",
   "language": "python",
   "name": "python3"
  },
  "language_info": {
   "codemirror_mode": {
    "name": "ipython",
    "version": 3
   },
   "file_extension": ".py",
   "mimetype": "text/x-python",
   "name": "python",
   "nbconvert_exporter": "python",
   "pygments_lexer": "ipython3",
   "version": "3.7.12"
  },
  "papermill": {
   "default_parameters": {},
   "duration": 37.059708,
   "end_time": "2022-10-04T17:32:27.157082",
   "environment_variables": {},
   "exception": null,
   "input_path": "__notebook__.ipynb",
   "output_path": "__notebook__.ipynb",
   "parameters": {},
   "start_time": "2022-10-04T17:31:50.097374",
   "version": "2.3.4"
  }
 },
 "nbformat": 4,
 "nbformat_minor": 5
}
