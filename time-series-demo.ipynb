{
 "cells": [
  {
   "cell_type": "markdown",
   "id": "007f03d5",
   "metadata": {
    "papermill": {
     "duration": 0.010535,
     "end_time": "2022-10-04T15:35:31.867455",
     "exception": false,
     "start_time": "2022-10-04T15:35:31.856920",
     "status": "completed"
    },
    "tags": []
   },
   "source": [
    "Useful links\n",
    "\n",
    "https://www.dataquest.io/blog/tutorial-time-series-analysis-with-pandas/"
   ]
  },
  {
   "cell_type": "code",
   "execution_count": 1,
   "id": "5336bc8a",
   "metadata": {
    "_cell_guid": "b1076dfc-b9ad-4769-8c92-a6c4dae69d19",
    "_uuid": "8f2839f25d086af736a60e9eeb907d3b93b6e0e5",
    "execution": {
     "iopub.execute_input": "2022-10-04T15:35:31.889546Z",
     "iopub.status.busy": "2022-10-04T15:35:31.888598Z",
     "iopub.status.idle": "2022-10-04T15:35:31.910872Z",
     "shell.execute_reply": "2022-10-04T15:35:31.908536Z"
    },
    "papermill": {
     "duration": 0.039244,
     "end_time": "2022-10-04T15:35:31.916318",
     "exception": false,
     "start_time": "2022-10-04T15:35:31.877074",
     "status": "completed"
    },
    "tags": []
   },
   "outputs": [
    {
     "name": "stdout",
     "output_type": "stream",
     "text": [
      "/kaggle/input/posital-2-braccio/Posital 2 braccio.trc\n"
     ]
    }
   ],
   "source": [
    "# This Python 3 environment comes with many helpful analytics libraries installed\n",
    "# It is defined by the kaggle/python Docker image: https://github.com/kaggle/docker-python\n",
    "# For example, here's several helpful packages to load\n",
    "\n",
    "import numpy as np # linear algebra\n",
    "import pandas as pd # data processing, CSV file I/O (e.g. pd.read_csv)\n",
    "from functools import partial\n",
    "\n",
    "import matplotlib.pyplot as plt\n",
    "\n",
    "# Input data files are available in the read-only \"../input/\" directory\n",
    "# For example, running this (by clicking run or pressing Shift+Enter) will list all files under the input directory\n",
    "\n",
    "import os\n",
    "for dirname, _, filenames in os.walk('/kaggle/input'):\n",
    "    for filename in filenames:\n",
    "        print(os.path.join(dirname, filename))\n",
    "\n",
    "# You can write up to 20GB to the current directory (/kaggle/working/) that gets preserved as output when you create a version using \"Save & Run All\" \n",
    "# You can also write temporary files to /kaggle/temp/, but they won't be saved outside of the current session"
   ]
  },
  {
   "cell_type": "code",
   "execution_count": 2,
   "id": "f9aa34d0",
   "metadata": {
    "execution": {
     "iopub.execute_input": "2022-10-04T15:35:31.939341Z",
     "iopub.status.busy": "2022-10-04T15:35:31.938839Z",
     "iopub.status.idle": "2022-10-04T15:35:31.945369Z",
     "shell.execute_reply": "2022-10-04T15:35:31.943642Z"
    },
    "papermill": {
     "duration": 0.02019,
     "end_time": "2022-10-04T15:35:31.947697",
     "exception": false,
     "start_time": "2022-10-04T15:35:31.927507",
     "status": "completed"
    },
    "tags": []
   },
   "outputs": [],
   "source": [
    "# adjust these parameters\n",
    "\n",
    "# data collection\n",
    "fname = \"../input/posital-2-braccio/Posital 2 braccio.trc\"\n",
    "rows_to_skip = 20\n",
    "\n",
    "# data filter\n",
    "command_rolling_length = 1\n",
    "position_rolling_length = 1\n",
    "velocity_rolling_length = 20\n",
    "\n",
    "# keras model\n",
    "labels_column_names = ['DV2']\n",
    "output_dimension = len(labels_column_names)\n",
    "model_filename= './model_1'"
   ]
  },
  {
   "cell_type": "code",
   "execution_count": 3,
   "id": "a0e9faed",
   "metadata": {
    "execution": {
     "iopub.execute_input": "2022-10-04T15:35:31.976285Z",
     "iopub.status.busy": "2022-10-04T15:35:31.975762Z",
     "iopub.status.idle": "2022-10-04T15:35:31.984506Z",
     "shell.execute_reply": "2022-10-04T15:35:31.983195Z"
    },
    "papermill": {
     "duration": 0.025693,
     "end_time": "2022-10-04T15:35:31.987561",
     "exception": false,
     "start_time": "2022-10-04T15:35:31.961868",
     "status": "completed"
    },
    "tags": []
   },
   "outputs": [],
   "source": [
    "# utility function: convert hex string to unsigned int (es. FF00 -> 65280)\n",
    "def hex2int_unsigned(hex_val):\n",
    "    return int(hex_val,16)"
   ]
  },
  {
   "cell_type": "code",
   "execution_count": 4,
   "id": "2f189874",
   "metadata": {
    "execution": {
     "iopub.execute_input": "2022-10-04T15:35:32.011736Z",
     "iopub.status.busy": "2022-10-04T15:35:32.010832Z",
     "iopub.status.idle": "2022-10-04T15:35:32.016666Z",
     "shell.execute_reply": "2022-10-04T15:35:32.015762Z"
    },
    "papermill": {
     "duration": 0.022301,
     "end_time": "2022-10-04T15:35:32.020706",
     "exception": false,
     "start_time": "2022-10-04T15:35:31.998405",
     "status": "completed"
    },
    "tags": []
   },
   "outputs": [],
   "source": [
    "# utility function: convert hex string to signed int (es. FF00 -> -256)\n",
    "def hex2int_signed(hexval):\n",
    "    bits = 16\n",
    "    val = int(hexval, bits)\n",
    "    if val & (1 << (bits-1)):\n",
    "        val -= 1 << bits\n",
    "    return val"
   ]
  },
  {
   "cell_type": "code",
   "execution_count": 5,
   "id": "c39cce8d",
   "metadata": {
    "execution": {
     "iopub.execute_input": "2022-10-04T15:35:32.045196Z",
     "iopub.status.busy": "2022-10-04T15:35:32.044052Z",
     "iopub.status.idle": "2022-10-04T15:35:39.413388Z",
     "shell.execute_reply": "2022-10-04T15:35:39.411378Z"
    },
    "papermill": {
     "duration": 7.385315,
     "end_time": "2022-10-04T15:35:39.417712",
     "exception": false,
     "start_time": "2022-10-04T15:35:32.032397",
     "status": "completed"
    },
    "tags": []
   },
   "outputs": [
    {
     "data": {
      "text/html": [
       "<div>\n",
       "<style scoped>\n",
       "    .dataframe tbody tr th:only-of-type {\n",
       "        vertical-align: middle;\n",
       "    }\n",
       "\n",
       "    .dataframe tbody tr th {\n",
       "        vertical-align: top;\n",
       "    }\n",
       "\n",
       "    .dataframe thead th {\n",
       "        text-align: right;\n",
       "    }\n",
       "</style>\n",
       "<table border=\"1\" class=\"dataframe\">\n",
       "  <thead>\n",
       "    <tr style=\"text-align: right;\">\n",
       "      <th></th>\n",
       "      <th>N</th>\n",
       "      <th>T</th>\n",
       "      <th>B</th>\n",
       "      <th>I</th>\n",
       "      <th>d</th>\n",
       "      <th>R</th>\n",
       "      <th>L</th>\n",
       "      <th>D0</th>\n",
       "      <th>D1</th>\n",
       "      <th>D2</th>\n",
       "      <th>D3</th>\n",
       "      <th>D4</th>\n",
       "      <th>D5</th>\n",
       "      <th>D6</th>\n",
       "      <th>D7</th>\n",
       "    </tr>\n",
       "    <tr>\n",
       "      <th>O</th>\n",
       "      <th></th>\n",
       "      <th></th>\n",
       "      <th></th>\n",
       "      <th></th>\n",
       "      <th></th>\n",
       "      <th></th>\n",
       "      <th></th>\n",
       "      <th></th>\n",
       "      <th></th>\n",
       "      <th></th>\n",
       "      <th></th>\n",
       "      <th></th>\n",
       "      <th></th>\n",
       "      <th></th>\n",
       "      <th></th>\n",
       "    </tr>\n",
       "  </thead>\n",
       "  <tbody>\n",
       "    <tr>\n",
       "      <th>1970-01-01 00:00:00.000059</th>\n",
       "      <td>1</td>\n",
       "      <td>DT</td>\n",
       "      <td>4</td>\n",
       "      <td>0181</td>\n",
       "      <td>Rx</td>\n",
       "      <td>-</td>\n",
       "      <td>4</td>\n",
       "      <td>06</td>\n",
       "      <td>B2</td>\n",
       "      <td>95</td>\n",
       "      <td>11</td>\n",
       "      <td>NaN</td>\n",
       "      <td>NaN</td>\n",
       "      <td>NaN</td>\n",
       "      <td>NaN</td>\n",
       "    </tr>\n",
       "    <tr>\n",
       "      <th>1970-01-01 00:00:00.001133</th>\n",
       "      <td>2</td>\n",
       "      <td>DT</td>\n",
       "      <td>4</td>\n",
       "      <td>0281</td>\n",
       "      <td>Rx</td>\n",
       "      <td>-</td>\n",
       "      <td>8</td>\n",
       "      <td>DF</td>\n",
       "      <td>B1</td>\n",
       "      <td>FF</td>\n",
       "      <td>FF</td>\n",
       "      <td>6E</td>\n",
       "      <td>11</td>\n",
       "      <td>01</td>\n",
       "      <td>00</td>\n",
       "    </tr>\n",
       "    <tr>\n",
       "      <th>1970-01-01 00:00:00.002679</th>\n",
       "      <td>3</td>\n",
       "      <td>DT</td>\n",
       "      <td>4</td>\n",
       "      <td>03B1</td>\n",
       "      <td>Rx</td>\n",
       "      <td>-</td>\n",
       "      <td>8</td>\n",
       "      <td>DE</td>\n",
       "      <td>01</td>\n",
       "      <td>66</td>\n",
       "      <td>03</td>\n",
       "      <td>6F</td>\n",
       "      <td>01</td>\n",
       "      <td>0E</td>\n",
       "      <td>02</td>\n",
       "    </tr>\n",
       "    <tr>\n",
       "      <th>1970-01-01 00:00:00.002910</th>\n",
       "      <td>4</td>\n",
       "      <td>DT</td>\n",
       "      <td>4</td>\n",
       "      <td>01B1</td>\n",
       "      <td>Rx</td>\n",
       "      <td>-</td>\n",
       "      <td>8</td>\n",
       "      <td>5C</td>\n",
       "      <td>03</td>\n",
       "      <td>9B</td>\n",
       "      <td>05</td>\n",
       "      <td>D1</td>\n",
       "      <td>06</td>\n",
       "      <td>22</td>\n",
       "      <td>03</td>\n",
       "    </tr>\n",
       "    <tr>\n",
       "      <th>1970-01-01 00:00:00.004752</th>\n",
       "      <td>5</td>\n",
       "      <td>DT</td>\n",
       "      <td>4</td>\n",
       "      <td>0CF02AE3</td>\n",
       "      <td>Rx</td>\n",
       "      <td>-</td>\n",
       "      <td>8</td>\n",
       "      <td>C5</td>\n",
       "      <td>7C</td>\n",
       "      <td>3A</td>\n",
       "      <td>7D</td>\n",
       "      <td>15</td>\n",
       "      <td>7B</td>\n",
       "      <td>00</td>\n",
       "      <td>05</td>\n",
       "    </tr>\n",
       "    <tr>\n",
       "      <th>...</th>\n",
       "      <td>...</td>\n",
       "      <td>...</td>\n",
       "      <td>...</td>\n",
       "      <td>...</td>\n",
       "      <td>...</td>\n",
       "      <td>...</td>\n",
       "      <td>...</td>\n",
       "      <td>...</td>\n",
       "      <td>...</td>\n",
       "      <td>...</td>\n",
       "      <td>...</td>\n",
       "      <td>...</td>\n",
       "      <td>...</td>\n",
       "      <td>...</td>\n",
       "      <td>...</td>\n",
       "    </tr>\n",
       "    <tr>\n",
       "      <th>1970-01-01 00:01:02.077336</th>\n",
       "      <td>75846</td>\n",
       "      <td>DT</td>\n",
       "      <td>4</td>\n",
       "      <td>08F02DE3</td>\n",
       "      <td>Rx</td>\n",
       "      <td>-</td>\n",
       "      <td>8</td>\n",
       "      <td>C8</td>\n",
       "      <td>80</td>\n",
       "      <td>C1</td>\n",
       "      <td>7D</td>\n",
       "      <td>00</td>\n",
       "      <td>7D</td>\n",
       "      <td>00</td>\n",
       "      <td>00</td>\n",
       "    </tr>\n",
       "    <tr>\n",
       "      <th>1970-01-01 00:01:02.077569</th>\n",
       "      <td>75847</td>\n",
       "      <td>DT</td>\n",
       "      <td>4</td>\n",
       "      <td>03B1</td>\n",
       "      <td>Rx</td>\n",
       "      <td>-</td>\n",
       "      <td>8</td>\n",
       "      <td>A8</td>\n",
       "      <td>01</td>\n",
       "      <td>15</td>\n",
       "      <td>03</td>\n",
       "      <td>17</td>\n",
       "      <td>01</td>\n",
       "      <td>E3</td>\n",
       "      <td>01</td>\n",
       "    </tr>\n",
       "    <tr>\n",
       "      <th>1970-01-01 00:01:02.077802</th>\n",
       "      <td>75848</td>\n",
       "      <td>DT</td>\n",
       "      <td>4</td>\n",
       "      <td>01B1</td>\n",
       "      <td>Rx</td>\n",
       "      <td>-</td>\n",
       "      <td>8</td>\n",
       "      <td>FD</td>\n",
       "      <td>02</td>\n",
       "      <td>BB</td>\n",
       "      <td>04</td>\n",
       "      <td>F4</td>\n",
       "      <td>04</td>\n",
       "      <td>46</td>\n",
       "      <td>02</td>\n",
       "    </tr>\n",
       "    <tr>\n",
       "      <th>1970-01-01 00:01:02.078074</th>\n",
       "      <td>75849</td>\n",
       "      <td>DT</td>\n",
       "      <td>4</td>\n",
       "      <td>0CF029E3</td>\n",
       "      <td>Rx</td>\n",
       "      <td>-</td>\n",
       "      <td>8</td>\n",
       "      <td>7E</td>\n",
       "      <td>A9</td>\n",
       "      <td>82</td>\n",
       "      <td>1D</td>\n",
       "      <td>F3</td>\n",
       "      <td>A9</td>\n",
       "      <td>00</td>\n",
       "      <td>05</td>\n",
       "    </tr>\n",
       "    <tr>\n",
       "      <th>1970-01-01 00:01:02.078596</th>\n",
       "      <td>75850</td>\n",
       "      <td>DT</td>\n",
       "      <td>4</td>\n",
       "      <td>0181</td>\n",
       "      <td>Rx</td>\n",
       "      <td>-</td>\n",
       "      <td>4</td>\n",
       "      <td>13</td>\n",
       "      <td>37</td>\n",
       "      <td>79</td>\n",
       "      <td>28</td>\n",
       "      <td>NaN</td>\n",
       "      <td>NaN</td>\n",
       "      <td>NaN</td>\n",
       "      <td>NaN</td>\n",
       "    </tr>\n",
       "  </tbody>\n",
       "</table>\n",
       "<p>75850 rows × 15 columns</p>\n",
       "</div>"
      ],
      "text/plain": [
       "                                N   T  B         I   d  R  L  D0  D1  D2  D3  \\\n",
       "O                                                                              \n",
       "1970-01-01 00:00:00.000059      1  DT  4      0181  Rx  -  4  06  B2  95  11   \n",
       "1970-01-01 00:00:00.001133      2  DT  4      0281  Rx  -  8  DF  B1  FF  FF   \n",
       "1970-01-01 00:00:00.002679      3  DT  4      03B1  Rx  -  8  DE  01  66  03   \n",
       "1970-01-01 00:00:00.002910      4  DT  4      01B1  Rx  -  8  5C  03  9B  05   \n",
       "1970-01-01 00:00:00.004752      5  DT  4  0CF02AE3  Rx  -  8  C5  7C  3A  7D   \n",
       "...                           ...  .. ..       ...  .. .. ..  ..  ..  ..  ..   \n",
       "1970-01-01 00:01:02.077336  75846  DT  4  08F02DE3  Rx  -  8  C8  80  C1  7D   \n",
       "1970-01-01 00:01:02.077569  75847  DT  4      03B1  Rx  -  8  A8  01  15  03   \n",
       "1970-01-01 00:01:02.077802  75848  DT  4      01B1  Rx  -  8  FD  02  BB  04   \n",
       "1970-01-01 00:01:02.078074  75849  DT  4  0CF029E3  Rx  -  8  7E  A9  82  1D   \n",
       "1970-01-01 00:01:02.078596  75850  DT  4      0181  Rx  -  4  13  37  79  28   \n",
       "\n",
       "                             D4   D5   D6   D7  \n",
       "O                                               \n",
       "1970-01-01 00:00:00.000059  NaN  NaN  NaN  NaN  \n",
       "1970-01-01 00:00:00.001133   6E   11   01   00  \n",
       "1970-01-01 00:00:00.002679   6F   01   0E   02  \n",
       "1970-01-01 00:00:00.002910   D1   06   22   03  \n",
       "1970-01-01 00:00:00.004752   15   7B   00   05  \n",
       "...                         ...  ...  ...  ...  \n",
       "1970-01-01 00:01:02.077336   00   7D   00   00  \n",
       "1970-01-01 00:01:02.077569   17   01   E3   01  \n",
       "1970-01-01 00:01:02.077802   F4   04   46   02  \n",
       "1970-01-01 00:01:02.078074   F3   A9   00   05  \n",
       "1970-01-01 00:01:02.078596  NaN  NaN  NaN  NaN  \n",
       "\n",
       "[75850 rows x 15 columns]"
      ]
     },
     "execution_count": 5,
     "metadata": {},
     "output_type": "execute_result"
    }
   ],
   "source": [
    "# read text file into pandas DataFrame\n",
    "df = pd.read_csv(\n",
    "        fname,\n",
    "        delim_whitespace=True, \n",
    "        skiprows = rows_to_skip, \n",
    "        header=None, \n",
    "        names=[\"N\",\"O\",\"T\",\"B\",\"I\",\"d\",\"R\",\"L\",\"D0\",\"D1\",\"D2\",\"D3\",\"D4\",\"D5\",\"D6\",\"D7\"],\n",
    "        #nrows=10000,\n",
    "        index_col = 'O',\n",
    "        converters={\n",
    "            'O': partial(pd.to_datetime,unit='ms',infer_datetime_format=True)\n",
    "            #    'D0': partial(int, base=16),\n",
    "        }\n",
    "        \n",
    "    )\n",
    "\n",
    "# display DataFrame\n",
    "df"
   ]
  },
  {
   "cell_type": "code",
   "execution_count": 6,
   "id": "e655e49b",
   "metadata": {
    "execution": {
     "iopub.execute_input": "2022-10-04T15:35:39.440854Z",
     "iopub.status.busy": "2022-10-04T15:35:39.440333Z",
     "iopub.status.idle": "2022-10-04T15:35:39.447835Z",
     "shell.execute_reply": "2022-10-04T15:35:39.445281Z"
    },
    "papermill": {
     "duration": 0.022629,
     "end_time": "2022-10-04T15:35:39.450792",
     "exception": false,
     "start_time": "2022-10-04T15:35:39.428163",
     "status": "completed"
    },
    "tags": []
   },
   "outputs": [],
   "source": [
    "# start_time = pd.to_datetime('26/05/2022 12:09:59.00')    \n",
    "# converters = {'O': lambda x: pd.to_datetime(float(x), unit='ms', origin = start_time)}"
   ]
  },
  {
   "cell_type": "code",
   "execution_count": 7,
   "id": "146b6add",
   "metadata": {
    "execution": {
     "iopub.execute_input": "2022-10-04T15:35:39.472990Z",
     "iopub.status.busy": "2022-10-04T15:35:39.472523Z",
     "iopub.status.idle": "2022-10-04T15:35:39.839553Z",
     "shell.execute_reply": "2022-10-04T15:35:39.838589Z"
    },
    "papermill": {
     "duration": 0.381242,
     "end_time": "2022-10-04T15:35:39.842016",
     "exception": false,
     "start_time": "2022-10-04T15:35:39.460774",
     "status": "completed"
    },
    "tags": []
   },
   "outputs": [
    {
     "name": "stderr",
     "output_type": "stream",
     "text": [
      "/opt/conda/lib/python3.7/site-packages/ipykernel_launcher.py:5: SettingWithCopyWarning: \n",
      "A value is trying to be set on a copy of a slice from a DataFrame.\n",
      "Try using .loc[row_indexer,col_indexer] = value instead\n",
      "\n",
      "See the caveats in the documentation: https://pandas.pydata.org/pandas-docs/stable/user_guide/indexing.html#returning-a-view-versus-a-copy\n",
      "  \"\"\"\n"
     ]
    },
    {
     "data": {
      "text/plain": [
       "<AxesSubplot:xlabel='O'>"
      ]
     },
     "execution_count": 7,
     "metadata": {},
     "output_type": "execute_result"
    },
    {
     "data": {
      "image/png": "[encoded data removed]",
      "text/plain": [
       "<Figure size 432x288 with 1 Axes>"
      ]
     },
     "metadata": {
      "needs_background": "light"
     },
     "output_type": "display_data"
    }
   ],
   "source": [
    "# select posital rows\n",
    "posital = df[df[\"I\"] == '0182']\n",
    "\n",
    "# convert angle from hex bytes to unsigned int\n",
    "posital['P2'] = (posital['D1'] + posital['D0']).apply(hex2int_unsigned)\n",
    "\n",
    "# resample at 10 milliseconds\n",
    "posital = posital.resample(\"10L\").ffill()\n",
    "\n",
    "posital['P2'].plot()"
   ]
  },
  {
   "cell_type": "code",
   "execution_count": 8,
   "id": "4289c1b4",
   "metadata": {
    "execution": {
     "iopub.execute_input": "2022-10-04T15:35:39.866034Z",
     "iopub.status.busy": "2022-10-04T15:35:39.865558Z",
     "iopub.status.idle": "2022-10-04T15:35:40.153332Z",
     "shell.execute_reply": "2022-10-04T15:35:40.151454Z"
    },
    "papermill": {
     "duration": 0.304116,
     "end_time": "2022-10-04T15:35:40.156776",
     "exception": false,
     "start_time": "2022-10-04T15:35:39.852660",
     "status": "completed"
    },
    "tags": []
   },
   "outputs": [
    {
     "name": "stderr",
     "output_type": "stream",
     "text": [
      "/opt/conda/lib/python3.7/site-packages/ipykernel_launcher.py:5: SettingWithCopyWarning: \n",
      "A value is trying to be set on a copy of a slice from a DataFrame.\n",
      "Try using .loc[row_indexer,col_indexer] = value instead\n",
      "\n",
      "See the caveats in the documentation: https://pandas.pydata.org/pandas-docs/stable/user_guide/indexing.html#returning-a-view-versus-a-copy\n",
      "  \"\"\"\n",
      "/opt/conda/lib/python3.7/site-packages/ipykernel_launcher.py:6: SettingWithCopyWarning: \n",
      "A value is trying to be set on a copy of a slice from a DataFrame.\n",
      "Try using .loc[row_indexer,col_indexer] = value instead\n",
      "\n",
      "See the caveats in the documentation: https://pandas.pydata.org/pandas-docs/stable/user_guide/indexing.html#returning-a-view-versus-a-copy\n",
      "  \n"
     ]
    },
    {
     "data": {
      "text/plain": [
       "<AxesSubplot:xlabel='O'>"
      ]
     },
     "execution_count": 8,
     "metadata": {},
     "output_type": "execute_result"
    },
    {
     "data": {
      "image/png": "[encoded data removed]",
      "text/plain": [
       "<Figure size 432x288 with 1 Axes>"
      ]
     },
     "metadata": {
      "needs_background": "light"
     },
     "output_type": "display_data"
    }
   ],
   "source": [
    "# select joystick rows\n",
    "command = df[df[\"I\"] == '02B2']\n",
    "\n",
    "# convert set points from hex strings to signed int\n",
    "command['C2'] = (command['D1'] + command['D0']).apply(hex2int_signed)\n",
    "command['C1'] = (command['D3'] + command['D2']).apply(hex2int_signed)\n",
    "\n",
    "# resample at 10 milliseconds\n",
    "command = command.resample(\"10L\").ffill()\n",
    "\n",
    "command['C2'].plot()"
   ]
  },
  {
   "cell_type": "code",
   "execution_count": 9,
   "id": "1b92eecf",
   "metadata": {
    "execution": {
     "iopub.execute_input": "2022-10-04T15:35:40.181348Z",
     "iopub.status.busy": "2022-10-04T15:35:40.180835Z",
     "iopub.status.idle": "2022-10-04T15:35:40.843743Z",
     "shell.execute_reply": "2022-10-04T15:35:40.840677Z"
    },
    "papermill": {
     "duration": 0.680639,
     "end_time": "2022-10-04T15:35:40.848454",
     "exception": false,
     "start_time": "2022-10-04T15:35:40.167815",
     "status": "completed"
    },
    "tags": []
   },
   "outputs": [
    {
     "data": {
      "image/png": "[encoded data removed]",
      "text/plain": [
       "<Figure size 432x288 with 2 Axes>"
      ]
     },
     "metadata": {
      "needs_background": "light"
     },
     "output_type": "display_data"
    }
   ],
   "source": [
    "fig, ax = plt.subplots()\n",
    "ax2 = ax.twinx()\n",
    "\n",
    "posital.plot(y=['P2'], ax=ax)\n",
    "command.plot(y=[\"C1\", \"C2\"], ax=ax2, ls=\"--\")\n",
    "\n",
    "plt.show()"
   ]
  },
  {
   "cell_type": "code",
   "execution_count": 10,
   "id": "296973aa",
   "metadata": {
    "execution": {
     "iopub.execute_input": "2022-10-04T15:35:40.875922Z",
     "iopub.status.busy": "2022-10-04T15:35:40.875437Z",
     "iopub.status.idle": "2022-10-04T15:35:40.888263Z",
     "shell.execute_reply": "2022-10-04T15:35:40.885386Z"
    },
    "papermill": {
     "duration": 0.030484,
     "end_time": "2022-10-04T15:35:40.892136",
     "exception": false,
     "start_time": "2022-10-04T15:35:40.861652",
     "status": "completed"
    },
    "tags": []
   },
   "outputs": [
    {
     "data": {
      "text/plain": [
       "6207"
      ]
     },
     "execution_count": 10,
     "metadata": {},
     "output_type": "execute_result"
    }
   ],
   "source": [
    "min_length = min(command.shape[0], posital.shape[0])\n",
    "min_length"
   ]
  },
  {
   "cell_type": "code",
   "execution_count": 11,
   "id": "94e37e41",
   "metadata": {
    "execution": {
     "iopub.execute_input": "2022-10-04T15:35:40.920858Z",
     "iopub.status.busy": "2022-10-04T15:35:40.918666Z",
     "iopub.status.idle": "2022-10-04T15:35:41.238301Z",
     "shell.execute_reply": "2022-10-04T15:35:41.235865Z"
    },
    "papermill": {
     "duration": 0.337085,
     "end_time": "2022-10-04T15:35:41.241506",
     "exception": false,
     "start_time": "2022-10-04T15:35:40.904421",
     "status": "completed"
    },
    "tags": []
   },
   "outputs": [
    {
     "data": {
      "text/plain": [
       "<AxesSubplot:xlabel='O'>"
      ]
     },
     "execution_count": 11,
     "metadata": {},
     "output_type": "execute_result"
    },
    {
     "data": {
      "image/png": "[encoded data removed]",
      "text/plain": [
       "<Figure size 432x288 with 1 Axes>"
      ]
     },
     "metadata": {
      "needs_background": "light"
     },
     "output_type": "display_data"
    }
   ],
   "source": [
    "command = command[['C1','C2']].iloc[0:min_length].copy()\n",
    "command = command.rolling(command_rolling_length).mean()\n",
    "command.plot()"
   ]
  },
  {
   "cell_type": "code",
   "execution_count": 12,
   "id": "338e2aab",
   "metadata": {
    "execution": {
     "iopub.execute_input": "2022-10-04T15:35:41.268494Z",
     "iopub.status.busy": "2022-10-04T15:35:41.267896Z",
     "iopub.status.idle": "2022-10-04T15:35:41.537758Z",
     "shell.execute_reply": "2022-10-04T15:35:41.536865Z"
    },
    "papermill": {
     "duration": 0.285749,
     "end_time": "2022-10-04T15:35:41.539939",
     "exception": false,
     "start_time": "2022-10-04T15:35:41.254190",
     "status": "completed"
    },
    "tags": []
   },
   "outputs": [
    {
     "data": {
      "text/plain": [
       "<AxesSubplot:xlabel='O'>"
      ]
     },
     "execution_count": 12,
     "metadata": {},
     "output_type": "execute_result"
    },
    {
     "data": {
      "image/png": "[encoded data removed]",
      "text/plain": [
       "<Figure size 432x288 with 1 Axes>"
      ]
     },
     "metadata": {
      "needs_background": "light"
     },
     "output_type": "display_data"
    }
   ],
   "source": [
    "position = posital[['P2']].iloc[0:min_length].copy()\n",
    "\n",
    "position = position.rolling(position_rolling_length).mean()\n",
    "position.plot()"
   ]
  },
  {
   "cell_type": "code",
   "execution_count": 13,
   "id": "9aead040",
   "metadata": {
    "execution": {
     "iopub.execute_input": "2022-10-04T15:35:41.566929Z",
     "iopub.status.busy": "2022-10-04T15:35:41.566268Z",
     "iopub.status.idle": "2022-10-04T15:35:41.595669Z",
     "shell.execute_reply": "2022-10-04T15:35:41.593873Z"
    },
    "papermill": {
     "duration": 0.0457,
     "end_time": "2022-10-04T15:35:41.598160",
     "exception": false,
     "start_time": "2022-10-04T15:35:41.552460",
     "status": "completed"
    },
    "tags": []
   },
   "outputs": [
    {
     "data": {
      "text/html": [
       "<div>\n",
       "<style scoped>\n",
       "    .dataframe tbody tr th:only-of-type {\n",
       "        vertical-align: middle;\n",
       "    }\n",
       "\n",
       "    .dataframe tbody tr th {\n",
       "        vertical-align: top;\n",
       "    }\n",
       "\n",
       "    .dataframe thead th {\n",
       "        text-align: right;\n",
       "    }\n",
       "</style>\n",
       "<table border=\"1\" class=\"dataframe\">\n",
       "  <thead>\n",
       "    <tr style=\"text-align: right;\">\n",
       "      <th></th>\n",
       "      <th>C1</th>\n",
       "      <th>C2</th>\n",
       "      <th>P2</th>\n",
       "    </tr>\n",
       "    <tr>\n",
       "      <th>O</th>\n",
       "      <th></th>\n",
       "      <th></th>\n",
       "      <th></th>\n",
       "    </tr>\n",
       "  </thead>\n",
       "  <tbody>\n",
       "    <tr>\n",
       "      <th>1970-01-01 00:00:00.010</th>\n",
       "      <td>NaN</td>\n",
       "      <td>NaN</td>\n",
       "      <td>3366.0</td>\n",
       "    </tr>\n",
       "    <tr>\n",
       "      <th>1970-01-01 00:00:00.020</th>\n",
       "      <td>0.0</td>\n",
       "      <td>0.0</td>\n",
       "      <td>3369.0</td>\n",
       "    </tr>\n",
       "    <tr>\n",
       "      <th>1970-01-01 00:00:00.030</th>\n",
       "      <td>0.0</td>\n",
       "      <td>0.0</td>\n",
       "      <td>3371.0</td>\n",
       "    </tr>\n",
       "    <tr>\n",
       "      <th>1970-01-01 00:00:00.040</th>\n",
       "      <td>0.0</td>\n",
       "      <td>0.0</td>\n",
       "      <td>3374.0</td>\n",
       "    </tr>\n",
       "    <tr>\n",
       "      <th>1970-01-01 00:00:00.050</th>\n",
       "      <td>0.0</td>\n",
       "      <td>0.0</td>\n",
       "      <td>3377.0</td>\n",
       "    </tr>\n",
       "    <tr>\n",
       "      <th>...</th>\n",
       "      <td>...</td>\n",
       "      <td>...</td>\n",
       "      <td>...</td>\n",
       "    </tr>\n",
       "    <tr>\n",
       "      <th>1970-01-01 00:01:02.020</th>\n",
       "      <td>0.0</td>\n",
       "      <td>0.0</td>\n",
       "      <td>6523.0</td>\n",
       "    </tr>\n",
       "    <tr>\n",
       "      <th>1970-01-01 00:01:02.030</th>\n",
       "      <td>0.0</td>\n",
       "      <td>0.0</td>\n",
       "      <td>6523.0</td>\n",
       "    </tr>\n",
       "    <tr>\n",
       "      <th>1970-01-01 00:01:02.040</th>\n",
       "      <td>0.0</td>\n",
       "      <td>0.0</td>\n",
       "      <td>6523.0</td>\n",
       "    </tr>\n",
       "    <tr>\n",
       "      <th>1970-01-01 00:01:02.050</th>\n",
       "      <td>0.0</td>\n",
       "      <td>0.0</td>\n",
       "      <td>6523.0</td>\n",
       "    </tr>\n",
       "    <tr>\n",
       "      <th>1970-01-01 00:01:02.060</th>\n",
       "      <td>0.0</td>\n",
       "      <td>0.0</td>\n",
       "      <td>6523.0</td>\n",
       "    </tr>\n",
       "  </tbody>\n",
       "</table>\n",
       "<p>6206 rows × 3 columns</p>\n",
       "</div>"
      ],
      "text/plain": [
       "                          C1   C2      P2\n",
       "O                                        \n",
       "1970-01-01 00:00:00.010  NaN  NaN  3366.0\n",
       "1970-01-01 00:00:00.020  0.0  0.0  3369.0\n",
       "1970-01-01 00:00:00.030  0.0  0.0  3371.0\n",
       "1970-01-01 00:00:00.040  0.0  0.0  3374.0\n",
       "1970-01-01 00:00:00.050  0.0  0.0  3377.0\n",
       "...                      ...  ...     ...\n",
       "1970-01-01 00:01:02.020  0.0  0.0  6523.0\n",
       "1970-01-01 00:01:02.030  0.0  0.0  6523.0\n",
       "1970-01-01 00:01:02.040  0.0  0.0  6523.0\n",
       "1970-01-01 00:01:02.050  0.0  0.0  6523.0\n",
       "1970-01-01 00:01:02.060  0.0  0.0  6523.0\n",
       "\n",
       "[6206 rows x 3 columns]"
      ]
     },
     "execution_count": 13,
     "metadata": {},
     "output_type": "execute_result"
    }
   ],
   "source": [
    "df2 = pd.merge(command, position, left_index=True, right_index=True)\n",
    "df2"
   ]
  },
  {
   "cell_type": "code",
   "execution_count": 14,
   "id": "cd10b958",
   "metadata": {
    "execution": {
     "iopub.execute_input": "2022-10-04T15:35:41.627200Z",
     "iopub.status.busy": "2022-10-04T15:35:41.625492Z",
     "iopub.status.idle": "2022-10-04T15:35:41.944470Z",
     "shell.execute_reply": "2022-10-04T15:35:41.943005Z"
    },
    "papermill": {
     "duration": 0.33652,
     "end_time": "2022-10-04T15:35:41.947735",
     "exception": false,
     "start_time": "2022-10-04T15:35:41.611215",
     "status": "completed"
    },
    "tags": []
   },
   "outputs": [
    {
     "data": {
      "text/plain": [
       "<AxesSubplot:xlabel='O'>"
      ]
     },
     "execution_count": 14,
     "metadata": {},
     "output_type": "execute_result"
    },
    {
     "data": {
      "image/png": "[encoded data removed]",
      "text/plain": [
       "<Figure size 432x288 with 1 Axes>"
      ]
     },
     "metadata": {
      "needs_background": "light"
     },
     "output_type": "display_data"
    }
   ],
   "source": [
    "df2 = df2.dropna()\n",
    "df2.plot()"
   ]
  },
  {
   "cell_type": "code",
   "execution_count": 15,
   "id": "115f7191",
   "metadata": {
    "execution": {
     "iopub.execute_input": "2022-10-04T15:35:41.979977Z",
     "iopub.status.busy": "2022-10-04T15:35:41.979333Z",
     "iopub.status.idle": "2022-10-04T15:35:42.001066Z",
     "shell.execute_reply": "2022-10-04T15:35:41.999647Z"
    },
    "papermill": {
     "duration": 0.042002,
     "end_time": "2022-10-04T15:35:42.003790",
     "exception": false,
     "start_time": "2022-10-04T15:35:41.961788",
     "status": "completed"
    },
    "tags": []
   },
   "outputs": [
    {
     "data": {
      "text/html": [
       "<div>\n",
       "<style scoped>\n",
       "    .dataframe tbody tr th:only-of-type {\n",
       "        vertical-align: middle;\n",
       "    }\n",
       "\n",
       "    .dataframe tbody tr th {\n",
       "        vertical-align: top;\n",
       "    }\n",
       "\n",
       "    .dataframe thead th {\n",
       "        text-align: right;\n",
       "    }\n",
       "</style>\n",
       "<table border=\"1\" class=\"dataframe\">\n",
       "  <thead>\n",
       "    <tr style=\"text-align: right;\">\n",
       "      <th></th>\n",
       "      <th>C1</th>\n",
       "      <th>C2</th>\n",
       "      <th>P2</th>\n",
       "    </tr>\n",
       "  </thead>\n",
       "  <tbody>\n",
       "    <tr>\n",
       "      <th>count</th>\n",
       "      <td>6205.000000</td>\n",
       "      <td>6205.000000</td>\n",
       "      <td>6205.000000</td>\n",
       "    </tr>\n",
       "    <tr>\n",
       "      <th>mean</th>\n",
       "      <td>39.349234</td>\n",
       "      <td>52.610959</td>\n",
       "      <td>4836.388719</td>\n",
       "    </tr>\n",
       "    <tr>\n",
       "      <th>std</th>\n",
       "      <td>437.829163</td>\n",
       "      <td>362.581454</td>\n",
       "      <td>1494.196815</td>\n",
       "    </tr>\n",
       "    <tr>\n",
       "      <th>min</th>\n",
       "      <td>-1000.000000</td>\n",
       "      <td>-995.000000</td>\n",
       "      <td>1886.000000</td>\n",
       "    </tr>\n",
       "    <tr>\n",
       "      <th>25%</th>\n",
       "      <td>0.000000</td>\n",
       "      <td>0.000000</td>\n",
       "      <td>3505.000000</td>\n",
       "    </tr>\n",
       "    <tr>\n",
       "      <th>50%</th>\n",
       "      <td>0.000000</td>\n",
       "      <td>0.000000</td>\n",
       "      <td>4765.000000</td>\n",
       "    </tr>\n",
       "    <tr>\n",
       "      <th>75%</th>\n",
       "      <td>0.000000</td>\n",
       "      <td>0.000000</td>\n",
       "      <td>6496.000000</td>\n",
       "    </tr>\n",
       "    <tr>\n",
       "      <th>max</th>\n",
       "      <td>1000.000000</td>\n",
       "      <td>1000.000000</td>\n",
       "      <td>7689.000000</td>\n",
       "    </tr>\n",
       "  </tbody>\n",
       "</table>\n",
       "</div>"
      ],
      "text/plain": [
       "                C1           C2           P2\n",
       "count  6205.000000  6205.000000  6205.000000\n",
       "mean     39.349234    52.610959  4836.388719\n",
       "std     437.829163   362.581454  1494.196815\n",
       "min   -1000.000000  -995.000000  1886.000000\n",
       "25%       0.000000     0.000000  3505.000000\n",
       "50%       0.000000     0.000000  4765.000000\n",
       "75%       0.000000     0.000000  6496.000000\n",
       "max    1000.000000  1000.000000  7689.000000"
      ]
     },
     "execution_count": 15,
     "metadata": {},
     "output_type": "execute_result"
    }
   ],
   "source": [
    "df2.describe()"
   ]
  },
  {
   "cell_type": "code",
   "execution_count": 16,
   "id": "c1e26a49",
   "metadata": {
    "execution": {
     "iopub.execute_input": "2022-10-04T15:35:42.034301Z",
     "iopub.status.busy": "2022-10-04T15:35:42.033733Z",
     "iopub.status.idle": "2022-10-04T15:35:43.625500Z",
     "shell.execute_reply": "2022-10-04T15:35:43.623041Z"
    },
    "papermill": {
     "duration": 1.611824,
     "end_time": "2022-10-04T15:35:43.629420",
     "exception": false,
     "start_time": "2022-10-04T15:35:42.017596",
     "status": "completed"
    },
    "tags": []
   },
   "outputs": [],
   "source": [
    "df2.to_excel('df2.xlsx')"
   ]
  },
  {
   "cell_type": "markdown",
   "id": "fc942a69",
   "metadata": {
    "papermill": {
     "duration": 0.013083,
     "end_time": "2022-10-04T15:35:43.657083",
     "exception": false,
     "start_time": "2022-10-04T15:35:43.644000",
     "status": "completed"
    },
    "tags": []
   },
   "source": [
    "# Create additional columns"
   ]
  },
  {
   "cell_type": "code",
   "execution_count": 17,
   "id": "cdde6b27",
   "metadata": {
    "execution": {
     "iopub.execute_input": "2022-10-04T15:35:43.686013Z",
     "iopub.status.busy": "2022-10-04T15:35:43.685342Z",
     "iopub.status.idle": "2022-10-04T15:35:43.692110Z",
     "shell.execute_reply": "2022-10-04T15:35:43.690748Z"
    },
    "papermill": {
     "duration": 0.024729,
     "end_time": "2022-10-04T15:35:43.695390",
     "exception": false,
     "start_time": "2022-10-04T15:35:43.670661",
     "status": "completed"
    },
    "tags": []
   },
   "outputs": [],
   "source": [
    "df3 = df2.copy()"
   ]
  },
  {
   "cell_type": "code",
   "execution_count": 18,
   "id": "1c0523bb",
   "metadata": {
    "execution": {
     "iopub.execute_input": "2022-10-04T15:35:43.724923Z",
     "iopub.status.busy": "2022-10-04T15:35:43.724392Z",
     "iopub.status.idle": "2022-10-04T15:35:43.742110Z",
     "shell.execute_reply": "2022-10-04T15:35:43.741144Z"
    },
    "papermill": {
     "duration": 0.034137,
     "end_time": "2022-10-04T15:35:43.744127",
     "exception": false,
     "start_time": "2022-10-04T15:35:43.709990",
     "status": "completed"
    },
    "tags": []
   },
   "outputs": [
    {
     "data": {
      "text/html": [
       "<div>\n",
       "<style scoped>\n",
       "    .dataframe tbody tr th:only-of-type {\n",
       "        vertical-align: middle;\n",
       "    }\n",
       "\n",
       "    .dataframe tbody tr th {\n",
       "        vertical-align: top;\n",
       "    }\n",
       "\n",
       "    .dataframe thead th {\n",
       "        text-align: right;\n",
       "    }\n",
       "</style>\n",
       "<table border=\"1\" class=\"dataframe\">\n",
       "  <thead>\n",
       "    <tr style=\"text-align: right;\">\n",
       "      <th></th>\n",
       "      <th>C1</th>\n",
       "      <th>C2</th>\n",
       "      <th>P2</th>\n",
       "    </tr>\n",
       "    <tr>\n",
       "      <th>O</th>\n",
       "      <th></th>\n",
       "      <th></th>\n",
       "      <th></th>\n",
       "    </tr>\n",
       "  </thead>\n",
       "  <tbody>\n",
       "    <tr>\n",
       "      <th>1970-01-01 00:00:00.020</th>\n",
       "      <td>0.0</td>\n",
       "      <td>0.0</td>\n",
       "      <td>3369.0</td>\n",
       "    </tr>\n",
       "    <tr>\n",
       "      <th>1970-01-01 00:00:00.030</th>\n",
       "      <td>0.0</td>\n",
       "      <td>0.0</td>\n",
       "      <td>3371.0</td>\n",
       "    </tr>\n",
       "    <tr>\n",
       "      <th>1970-01-01 00:00:00.040</th>\n",
       "      <td>0.0</td>\n",
       "      <td>0.0</td>\n",
       "      <td>3374.0</td>\n",
       "    </tr>\n",
       "    <tr>\n",
       "      <th>1970-01-01 00:00:00.050</th>\n",
       "      <td>0.0</td>\n",
       "      <td>0.0</td>\n",
       "      <td>3377.0</td>\n",
       "    </tr>\n",
       "    <tr>\n",
       "      <th>1970-01-01 00:00:00.060</th>\n",
       "      <td>0.0</td>\n",
       "      <td>0.0</td>\n",
       "      <td>3380.0</td>\n",
       "    </tr>\n",
       "    <tr>\n",
       "      <th>...</th>\n",
       "      <td>...</td>\n",
       "      <td>...</td>\n",
       "      <td>...</td>\n",
       "    </tr>\n",
       "    <tr>\n",
       "      <th>1970-01-01 00:01:02.020</th>\n",
       "      <td>0.0</td>\n",
       "      <td>0.0</td>\n",
       "      <td>6523.0</td>\n",
       "    </tr>\n",
       "    <tr>\n",
       "      <th>1970-01-01 00:01:02.030</th>\n",
       "      <td>0.0</td>\n",
       "      <td>0.0</td>\n",
       "      <td>6523.0</td>\n",
       "    </tr>\n",
       "    <tr>\n",
       "      <th>1970-01-01 00:01:02.040</th>\n",
       "      <td>0.0</td>\n",
       "      <td>0.0</td>\n",
       "      <td>6523.0</td>\n",
       "    </tr>\n",
       "    <tr>\n",
       "      <th>1970-01-01 00:01:02.050</th>\n",
       "      <td>0.0</td>\n",
       "      <td>0.0</td>\n",
       "      <td>6523.0</td>\n",
       "    </tr>\n",
       "    <tr>\n",
       "      <th>1970-01-01 00:01:02.060</th>\n",
       "      <td>0.0</td>\n",
       "      <td>0.0</td>\n",
       "      <td>6523.0</td>\n",
       "    </tr>\n",
       "  </tbody>\n",
       "</table>\n",
       "<p>6205 rows × 3 columns</p>\n",
       "</div>"
      ],
      "text/plain": [
       "                          C1   C2      P2\n",
       "O                                        \n",
       "1970-01-01 00:00:00.020  0.0  0.0  3369.0\n",
       "1970-01-01 00:00:00.030  0.0  0.0  3371.0\n",
       "1970-01-01 00:00:00.040  0.0  0.0  3374.0\n",
       "1970-01-01 00:00:00.050  0.0  0.0  3377.0\n",
       "1970-01-01 00:00:00.060  0.0  0.0  3380.0\n",
       "...                      ...  ...     ...\n",
       "1970-01-01 00:01:02.020  0.0  0.0  6523.0\n",
       "1970-01-01 00:01:02.030  0.0  0.0  6523.0\n",
       "1970-01-01 00:01:02.040  0.0  0.0  6523.0\n",
       "1970-01-01 00:01:02.050  0.0  0.0  6523.0\n",
       "1970-01-01 00:01:02.060  0.0  0.0  6523.0\n",
       "\n",
       "[6205 rows x 3 columns]"
      ]
     },
     "execution_count": 18,
     "metadata": {},
     "output_type": "execute_result"
    }
   ],
   "source": [
    "df3"
   ]
  },
  {
   "cell_type": "code",
   "execution_count": 19,
   "id": "be44c03b",
   "metadata": {
    "execution": {
     "iopub.execute_input": "2022-10-04T15:35:43.773748Z",
     "iopub.status.busy": "2022-10-04T15:35:43.773134Z",
     "iopub.status.idle": "2022-10-04T15:35:43.798150Z",
     "shell.execute_reply": "2022-10-04T15:35:43.796793Z"
    },
    "papermill": {
     "duration": 0.043058,
     "end_time": "2022-10-04T15:35:43.800696",
     "exception": false,
     "start_time": "2022-10-04T15:35:43.757638",
     "status": "completed"
    },
    "tags": []
   },
   "outputs": [],
   "source": [
    "C1_BASE = 3  # start from columns 3\n",
    "C1_STEP = 3  # take 3 steps back\n",
    "C1_SIZE = 5 # was 33 in the ETH model\n",
    "\n",
    "C2_BASE = C1_BASE+C1_SIZE  # start from columns 3+5\n",
    "C2_STEP = 3  # take 3 steps back\n",
    "C2_SIZE = 2 # was 33 in the ETH model\n",
    "\n",
    "\n",
    "V_BASE = C1_BASE+C1_SIZE+C2_SIZE \n",
    "V_STEP = 1 # take 1 step back\n",
    "V_SIZE = 3 # was 10 in the ETH model\n",
    "\n",
    "# create columns with past commands\n",
    "for i in range(1,C1_SIZE+1):\n",
    "    df3[C1_BASE+i] = df3['C1'].shift(i*C1_STEP)\n",
    "    df3.rename(columns={C1_BASE+i:'C1-'+ str(i*C1_STEP)}, inplace=True)\n",
    "\n",
    "for i in range(1,C2_SIZE+1):\n",
    "    df3[C2_BASE+i] = df3['C2'].shift(i*C2_STEP)\n",
    "    df3.rename(columns={C2_BASE+i:'C2-'+ str(i*C2_STEP)}, inplace=True)\n",
    "\n",
    "# create velocities from positions\n",
    "df3['V2'] = df3['P2']-df3['P2'].shift(1)\n",
    "\n",
    "# filter velocities\n",
    "df3['V2'] = df3['V2'].rolling(velocity_rolling_length).mean()\n",
    "\n",
    "# create delta velocities from velocities\n",
    "df3['DV2'] = df3['V2']-df3['V2'].shift(1)\n",
    "\n",
    "# create columns with past velocities\n",
    "for i in range(1,V_SIZE+1):\n",
    "    df3[V_BASE+i] = df3['V2'].shift(i*V_STEP)\n",
    "    df3.rename(columns={V_BASE+i:'V2-'+ str(i*V_STEP)}, inplace=True)\n"
   ]
  },
  {
   "cell_type": "code",
   "execution_count": 20,
   "id": "9b887149",
   "metadata": {
    "execution": {
     "iopub.execute_input": "2022-10-04T15:35:43.830764Z",
     "iopub.status.busy": "2022-10-04T15:35:43.830135Z",
     "iopub.status.idle": "2022-10-04T15:35:43.861255Z",
     "shell.execute_reply": "2022-10-04T15:35:43.860320Z"
    },
    "papermill": {
     "duration": 0.049003,
     "end_time": "2022-10-04T15:35:43.863180",
     "exception": false,
     "start_time": "2022-10-04T15:35:43.814177",
     "status": "completed"
    },
    "tags": []
   },
   "outputs": [
    {
     "data": {
      "text/html": [
       "<div>\n",
       "<style scoped>\n",
       "    .dataframe tbody tr th:only-of-type {\n",
       "        vertical-align: middle;\n",
       "    }\n",
       "\n",
       "    .dataframe tbody tr th {\n",
       "        vertical-align: top;\n",
       "    }\n",
       "\n",
       "    .dataframe thead th {\n",
       "        text-align: right;\n",
       "    }\n",
       "</style>\n",
       "<table border=\"1\" class=\"dataframe\">\n",
       "  <thead>\n",
       "    <tr style=\"text-align: right;\">\n",
       "      <th></th>\n",
       "      <th>C1</th>\n",
       "      <th>C2</th>\n",
       "      <th>P2</th>\n",
       "      <th>C1-3</th>\n",
       "      <th>C1-6</th>\n",
       "      <th>C1-9</th>\n",
       "      <th>C1-12</th>\n",
       "      <th>C1-15</th>\n",
       "      <th>C2-3</th>\n",
       "      <th>C2-6</th>\n",
       "      <th>V2</th>\n",
       "      <th>DV2</th>\n",
       "      <th>V2-1</th>\n",
       "      <th>V2-2</th>\n",
       "      <th>V2-3</th>\n",
       "    </tr>\n",
       "    <tr>\n",
       "      <th>O</th>\n",
       "      <th></th>\n",
       "      <th></th>\n",
       "      <th></th>\n",
       "      <th></th>\n",
       "      <th></th>\n",
       "      <th></th>\n",
       "      <th></th>\n",
       "      <th></th>\n",
       "      <th></th>\n",
       "      <th></th>\n",
       "      <th></th>\n",
       "      <th></th>\n",
       "      <th></th>\n",
       "      <th></th>\n",
       "      <th></th>\n",
       "    </tr>\n",
       "  </thead>\n",
       "  <tbody>\n",
       "    <tr>\n",
       "      <th>1970-01-01 00:00:00.020</th>\n",
       "      <td>0.0</td>\n",
       "      <td>0.0</td>\n",
       "      <td>3369.0</td>\n",
       "      <td>0.0</td>\n",
       "      <td>0.0</td>\n",
       "      <td>0.0</td>\n",
       "      <td>0.0</td>\n",
       "      <td>0.0</td>\n",
       "      <td>0.0</td>\n",
       "      <td>0.0</td>\n",
       "      <td>0.0</td>\n",
       "      <td>0.0</td>\n",
       "      <td>0.0</td>\n",
       "      <td>0.0</td>\n",
       "      <td>0.0</td>\n",
       "    </tr>\n",
       "    <tr>\n",
       "      <th>1970-01-01 00:00:00.030</th>\n",
       "      <td>0.0</td>\n",
       "      <td>0.0</td>\n",
       "      <td>3371.0</td>\n",
       "      <td>0.0</td>\n",
       "      <td>0.0</td>\n",
       "      <td>0.0</td>\n",
       "      <td>0.0</td>\n",
       "      <td>0.0</td>\n",
       "      <td>0.0</td>\n",
       "      <td>0.0</td>\n",
       "      <td>0.0</td>\n",
       "      <td>0.0</td>\n",
       "      <td>0.0</td>\n",
       "      <td>0.0</td>\n",
       "      <td>0.0</td>\n",
       "    </tr>\n",
       "    <tr>\n",
       "      <th>1970-01-01 00:00:00.040</th>\n",
       "      <td>0.0</td>\n",
       "      <td>0.0</td>\n",
       "      <td>3374.0</td>\n",
       "      <td>0.0</td>\n",
       "      <td>0.0</td>\n",
       "      <td>0.0</td>\n",
       "      <td>0.0</td>\n",
       "      <td>0.0</td>\n",
       "      <td>0.0</td>\n",
       "      <td>0.0</td>\n",
       "      <td>0.0</td>\n",
       "      <td>0.0</td>\n",
       "      <td>0.0</td>\n",
       "      <td>0.0</td>\n",
       "      <td>0.0</td>\n",
       "    </tr>\n",
       "    <tr>\n",
       "      <th>1970-01-01 00:00:00.050</th>\n",
       "      <td>0.0</td>\n",
       "      <td>0.0</td>\n",
       "      <td>3377.0</td>\n",
       "      <td>0.0</td>\n",
       "      <td>0.0</td>\n",
       "      <td>0.0</td>\n",
       "      <td>0.0</td>\n",
       "      <td>0.0</td>\n",
       "      <td>0.0</td>\n",
       "      <td>0.0</td>\n",
       "      <td>0.0</td>\n",
       "      <td>0.0</td>\n",
       "      <td>0.0</td>\n",
       "      <td>0.0</td>\n",
       "      <td>0.0</td>\n",
       "    </tr>\n",
       "    <tr>\n",
       "      <th>1970-01-01 00:00:00.060</th>\n",
       "      <td>0.0</td>\n",
       "      <td>0.0</td>\n",
       "      <td>3380.0</td>\n",
       "      <td>0.0</td>\n",
       "      <td>0.0</td>\n",
       "      <td>0.0</td>\n",
       "      <td>0.0</td>\n",
       "      <td>0.0</td>\n",
       "      <td>0.0</td>\n",
       "      <td>0.0</td>\n",
       "      <td>0.0</td>\n",
       "      <td>0.0</td>\n",
       "      <td>0.0</td>\n",
       "      <td>0.0</td>\n",
       "      <td>0.0</td>\n",
       "    </tr>\n",
       "    <tr>\n",
       "      <th>...</th>\n",
       "      <td>...</td>\n",
       "      <td>...</td>\n",
       "      <td>...</td>\n",
       "      <td>...</td>\n",
       "      <td>...</td>\n",
       "      <td>...</td>\n",
       "      <td>...</td>\n",
       "      <td>...</td>\n",
       "      <td>...</td>\n",
       "      <td>...</td>\n",
       "      <td>...</td>\n",
       "      <td>...</td>\n",
       "      <td>...</td>\n",
       "      <td>...</td>\n",
       "      <td>...</td>\n",
       "    </tr>\n",
       "    <tr>\n",
       "      <th>1970-01-01 00:01:02.020</th>\n",
       "      <td>0.0</td>\n",
       "      <td>0.0</td>\n",
       "      <td>6523.0</td>\n",
       "      <td>0.0</td>\n",
       "      <td>0.0</td>\n",
       "      <td>0.0</td>\n",
       "      <td>0.0</td>\n",
       "      <td>0.0</td>\n",
       "      <td>0.0</td>\n",
       "      <td>0.0</td>\n",
       "      <td>0.0</td>\n",
       "      <td>0.0</td>\n",
       "      <td>0.0</td>\n",
       "      <td>0.0</td>\n",
       "      <td>0.0</td>\n",
       "    </tr>\n",
       "    <tr>\n",
       "      <th>1970-01-01 00:01:02.030</th>\n",
       "      <td>0.0</td>\n",
       "      <td>0.0</td>\n",
       "      <td>6523.0</td>\n",
       "      <td>0.0</td>\n",
       "      <td>0.0</td>\n",
       "      <td>0.0</td>\n",
       "      <td>0.0</td>\n",
       "      <td>0.0</td>\n",
       "      <td>0.0</td>\n",
       "      <td>0.0</td>\n",
       "      <td>0.0</td>\n",
       "      <td>0.0</td>\n",
       "      <td>0.0</td>\n",
       "      <td>0.0</td>\n",
       "      <td>0.0</td>\n",
       "    </tr>\n",
       "    <tr>\n",
       "      <th>1970-01-01 00:01:02.040</th>\n",
       "      <td>0.0</td>\n",
       "      <td>0.0</td>\n",
       "      <td>6523.0</td>\n",
       "      <td>0.0</td>\n",
       "      <td>0.0</td>\n",
       "      <td>0.0</td>\n",
       "      <td>0.0</td>\n",
       "      <td>0.0</td>\n",
       "      <td>0.0</td>\n",
       "      <td>0.0</td>\n",
       "      <td>0.0</td>\n",
       "      <td>0.0</td>\n",
       "      <td>0.0</td>\n",
       "      <td>0.0</td>\n",
       "      <td>0.0</td>\n",
       "    </tr>\n",
       "    <tr>\n",
       "      <th>1970-01-01 00:01:02.050</th>\n",
       "      <td>0.0</td>\n",
       "      <td>0.0</td>\n",
       "      <td>6523.0</td>\n",
       "      <td>0.0</td>\n",
       "      <td>0.0</td>\n",
       "      <td>0.0</td>\n",
       "      <td>0.0</td>\n",
       "      <td>0.0</td>\n",
       "      <td>0.0</td>\n",
       "      <td>0.0</td>\n",
       "      <td>0.0</td>\n",
       "      <td>0.0</td>\n",
       "      <td>0.0</td>\n",
       "      <td>0.0</td>\n",
       "      <td>0.0</td>\n",
       "    </tr>\n",
       "    <tr>\n",
       "      <th>1970-01-01 00:01:02.060</th>\n",
       "      <td>0.0</td>\n",
       "      <td>0.0</td>\n",
       "      <td>6523.0</td>\n",
       "      <td>0.0</td>\n",
       "      <td>0.0</td>\n",
       "      <td>0.0</td>\n",
       "      <td>0.0</td>\n",
       "      <td>0.0</td>\n",
       "      <td>0.0</td>\n",
       "      <td>0.0</td>\n",
       "      <td>0.0</td>\n",
       "      <td>0.0</td>\n",
       "      <td>0.0</td>\n",
       "      <td>0.0</td>\n",
       "      <td>0.0</td>\n",
       "    </tr>\n",
       "  </tbody>\n",
       "</table>\n",
       "<p>6205 rows × 15 columns</p>\n",
       "</div>"
      ],
      "text/plain": [
       "                          C1   C2      P2  C1-3  C1-6  C1-9  C1-12  C1-15  \\\n",
       "O                                                                           \n",
       "1970-01-01 00:00:00.020  0.0  0.0  3369.0   0.0   0.0   0.0    0.0    0.0   \n",
       "1970-01-01 00:00:00.030  0.0  0.0  3371.0   0.0   0.0   0.0    0.0    0.0   \n",
       "1970-01-01 00:00:00.040  0.0  0.0  3374.0   0.0   0.0   0.0    0.0    0.0   \n",
       "1970-01-01 00:00:00.050  0.0  0.0  3377.0   0.0   0.0   0.0    0.0    0.0   \n",
       "1970-01-01 00:00:00.060  0.0  0.0  3380.0   0.0   0.0   0.0    0.0    0.0   \n",
       "...                      ...  ...     ...   ...   ...   ...    ...    ...   \n",
       "1970-01-01 00:01:02.020  0.0  0.0  6523.0   0.0   0.0   0.0    0.0    0.0   \n",
       "1970-01-01 00:01:02.030  0.0  0.0  6523.0   0.0   0.0   0.0    0.0    0.0   \n",
       "1970-01-01 00:01:02.040  0.0  0.0  6523.0   0.0   0.0   0.0    0.0    0.0   \n",
       "1970-01-01 00:01:02.050  0.0  0.0  6523.0   0.0   0.0   0.0    0.0    0.0   \n",
       "1970-01-01 00:01:02.060  0.0  0.0  6523.0   0.0   0.0   0.0    0.0    0.0   \n",
       "\n",
       "                         C2-3  C2-6   V2  DV2  V2-1  V2-2  V2-3  \n",
       "O                                                                \n",
       "1970-01-01 00:00:00.020   0.0   0.0  0.0  0.0   0.0   0.0   0.0  \n",
       "1970-01-01 00:00:00.030   0.0   0.0  0.0  0.0   0.0   0.0   0.0  \n",
       "1970-01-01 00:00:00.040   0.0   0.0  0.0  0.0   0.0   0.0   0.0  \n",
       "1970-01-01 00:00:00.050   0.0   0.0  0.0  0.0   0.0   0.0   0.0  \n",
       "1970-01-01 00:00:00.060   0.0   0.0  0.0  0.0   0.0   0.0   0.0  \n",
       "...                       ...   ...  ...  ...   ...   ...   ...  \n",
       "1970-01-01 00:01:02.020   0.0   0.0  0.0  0.0   0.0   0.0   0.0  \n",
       "1970-01-01 00:01:02.030   0.0   0.0  0.0  0.0   0.0   0.0   0.0  \n",
       "1970-01-01 00:01:02.040   0.0   0.0  0.0  0.0   0.0   0.0   0.0  \n",
       "1970-01-01 00:01:02.050   0.0   0.0  0.0  0.0   0.0   0.0   0.0  \n",
       "1970-01-01 00:01:02.060   0.0   0.0  0.0  0.0   0.0   0.0   0.0  \n",
       "\n",
       "[6205 rows x 15 columns]"
      ]
     },
     "execution_count": 20,
     "metadata": {},
     "output_type": "execute_result"
    }
   ],
   "source": [
    "df3 = df3.fillna(0)\n",
    "df3"
   ]
  },
  {
   "cell_type": "markdown",
   "id": "47f872bb",
   "metadata": {
    "papermill": {
     "duration": 0.013081,
     "end_time": "2022-10-04T15:35:43.889678",
     "exception": false,
     "start_time": "2022-10-04T15:35:43.876597",
     "status": "completed"
    },
    "tags": []
   },
   "source": [
    "# Use KERAS"
   ]
  },
  {
   "cell_type": "code",
   "execution_count": 21,
   "id": "41c96b29",
   "metadata": {
    "execution": {
     "iopub.execute_input": "2022-10-04T15:35:43.920087Z",
     "iopub.status.busy": "2022-10-04T15:35:43.919409Z",
     "iopub.status.idle": "2022-10-04T15:35:51.403618Z",
     "shell.execute_reply": "2022-10-04T15:35:51.401818Z"
    },
    "papermill": {
     "duration": 7.503091,
     "end_time": "2022-10-04T15:35:51.406688",
     "exception": false,
     "start_time": "2022-10-04T15:35:43.903597",
     "status": "completed"
    },
    "tags": []
   },
   "outputs": [
    {
     "name": "stdout",
     "output_type": "stream",
     "text": [
      "2.6.4\n"
     ]
    }
   ],
   "source": [
    "import tensorflow as tf\n",
    "\n",
    "from tensorflow import keras\n",
    "from tensorflow.keras import layers\n",
    "\n",
    "print(tf.__version__)"
   ]
  },
  {
   "cell_type": "code",
   "execution_count": 22,
   "id": "dd2aadef",
   "metadata": {
    "execution": {
     "iopub.execute_input": "2022-10-04T15:35:51.437606Z",
     "iopub.status.busy": "2022-10-04T15:35:51.436697Z",
     "iopub.status.idle": "2022-10-04T15:35:51.444297Z",
     "shell.execute_reply": "2022-10-04T15:35:51.442004Z"
    },
    "papermill": {
     "duration": 0.026271,
     "end_time": "2022-10-04T15:35:51.447652",
     "exception": false,
     "start_time": "2022-10-04T15:35:51.421381",
     "status": "completed"
    },
    "tags": []
   },
   "outputs": [],
   "source": [
    "keras_dataset=df3.copy()"
   ]
  },
  {
   "cell_type": "code",
   "execution_count": 23,
   "id": "d1a067bc",
   "metadata": {
    "execution": {
     "iopub.execute_input": "2022-10-04T15:35:51.478145Z",
     "iopub.status.busy": "2022-10-04T15:35:51.477643Z",
     "iopub.status.idle": "2022-10-04T15:35:51.509600Z",
     "shell.execute_reply": "2022-10-04T15:35:51.507529Z"
    },
    "papermill": {
     "duration": 0.050791,
     "end_time": "2022-10-04T15:35:51.512901",
     "exception": false,
     "start_time": "2022-10-04T15:35:51.462110",
     "status": "completed"
    },
    "tags": []
   },
   "outputs": [],
   "source": [
    "# split dataset in train and test\n",
    "train_dataset = keras_dataset.sample(frac=0.8, random_state=0)\n",
    "test_dataset = keras_dataset.drop(train_dataset.index)\n",
    "\n",
    "# extract features and labels into separate arrays\n",
    "train_features = train_dataset.copy()\n",
    "train_features = train_features.drop(labels_column_names, axis=1)\n",
    "train_labels = train_dataset.loc[:, labels_column_names]\n",
    "\n",
    "test_features = test_dataset.copy()\n",
    "test_features = test_features.drop(labels_column_names, axis=1)\n",
    "test_labels = test_dataset.loc[:, labels_column_names]"
   ]
  },
  {
   "cell_type": "code",
   "execution_count": 24,
   "id": "961c346e",
   "metadata": {
    "execution": {
     "iopub.execute_input": "2022-10-04T15:35:51.543589Z",
     "iopub.status.busy": "2022-10-04T15:35:51.543142Z",
     "iopub.status.idle": "2022-10-04T15:35:51.577221Z",
     "shell.execute_reply": "2022-10-04T15:35:51.575281Z"
    },
    "papermill": {
     "duration": 0.052001,
     "end_time": "2022-10-04T15:35:51.579933",
     "exception": false,
     "start_time": "2022-10-04T15:35:51.527932",
     "status": "completed"
    },
    "tags": []
   },
   "outputs": [
    {
     "data": {
      "text/html": [
       "<div>\n",
       "<style scoped>\n",
       "    .dataframe tbody tr th:only-of-type {\n",
       "        vertical-align: middle;\n",
       "    }\n",
       "\n",
       "    .dataframe tbody tr th {\n",
       "        vertical-align: top;\n",
       "    }\n",
       "\n",
       "    .dataframe thead th {\n",
       "        text-align: right;\n",
       "    }\n",
       "</style>\n",
       "<table border=\"1\" class=\"dataframe\">\n",
       "  <thead>\n",
       "    <tr style=\"text-align: right;\">\n",
       "      <th></th>\n",
       "      <th>C1</th>\n",
       "      <th>C2</th>\n",
       "      <th>P2</th>\n",
       "      <th>C1-3</th>\n",
       "      <th>C1-6</th>\n",
       "      <th>C1-9</th>\n",
       "      <th>C1-12</th>\n",
       "      <th>C1-15</th>\n",
       "      <th>C2-3</th>\n",
       "      <th>C2-6</th>\n",
       "      <th>V2</th>\n",
       "      <th>V2-1</th>\n",
       "      <th>V2-2</th>\n",
       "      <th>V2-3</th>\n",
       "    </tr>\n",
       "    <tr>\n",
       "      <th>O</th>\n",
       "      <th></th>\n",
       "      <th></th>\n",
       "      <th></th>\n",
       "      <th></th>\n",
       "      <th></th>\n",
       "      <th></th>\n",
       "      <th></th>\n",
       "      <th></th>\n",
       "      <th></th>\n",
       "      <th></th>\n",
       "      <th></th>\n",
       "      <th></th>\n",
       "      <th></th>\n",
       "      <th></th>\n",
       "    </tr>\n",
       "  </thead>\n",
       "  <tbody>\n",
       "    <tr>\n",
       "      <th>1970-01-01 00:00:15.970</th>\n",
       "      <td>0.0</td>\n",
       "      <td>0.0</td>\n",
       "      <td>3544.0</td>\n",
       "      <td>0.0</td>\n",
       "      <td>0.0</td>\n",
       "      <td>0.0</td>\n",
       "      <td>0.0</td>\n",
       "      <td>0.0</td>\n",
       "      <td>0.0</td>\n",
       "      <td>0.0</td>\n",
       "      <td>-0.50</td>\n",
       "      <td>-0.20</td>\n",
       "      <td>-0.15</td>\n",
       "      <td>0.15</td>\n",
       "    </tr>\n",
       "    <tr>\n",
       "      <th>1970-01-01 00:00:41.850</th>\n",
       "      <td>0.0</td>\n",
       "      <td>-164.0</td>\n",
       "      <td>6010.0</td>\n",
       "      <td>0.0</td>\n",
       "      <td>0.0</td>\n",
       "      <td>0.0</td>\n",
       "      <td>0.0</td>\n",
       "      <td>0.0</td>\n",
       "      <td>-664.0</td>\n",
       "      <td>-792.0</td>\n",
       "      <td>-12.20</td>\n",
       "      <td>-11.85</td>\n",
       "      <td>-11.50</td>\n",
       "      <td>-11.10</td>\n",
       "    </tr>\n",
       "    <tr>\n",
       "      <th>1970-01-01 00:01:01.980</th>\n",
       "      <td>0.0</td>\n",
       "      <td>0.0</td>\n",
       "      <td>6523.0</td>\n",
       "      <td>0.0</td>\n",
       "      <td>0.0</td>\n",
       "      <td>0.0</td>\n",
       "      <td>0.0</td>\n",
       "      <td>0.0</td>\n",
       "      <td>0.0</td>\n",
       "      <td>0.0</td>\n",
       "      <td>0.00</td>\n",
       "      <td>0.00</td>\n",
       "      <td>0.00</td>\n",
       "      <td>0.00</td>\n",
       "    </tr>\n",
       "    <tr>\n",
       "      <th>1970-01-01 00:00:11.620</th>\n",
       "      <td>0.0</td>\n",
       "      <td>0.0</td>\n",
       "      <td>3512.0</td>\n",
       "      <td>0.0</td>\n",
       "      <td>0.0</td>\n",
       "      <td>0.0</td>\n",
       "      <td>0.0</td>\n",
       "      <td>0.0</td>\n",
       "      <td>0.0</td>\n",
       "      <td>0.0</td>\n",
       "      <td>0.00</td>\n",
       "      <td>0.00</td>\n",
       "      <td>0.00</td>\n",
       "      <td>0.00</td>\n",
       "    </tr>\n",
       "    <tr>\n",
       "      <th>1970-01-01 00:00:24.500</th>\n",
       "      <td>1000.0</td>\n",
       "      <td>0.0</td>\n",
       "      <td>3542.0</td>\n",
       "      <td>1000.0</td>\n",
       "      <td>1000.0</td>\n",
       "      <td>1000.0</td>\n",
       "      <td>1000.0</td>\n",
       "      <td>1000.0</td>\n",
       "      <td>0.0</td>\n",
       "      <td>0.0</td>\n",
       "      <td>5.80</td>\n",
       "      <td>6.05</td>\n",
       "      <td>5.90</td>\n",
       "      <td>6.15</td>\n",
       "    </tr>\n",
       "    <tr>\n",
       "      <th>...</th>\n",
       "      <td>...</td>\n",
       "      <td>...</td>\n",
       "      <td>...</td>\n",
       "      <td>...</td>\n",
       "      <td>...</td>\n",
       "      <td>...</td>\n",
       "      <td>...</td>\n",
       "      <td>...</td>\n",
       "      <td>...</td>\n",
       "      <td>...</td>\n",
       "      <td>...</td>\n",
       "      <td>...</td>\n",
       "      <td>...</td>\n",
       "      <td>...</td>\n",
       "    </tr>\n",
       "    <tr>\n",
       "      <th>1970-01-01 00:00:50.370</th>\n",
       "      <td>-311.0</td>\n",
       "      <td>1000.0</td>\n",
       "      <td>7223.0</td>\n",
       "      <td>-331.0</td>\n",
       "      <td>-340.0</td>\n",
       "      <td>-341.0</td>\n",
       "      <td>-342.0</td>\n",
       "      <td>-343.0</td>\n",
       "      <td>1000.0</td>\n",
       "      <td>1000.0</td>\n",
       "      <td>6.65</td>\n",
       "      <td>6.75</td>\n",
       "      <td>6.95</td>\n",
       "      <td>7.15</td>\n",
       "    </tr>\n",
       "    <tr>\n",
       "      <th>1970-01-01 00:00:55.550</th>\n",
       "      <td>0.0</td>\n",
       "      <td>0.0</td>\n",
       "      <td>6562.0</td>\n",
       "      <td>0.0</td>\n",
       "      <td>0.0</td>\n",
       "      <td>0.0</td>\n",
       "      <td>0.0</td>\n",
       "      <td>0.0</td>\n",
       "      <td>0.0</td>\n",
       "      <td>0.0</td>\n",
       "      <td>3.25</td>\n",
       "      <td>3.50</td>\n",
       "      <td>3.65</td>\n",
       "      <td>3.70</td>\n",
       "    </tr>\n",
       "    <tr>\n",
       "      <th>1970-01-01 00:01:01.870</th>\n",
       "      <td>0.0</td>\n",
       "      <td>0.0</td>\n",
       "      <td>6523.0</td>\n",
       "      <td>0.0</td>\n",
       "      <td>0.0</td>\n",
       "      <td>0.0</td>\n",
       "      <td>0.0</td>\n",
       "      <td>0.0</td>\n",
       "      <td>0.0</td>\n",
       "      <td>0.0</td>\n",
       "      <td>0.00</td>\n",
       "      <td>0.00</td>\n",
       "      <td>0.00</td>\n",
       "      <td>0.00</td>\n",
       "    </tr>\n",
       "    <tr>\n",
       "      <th>1970-01-01 00:00:54.180</th>\n",
       "      <td>-652.0</td>\n",
       "      <td>1000.0</td>\n",
       "      <td>6538.0</td>\n",
       "      <td>-651.0</td>\n",
       "      <td>-654.0</td>\n",
       "      <td>-652.0</td>\n",
       "      <td>-652.0</td>\n",
       "      <td>-695.0</td>\n",
       "      <td>1000.0</td>\n",
       "      <td>1000.0</td>\n",
       "      <td>-6.30</td>\n",
       "      <td>-6.25</td>\n",
       "      <td>-6.40</td>\n",
       "      <td>-6.30</td>\n",
       "    </tr>\n",
       "    <tr>\n",
       "      <th>1970-01-01 00:00:02.410</th>\n",
       "      <td>0.0</td>\n",
       "      <td>0.0</td>\n",
       "      <td>3377.0</td>\n",
       "      <td>0.0</td>\n",
       "      <td>0.0</td>\n",
       "      <td>0.0</td>\n",
       "      <td>0.0</td>\n",
       "      <td>0.0</td>\n",
       "      <td>0.0</td>\n",
       "      <td>0.0</td>\n",
       "      <td>-0.80</td>\n",
       "      <td>-0.80</td>\n",
       "      <td>-0.80</td>\n",
       "      <td>-0.75</td>\n",
       "    </tr>\n",
       "  </tbody>\n",
       "</table>\n",
       "<p>4964 rows × 14 columns</p>\n",
       "</div>"
      ],
      "text/plain": [
       "                             C1      C2      P2    C1-3    C1-6    C1-9  \\\n",
       "O                                                                         \n",
       "1970-01-01 00:00:15.970     0.0     0.0  3544.0     0.0     0.0     0.0   \n",
       "1970-01-01 00:00:41.850     0.0  -164.0  6010.0     0.0     0.0     0.0   \n",
       "1970-01-01 00:01:01.980     0.0     0.0  6523.0     0.0     0.0     0.0   \n",
       "1970-01-01 00:00:11.620     0.0     0.0  3512.0     0.0     0.0     0.0   \n",
       "1970-01-01 00:00:24.500  1000.0     0.0  3542.0  1000.0  1000.0  1000.0   \n",
       "...                         ...     ...     ...     ...     ...     ...   \n",
       "1970-01-01 00:00:50.370  -311.0  1000.0  7223.0  -331.0  -340.0  -341.0   \n",
       "1970-01-01 00:00:55.550     0.0     0.0  6562.0     0.0     0.0     0.0   \n",
       "1970-01-01 00:01:01.870     0.0     0.0  6523.0     0.0     0.0     0.0   \n",
       "1970-01-01 00:00:54.180  -652.0  1000.0  6538.0  -651.0  -654.0  -652.0   \n",
       "1970-01-01 00:00:02.410     0.0     0.0  3377.0     0.0     0.0     0.0   \n",
       "\n",
       "                          C1-12   C1-15    C2-3    C2-6     V2   V2-1   V2-2  \\\n",
       "O                                                                              \n",
       "1970-01-01 00:00:15.970     0.0     0.0     0.0     0.0  -0.50  -0.20  -0.15   \n",
       "1970-01-01 00:00:41.850     0.0     0.0  -664.0  -792.0 -12.20 -11.85 -11.50   \n",
       "1970-01-01 00:01:01.980     0.0     0.0     0.0     0.0   0.00   0.00   0.00   \n",
       "1970-01-01 00:00:11.620     0.0     0.0     0.0     0.0   0.00   0.00   0.00   \n",
       "1970-01-01 00:00:24.500  1000.0  1000.0     0.0     0.0   5.80   6.05   5.90   \n",
       "...                         ...     ...     ...     ...    ...    ...    ...   \n",
       "1970-01-01 00:00:50.370  -342.0  -343.0  1000.0  1000.0   6.65   6.75   6.95   \n",
       "1970-01-01 00:00:55.550     0.0     0.0     0.0     0.0   3.25   3.50   3.65   \n",
       "1970-01-01 00:01:01.870     0.0     0.0     0.0     0.0   0.00   0.00   0.00   \n",
       "1970-01-01 00:00:54.180  -652.0  -695.0  1000.0  1000.0  -6.30  -6.25  -6.40   \n",
       "1970-01-01 00:00:02.410     0.0     0.0     0.0     0.0  -0.80  -0.80  -0.80   \n",
       "\n",
       "                          V2-3  \n",
       "O                               \n",
       "1970-01-01 00:00:15.970   0.15  \n",
       "1970-01-01 00:00:41.850 -11.10  \n",
       "1970-01-01 00:01:01.980   0.00  \n",
       "1970-01-01 00:00:11.620   0.00  \n",
       "1970-01-01 00:00:24.500   6.15  \n",
       "...                        ...  \n",
       "1970-01-01 00:00:50.370   7.15  \n",
       "1970-01-01 00:00:55.550   3.70  \n",
       "1970-01-01 00:01:01.870   0.00  \n",
       "1970-01-01 00:00:54.180  -6.30  \n",
       "1970-01-01 00:00:02.410  -0.75  \n",
       "\n",
       "[4964 rows x 14 columns]"
      ]
     },
     "execution_count": 24,
     "metadata": {},
     "output_type": "execute_result"
    }
   ],
   "source": [
    "train_features"
   ]
  },
  {
   "cell_type": "markdown",
   "id": "bb70a374",
   "metadata": {
    "papermill": {
     "duration": 0.015287,
     "end_time": "2022-10-04T15:35:51.611789",
     "exception": false,
     "start_time": "2022-10-04T15:35:51.596502",
     "status": "completed"
    },
    "tags": []
   },
   "source": [
    "## Normalization"
   ]
  },
  {
   "cell_type": "code",
   "execution_count": 25,
   "id": "88e74683",
   "metadata": {
    "execution": {
     "iopub.execute_input": "2022-10-04T15:35:51.646986Z",
     "iopub.status.busy": "2022-10-04T15:35:51.646434Z",
     "iopub.status.idle": "2022-10-04T15:35:52.275493Z",
     "shell.execute_reply": "2022-10-04T15:35:52.273615Z"
    },
    "papermill": {
     "duration": 0.650565,
     "end_time": "2022-10-04T15:35:52.278186",
     "exception": false,
     "start_time": "2022-10-04T15:35:51.627621",
     "status": "completed"
    },
    "tags": []
   },
   "outputs": [
    {
     "name": "stderr",
     "output_type": "stream",
     "text": [
      "2022-10-04 15:35:51.724913: I tensorflow/core/common_runtime/process_util.cc:146] Creating new thread pool with default inter op setting: 2. Tune using inter_op_parallelism_threads for best performance.\n",
      "2022-10-04 15:35:51.843427: I tensorflow/compiler/mlir/mlir_graph_optimization_pass.cc:185] None of the MLIR Optimization Passes are enabled (registered 2)\n"
     ]
    },
    {
     "name": "stdout",
     "output_type": "stream",
     "text": [
      "[[3.7551159e+01 5.4985912e+01 4.8341089e+03 3.6776981e+01 3.6354160e+01\n",
      "  3.6044533e+01 3.6346508e+01 3.7081997e+01 5.5782833e+01 5.7036057e+01\n",
      "  5.4700840e-01 5.4797518e-01 5.4916412e-01 5.4916412e-01]]\n"
     ]
    }
   ],
   "source": [
    "# show train_dataset mean and std\n",
    "train_dataset.describe().transpose()\n",
    "\n",
    "# create a Normalization layer\n",
    "normalizer = tf.keras.layers.Normalization(axis=-1)  # many variables\n",
    "# normalizer = tf.keras.layers.Normalization(input_shape=[1,], axis=None) #one variable\n",
    "\n",
    "# set mean and std for Normalization layer\n",
    "normalizer.adapt(np.array(train_features))\n",
    "print(normalizer.mean.numpy())"
   ]
  },
  {
   "cell_type": "markdown",
   "id": "e7b5ebef",
   "metadata": {
    "papermill": {
     "duration": 0.013523,
     "end_time": "2022-10-04T15:35:52.305575",
     "exception": false,
     "start_time": "2022-10-04T15:35:52.292052",
     "status": "completed"
    },
    "tags": []
   },
   "source": [
    "## Utility functions"
   ]
  },
  {
   "cell_type": "code",
   "execution_count": 26,
   "id": "240913a2",
   "metadata": {
    "execution": {
     "iopub.execute_input": "2022-10-04T15:35:52.335222Z",
     "iopub.status.busy": "2022-10-04T15:35:52.334663Z",
     "iopub.status.idle": "2022-10-04T15:35:52.342999Z",
     "shell.execute_reply": "2022-10-04T15:35:52.341389Z"
    },
    "papermill": {
     "duration": 0.026197,
     "end_time": "2022-10-04T15:35:52.345355",
     "exception": false,
     "start_time": "2022-10-04T15:35:52.319158",
     "status": "completed"
    },
    "tags": []
   },
   "outputs": [],
   "source": [
    "def plot_loss(history, ymax=100):\n",
    "  plt.plot(history.history['loss'], label='loss')\n",
    "  plt.plot(history.history['val_loss'], label='val_loss')\n",
    "  plt.ylim([0, ymax])\n",
    "  plt.xlabel('Epoch')\n",
    "  plt.ylabel('Error [y]')\n",
    "  plt.legend()\n",
    "  plt.grid(True)"
   ]
  },
  {
   "cell_type": "markdown",
   "id": "755abc46",
   "metadata": {
    "papermill": {
     "duration": 0.013451,
     "end_time": "2022-10-04T15:35:52.372683",
     "exception": false,
     "start_time": "2022-10-04T15:35:52.359232",
     "status": "completed"
    },
    "tags": []
   },
   "source": [
    "## Regression using a DNN"
   ]
  },
  {
   "cell_type": "code",
   "execution_count": 27,
   "id": "d62900b9",
   "metadata": {
    "execution": {
     "iopub.execute_input": "2022-10-04T15:35:52.402374Z",
     "iopub.status.busy": "2022-10-04T15:35:52.401897Z",
     "iopub.status.idle": "2022-10-04T15:35:52.476793Z",
     "shell.execute_reply": "2022-10-04T15:35:52.474431Z"
    },
    "papermill": {
     "duration": 0.093097,
     "end_time": "2022-10-04T15:35:52.479603",
     "exception": false,
     "start_time": "2022-10-04T15:35:52.386506",
     "status": "completed"
    },
    "tags": []
   },
   "outputs": [
    {
     "name": "stdout",
     "output_type": "stream",
     "text": [
      "Model: \"sequential\"\n",
      "_________________________________________________________________\n",
      "Layer (type)                 Output Shape              Param #   \n",
      "=================================================================\n",
      "normalization (Normalization (None, 14)                29        \n",
      "_________________________________________________________________\n",
      "dense (Dense)                (None, 128)               1920      \n",
      "_________________________________________________________________\n",
      "dense_1 (Dense)              (None, 128)               16512     \n",
      "_________________________________________________________________\n",
      "dense_2 (Dense)              (None, 128)               16512     \n",
      "_________________________________________________________________\n",
      "dense_3 (Dense)              (None, 1)                 129       \n",
      "=================================================================\n",
      "Total params: 35,102\n",
      "Trainable params: 35,073\n",
      "Non-trainable params: 29\n",
      "_________________________________________________________________\n"
     ]
    }
   ],
   "source": [
    "# create keras model\n",
    "\n",
    "dnn_model = keras.Sequential([\n",
    "      normalizer,\n",
    "      layers.Dense(units=128, activation='relu'),\n",
    "      layers.Dense(units = 128, activation='relu'),\n",
    "      layers.Dense(units=128, activation='relu'),\n",
    "      layers.Dense(output_dimension)\n",
    "  ])\n",
    "\n",
    "dnn_model.compile(loss='mean_absolute_error',\n",
    "                optimizer=tf.keras.optimizers.Adam(0.001))\n",
    "dnn_model.summary()"
   ]
  },
  {
   "cell_type": "code",
   "execution_count": 28,
   "id": "7d77473f",
   "metadata": {
    "execution": {
     "iopub.execute_input": "2022-10-04T15:35:52.510442Z",
     "iopub.status.busy": "2022-10-04T15:35:52.509879Z",
     "iopub.status.idle": "2022-10-04T15:35:59.021441Z",
     "shell.execute_reply": "2022-10-04T15:35:59.019059Z"
    },
    "papermill": {
     "duration": 6.531063,
     "end_time": "2022-10-04T15:35:59.025410",
     "exception": false,
     "start_time": "2022-10-04T15:35:52.494347",
     "status": "completed"
    },
    "tags": []
   },
   "outputs": [],
   "source": [
    "# train keras model\n",
    "\n",
    "history = dnn_model.fit(\n",
    "    train_features,\n",
    "    train_labels,\n",
    "    validation_split=0.2,\n",
    "    verbose=0, \n",
    "    epochs=10\n",
    ")"
   ]
  },
  {
   "cell_type": "code",
   "execution_count": 29,
   "id": "21dbecda",
   "metadata": {
    "execution": {
     "iopub.execute_input": "2022-10-04T15:35:59.059780Z",
     "iopub.status.busy": "2022-10-04T15:35:59.058027Z",
     "iopub.status.idle": "2022-10-04T15:35:59.271187Z",
     "shell.execute_reply": "2022-10-04T15:35:59.269007Z"
    },
    "papermill": {
     "duration": 0.23285,
     "end_time": "2022-10-04T15:35:59.273846",
     "exception": false,
     "start_time": "2022-10-04T15:35:59.040996",
     "status": "completed"
    },
    "tags": []
   },
   "outputs": [
    {
     "data": {
      "image/png": "[encoded data removed]",
      "text/plain": [
       "<Figure size 432x288 with 1 Axes>"
      ]
     },
     "metadata": {
      "needs_background": "light"
     },
     "output_type": "display_data"
    }
   ],
   "source": [
    "plot_loss(history,2)"
   ]
  },
  {
   "cell_type": "markdown",
   "id": "96b1006e",
   "metadata": {
    "papermill": {
     "duration": 0.014436,
     "end_time": "2022-10-04T15:35:59.303666",
     "exception": false,
     "start_time": "2022-10-04T15:35:59.289230",
     "status": "completed"
    },
    "tags": []
   },
   "source": [
    "## Evaluate model with test_data"
   ]
  },
  {
   "cell_type": "code",
   "execution_count": 30,
   "id": "7246ecbd",
   "metadata": {
    "execution": {
     "iopub.execute_input": "2022-10-04T15:35:59.337652Z",
     "iopub.status.busy": "2022-10-04T15:35:59.335587Z",
     "iopub.status.idle": "2022-10-04T15:35:59.522766Z",
     "shell.execute_reply": "2022-10-04T15:35:59.520307Z"
    },
    "papermill": {
     "duration": 0.207492,
     "end_time": "2022-10-04T15:35:59.526468",
     "exception": false,
     "start_time": "2022-10-04T15:35:59.318976",
     "status": "completed"
    },
    "tags": []
   },
   "outputs": [
    {
     "data": {
      "text/plain": [
       "0.08645425736904144"
      ]
     },
     "execution_count": 30,
     "metadata": {},
     "output_type": "execute_result"
    }
   ],
   "source": [
    "# evaluate model loss with test_data \n",
    "test_results = {}\n",
    "test_results = dnn_model.evaluate(test_features, test_labels, verbose=0)\n",
    "test_results"
   ]
  },
  {
   "cell_type": "code",
   "execution_count": 31,
   "id": "f3e2274d",
   "metadata": {
    "execution": {
     "iopub.execute_input": "2022-10-04T15:35:59.563904Z",
     "iopub.status.busy": "2022-10-04T15:35:59.563385Z",
     "iopub.status.idle": "2022-10-04T15:36:00.028760Z",
     "shell.execute_reply": "2022-10-04T15:36:00.026289Z"
    },
    "papermill": {
     "duration": 0.488597,
     "end_time": "2022-10-04T15:36:00.031911",
     "exception": false,
     "start_time": "2022-10-04T15:35:59.543314",
     "status": "completed"
    },
    "tags": []
   },
   "outputs": [
    {
     "data": {
      "image/png": "[encoded data removed]",
      "text/plain": [
       "<Figure size 432x288 with 1 Axes>"
      ]
     },
     "metadata": {
      "needs_background": "light"
     },
     "output_type": "display_data"
    }
   ],
   "source": [
    "# compare test predictions with test labels\n",
    "test_predictions = dnn_model.predict(test_features)\n",
    "\n",
    "a = plt.axes(aspect='equal')\n",
    "plt.scatter(test_labels, test_predictions)\n",
    "plt.xlabel('True Values [y]')\n",
    "plt.ylabel('Predictions [y]')\n",
    "lims = [0, 2]\n",
    "plt.xlim(lims)\n",
    "plt.ylim(lims)\n",
    "_ = plt.plot(lims, lims)"
   ]
  },
  {
   "cell_type": "code",
   "execution_count": 32,
   "id": "b6d67753",
   "metadata": {
    "execution": {
     "iopub.execute_input": "2022-10-04T15:36:00.068826Z",
     "iopub.status.busy": "2022-10-04T15:36:00.066800Z",
     "iopub.status.idle": "2022-10-04T15:36:00.288147Z",
     "shell.execute_reply": "2022-10-04T15:36:00.287173Z"
    },
    "papermill": {
     "duration": 0.241673,
     "end_time": "2022-10-04T15:36:00.291403",
     "exception": false,
     "start_time": "2022-10-04T15:36:00.049730",
     "status": "completed"
    },
    "tags": []
   },
   "outputs": [
    {
     "data": {
      "image/png": "[encoded data removed]",
      "text/plain": [
       "<Figure size 432x288 with 1 Axes>"
      ]
     },
     "metadata": {
      "needs_background": "light"
     },
     "output_type": "display_data"
    }
   ],
   "source": [
    "# evaluate predictions error\n",
    "error = test_predictions - test_labels\n",
    "plt.hist(error, bins=25)\n",
    "plt.xlabel('Prediction Error [y]')\n",
    "_ = plt.ylabel('Count')"
   ]
  },
  {
   "cell_type": "code",
   "execution_count": 33,
   "id": "e80d4a4b",
   "metadata": {
    "execution": {
     "iopub.execute_input": "2022-10-04T15:36:00.326746Z",
     "iopub.status.busy": "2022-10-04T15:36:00.325087Z",
     "iopub.status.idle": "2022-10-04T15:36:00.495242Z",
     "shell.execute_reply": "2022-10-04T15:36:00.493399Z"
    },
    "papermill": {
     "duration": 0.190781,
     "end_time": "2022-10-04T15:36:00.497981",
     "exception": false,
     "start_time": "2022-10-04T15:36:00.307200",
     "status": "completed"
    },
    "tags": []
   },
   "outputs": [
    {
     "data": {
      "text/plain": [
       "[<matplotlib.lines.Line2D at 0x7fdd5de85650>]"
      ]
     },
     "execution_count": 33,
     "metadata": {},
     "output_type": "execute_result"
    },
    {
     "data": {
      "image/png": "[encoded data removed]",
      "text/plain": [
       "<Figure size 432x288 with 1 Axes>"
      ]
     },
     "metadata": {
      "needs_background": "light"
     },
     "output_type": "display_data"
    }
   ],
   "source": [
    "plt.plot(test_predictions)"
   ]
  },
  {
   "cell_type": "code",
   "execution_count": 34,
   "id": "787b0b31",
   "metadata": {
    "execution": {
     "iopub.execute_input": "2022-10-04T15:36:00.532429Z",
     "iopub.status.busy": "2022-10-04T15:36:00.531864Z",
     "iopub.status.idle": "2022-10-04T15:36:01.216972Z",
     "shell.execute_reply": "2022-10-04T15:36:01.214849Z"
    },
    "papermill": {
     "duration": 0.70608,
     "end_time": "2022-10-04T15:36:01.220322",
     "exception": false,
     "start_time": "2022-10-04T15:36:00.514242",
     "status": "completed"
    },
    "tags": []
   },
   "outputs": [
    {
     "data": {
      "text/plain": [
       "<AxesSubplot:xlabel='O'>"
      ]
     },
     "execution_count": 34,
     "metadata": {},
     "output_type": "execute_result"
    },
    {
     "data": {
      "image/png": "[encoded data removed]",
      "text/plain": [
       "<Figure size 432x288 with 1 Axes>"
      ]
     },
     "metadata": {
      "needs_background": "light"
     },
     "output_type": "display_data"
    }
   ],
   "source": [
    "df3[labels_column_names].plot()"
   ]
  },
  {
   "cell_type": "markdown",
   "id": "50ebb93a",
   "metadata": {
    "papermill": {
     "duration": 0.016804,
     "end_time": "2022-10-04T15:36:01.255433",
     "exception": false,
     "start_time": "2022-10-04T15:36:01.238629",
     "status": "completed"
    },
    "tags": []
   },
   "source": [
    "## Save and Load model"
   ]
  },
  {
   "cell_type": "code",
   "execution_count": 35,
   "id": "42e3d153",
   "metadata": {
    "execution": {
     "iopub.execute_input": "2022-10-04T15:36:01.291273Z",
     "iopub.status.busy": "2022-10-04T15:36:01.290791Z",
     "iopub.status.idle": "2022-10-04T15:36:02.418941Z",
     "shell.execute_reply": "2022-10-04T15:36:02.417156Z"
    },
    "papermill": {
     "duration": 1.152875,
     "end_time": "2022-10-04T15:36:02.424786",
     "exception": false,
     "start_time": "2022-10-04T15:36:01.271911",
     "status": "completed"
    },
    "tags": []
   },
   "outputs": [
    {
     "name": "stderr",
     "output_type": "stream",
     "text": [
      "2022-10-04 15:36:01.681485: W tensorflow/python/util/util.cc:348] Sets are not currently considered sequences, but this may change in the future, so consider avoiding using them.\n"
     ]
    }
   ],
   "source": [
    "dnn_model.save(model_filename)"
   ]
  },
  {
   "cell_type": "code",
   "execution_count": 36,
   "id": "7ca92da5",
   "metadata": {
    "execution": {
     "iopub.execute_input": "2022-10-04T15:36:02.459932Z",
     "iopub.status.busy": "2022-10-04T15:36:02.459505Z",
     "iopub.status.idle": "2022-10-04T15:36:02.820551Z",
     "shell.execute_reply": "2022-10-04T15:36:02.818136Z"
    },
    "papermill": {
     "duration": 0.386722,
     "end_time": "2022-10-04T15:36:02.828063",
     "exception": false,
     "start_time": "2022-10-04T15:36:02.441341",
     "status": "completed"
    },
    "tags": []
   },
   "outputs": [],
   "source": [
    "reloaded = tf.keras.models.load_model(model_filename)"
   ]
  }
 ],
 "metadata": {
  "kernelspec": {
   "display_name": "Python 3",
   "language": "python",
   "name": "python3"
  },
  "language_info": {
   "codemirror_mode": {
    "name": "ipython",
    "version": 3
   },
   "file_extension": ".py",
   "mimetype": "text/x-python",
   "name": "python",
   "nbconvert_exporter": "python",
   "pygments_lexer": "ipython3",
   "version": "3.7.12"
  },
  "papermill": {
   "default_parameters": {},
   "duration": 44.154273,
   "end_time": "2022-10-04T15:36:05.987231",
   "environment_variables": {},
   "exception": null,
   "input_path": "__notebook__.ipynb",
   "output_path": "__notebook__.ipynb",
   "parameters": {},
   "start_time": "2022-10-04T15:35:21.832958",
   "version": "2.3.4"
  }
 },
 "nbformat": 4,
 "nbformat_minor": 5
}
