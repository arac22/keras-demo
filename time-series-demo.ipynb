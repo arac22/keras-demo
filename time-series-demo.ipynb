{
 "cells": [
  {
   "cell_type": "markdown",
   "id": "f91565ac",
   "metadata": {
    "papermill": {
     "duration": 0.01154,
     "end_time": "2022-10-03T16:26:19.973915",
     "exception": false,
     "start_time": "2022-10-03T16:26:19.962375",
     "status": "completed"
    },
    "tags": []
   },
   "source": [
    "Useful links\n",
    "\n",
    "https://www.dataquest.io/blog/tutorial-time-series-analysis-with-pandas/"
   ]
  },
  {
   "cell_type": "code",
   "execution_count": 1,
   "id": "c7b2248d",
   "metadata": {
    "_cell_guid": "b1076dfc-b9ad-4769-8c92-a6c4dae69d19",
    "_uuid": "8f2839f25d086af736a60e9eeb907d3b93b6e0e5",
    "execution": {
     "iopub.execute_input": "2022-10-03T16:26:19.996810Z",
     "iopub.status.busy": "2022-10-03T16:26:19.996080Z",
     "iopub.status.idle": "2022-10-03T16:26:20.019820Z",
     "shell.execute_reply": "2022-10-03T16:26:20.018661Z"
    },
    "papermill": {
     "duration": 0.039422,
     "end_time": "2022-10-03T16:26:20.024043",
     "exception": false,
     "start_time": "2022-10-03T16:26:19.984621",
     "status": "completed"
    },
    "tags": []
   },
   "outputs": [
    {
     "name": "stdout",
     "output_type": "stream",
     "text": [
      "/kaggle/input/posital-2-braccio/Posital 2 braccio.trc\n"
     ]
    }
   ],
   "source": [
    "# This Python 3 environment comes with many helpful analytics libraries installed\n",
    "# It is defined by the kaggle/python Docker image: https://github.com/kaggle/docker-python\n",
    "# For example, here's several helpful packages to load\n",
    "\n",
    "import numpy as np # linear algebra\n",
    "import pandas as pd # data processing, CSV file I/O (e.g. pd.read_csv)\n",
    "from functools import partial\n",
    "\n",
    "import matplotlib.pyplot as plt\n",
    "\n",
    "# Input data files are available in the read-only \"../input/\" directory\n",
    "# For example, running this (by clicking run or pressing Shift+Enter) will list all files under the input directory\n",
    "\n",
    "import os\n",
    "for dirname, _, filenames in os.walk('/kaggle/input'):\n",
    "    for filename in filenames:\n",
    "        print(os.path.join(dirname, filename))\n",
    "\n",
    "# You can write up to 20GB to the current directory (/kaggle/working/) that gets preserved as output when you create a version using \"Save & Run All\" \n",
    "# You can also write temporary files to /kaggle/temp/, but they won't be saved outside of the current session"
   ]
  },
  {
   "cell_type": "code",
   "execution_count": 2,
   "id": "1f78fcc7",
   "metadata": {
    "execution": {
     "iopub.execute_input": "2022-10-03T16:26:20.048370Z",
     "iopub.status.busy": "2022-10-03T16:26:20.047626Z",
     "iopub.status.idle": "2022-10-03T16:26:20.053694Z",
     "shell.execute_reply": "2022-10-03T16:26:20.052524Z"
    },
    "papermill": {
     "duration": 0.019562,
     "end_time": "2022-10-03T16:26:20.055865",
     "exception": false,
     "start_time": "2022-10-03T16:26:20.036303",
     "status": "completed"
    },
    "tags": []
   },
   "outputs": [],
   "source": [
    "# adjust these parameters\n",
    "\n",
    "# data collection\n",
    "fname = \"../input/posital-2-braccio/Posital 2 braccio.trc\"\n",
    "rows_to_skip = 20\n",
    "\n",
    "# data filter\n",
    "command_rolling_length = 1\n",
    "position_rolling_length = 1\n",
    "velocity_rolling_length = 100\n",
    "\n",
    "# keras model\n",
    "labels_column_names = ['V2']\n",
    "output_dimension = len(labels_column_names)\n",
    "model_filename= './model_1'"
   ]
  },
  {
   "cell_type": "code",
   "execution_count": 3,
   "id": "87642148",
   "metadata": {
    "execution": {
     "iopub.execute_input": "2022-10-03T16:26:20.079633Z",
     "iopub.status.busy": "2022-10-03T16:26:20.078873Z",
     "iopub.status.idle": "2022-10-03T16:26:20.090359Z",
     "shell.execute_reply": "2022-10-03T16:26:20.089136Z"
    },
    "papermill": {
     "duration": 0.025544,
     "end_time": "2022-10-03T16:26:20.093062",
     "exception": false,
     "start_time": "2022-10-03T16:26:20.067518",
     "status": "completed"
    },
    "tags": []
   },
   "outputs": [],
   "source": [
    "# utility function: convert hex string to unsigned int (es. FF00 -> 65280)\n",
    "def hex2int_unsigned(hex_val):\n",
    "    return int(hex_val,16)"
   ]
  },
  {
   "cell_type": "code",
   "execution_count": 4,
   "id": "f7b334a1",
   "metadata": {
    "execution": {
     "iopub.execute_input": "2022-10-03T16:26:20.114957Z",
     "iopub.status.busy": "2022-10-03T16:26:20.114563Z",
     "iopub.status.idle": "2022-10-03T16:26:20.120059Z",
     "shell.execute_reply": "2022-10-03T16:26:20.118812Z"
    },
    "papermill": {
     "duration": 0.019112,
     "end_time": "2022-10-03T16:26:20.122226",
     "exception": false,
     "start_time": "2022-10-03T16:26:20.103114",
     "status": "completed"
    },
    "tags": []
   },
   "outputs": [],
   "source": [
    "# utility function: convert hex string to signed int (es. FF00 -> -256)\n",
    "def hex2int_signed(hexval):\n",
    "    bits = 16\n",
    "    val = int(hexval, bits)\n",
    "    if val & (1 << (bits-1)):\n",
    "        val -= 1 << bits\n",
    "    return val"
   ]
  },
  {
   "cell_type": "code",
   "execution_count": 5,
   "id": "a5a3570b",
   "metadata": {
    "execution": {
     "iopub.execute_input": "2022-10-03T16:26:20.144563Z",
     "iopub.status.busy": "2022-10-03T16:26:20.143765Z",
     "iopub.status.idle": "2022-10-03T16:26:27.784344Z",
     "shell.execute_reply": "2022-10-03T16:26:27.783260Z"
    },
    "papermill": {
     "duration": 7.654535,
     "end_time": "2022-10-03T16:26:27.786743",
     "exception": false,
     "start_time": "2022-10-03T16:26:20.132208",
     "status": "completed"
    },
    "tags": []
   },
   "outputs": [
    {
     "data": {
      "text/html": [
       "<div>\n",
       "<style scoped>\n",
       "    .dataframe tbody tr th:only-of-type {\n",
       "        vertical-align: middle;\n",
       "    }\n",
       "\n",
       "    .dataframe tbody tr th {\n",
       "        vertical-align: top;\n",
       "    }\n",
       "\n",
       "    .dataframe thead th {\n",
       "        text-align: right;\n",
       "    }\n",
       "</style>\n",
       "<table border=\"1\" class=\"dataframe\">\n",
       "  <thead>\n",
       "    <tr style=\"text-align: right;\">\n",
       "      <th></th>\n",
       "      <th>N</th>\n",
       "      <th>T</th>\n",
       "      <th>B</th>\n",
       "      <th>I</th>\n",
       "      <th>d</th>\n",
       "      <th>R</th>\n",
       "      <th>L</th>\n",
       "      <th>D0</th>\n",
       "      <th>D1</th>\n",
       "      <th>D2</th>\n",
       "      <th>D3</th>\n",
       "      <th>D4</th>\n",
       "      <th>D5</th>\n",
       "      <th>D6</th>\n",
       "      <th>D7</th>\n",
       "    </tr>\n",
       "    <tr>\n",
       "      <th>O</th>\n",
       "      <th></th>\n",
       "      <th></th>\n",
       "      <th></th>\n",
       "      <th></th>\n",
       "      <th></th>\n",
       "      <th></th>\n",
       "      <th></th>\n",
       "      <th></th>\n",
       "      <th></th>\n",
       "      <th></th>\n",
       "      <th></th>\n",
       "      <th></th>\n",
       "      <th></th>\n",
       "      <th></th>\n",
       "      <th></th>\n",
       "    </tr>\n",
       "  </thead>\n",
       "  <tbody>\n",
       "    <tr>\n",
       "      <th>1970-01-01 00:00:00.000059</th>\n",
       "      <td>1</td>\n",
       "      <td>DT</td>\n",
       "      <td>4</td>\n",
       "      <td>0181</td>\n",
       "      <td>Rx</td>\n",
       "      <td>-</td>\n",
       "      <td>4</td>\n",
       "      <td>06</td>\n",
       "      <td>B2</td>\n",
       "      <td>95</td>\n",
       "      <td>11</td>\n",
       "      <td>NaN</td>\n",
       "      <td>NaN</td>\n",
       "      <td>NaN</td>\n",
       "      <td>NaN</td>\n",
       "    </tr>\n",
       "    <tr>\n",
       "      <th>1970-01-01 00:00:00.001133</th>\n",
       "      <td>2</td>\n",
       "      <td>DT</td>\n",
       "      <td>4</td>\n",
       "      <td>0281</td>\n",
       "      <td>Rx</td>\n",
       "      <td>-</td>\n",
       "      <td>8</td>\n",
       "      <td>DF</td>\n",
       "      <td>B1</td>\n",
       "      <td>FF</td>\n",
       "      <td>FF</td>\n",
       "      <td>6E</td>\n",
       "      <td>11</td>\n",
       "      <td>01</td>\n",
       "      <td>00</td>\n",
       "    </tr>\n",
       "    <tr>\n",
       "      <th>1970-01-01 00:00:00.002679</th>\n",
       "      <td>3</td>\n",
       "      <td>DT</td>\n",
       "      <td>4</td>\n",
       "      <td>03B1</td>\n",
       "      <td>Rx</td>\n",
       "      <td>-</td>\n",
       "      <td>8</td>\n",
       "      <td>DE</td>\n",
       "      <td>01</td>\n",
       "      <td>66</td>\n",
       "      <td>03</td>\n",
       "      <td>6F</td>\n",
       "      <td>01</td>\n",
       "      <td>0E</td>\n",
       "      <td>02</td>\n",
       "    </tr>\n",
       "    <tr>\n",
       "      <th>1970-01-01 00:00:00.002910</th>\n",
       "      <td>4</td>\n",
       "      <td>DT</td>\n",
       "      <td>4</td>\n",
       "      <td>01B1</td>\n",
       "      <td>Rx</td>\n",
       "      <td>-</td>\n",
       "      <td>8</td>\n",
       "      <td>5C</td>\n",
       "      <td>03</td>\n",
       "      <td>9B</td>\n",
       "      <td>05</td>\n",
       "      <td>D1</td>\n",
       "      <td>06</td>\n",
       "      <td>22</td>\n",
       "      <td>03</td>\n",
       "    </tr>\n",
       "    <tr>\n",
       "      <th>1970-01-01 00:00:00.004752</th>\n",
       "      <td>5</td>\n",
       "      <td>DT</td>\n",
       "      <td>4</td>\n",
       "      <td>0CF02AE3</td>\n",
       "      <td>Rx</td>\n",
       "      <td>-</td>\n",
       "      <td>8</td>\n",
       "      <td>C5</td>\n",
       "      <td>7C</td>\n",
       "      <td>3A</td>\n",
       "      <td>7D</td>\n",
       "      <td>15</td>\n",
       "      <td>7B</td>\n",
       "      <td>00</td>\n",
       "      <td>05</td>\n",
       "    </tr>\n",
       "    <tr>\n",
       "      <th>...</th>\n",
       "      <td>...</td>\n",
       "      <td>...</td>\n",
       "      <td>...</td>\n",
       "      <td>...</td>\n",
       "      <td>...</td>\n",
       "      <td>...</td>\n",
       "      <td>...</td>\n",
       "      <td>...</td>\n",
       "      <td>...</td>\n",
       "      <td>...</td>\n",
       "      <td>...</td>\n",
       "      <td>...</td>\n",
       "      <td>...</td>\n",
       "      <td>...</td>\n",
       "      <td>...</td>\n",
       "    </tr>\n",
       "    <tr>\n",
       "      <th>1970-01-01 00:01:02.077336</th>\n",
       "      <td>75846</td>\n",
       "      <td>DT</td>\n",
       "      <td>4</td>\n",
       "      <td>08F02DE3</td>\n",
       "      <td>Rx</td>\n",
       "      <td>-</td>\n",
       "      <td>8</td>\n",
       "      <td>C8</td>\n",
       "      <td>80</td>\n",
       "      <td>C1</td>\n",
       "      <td>7D</td>\n",
       "      <td>00</td>\n",
       "      <td>7D</td>\n",
       "      <td>00</td>\n",
       "      <td>00</td>\n",
       "    </tr>\n",
       "    <tr>\n",
       "      <th>1970-01-01 00:01:02.077569</th>\n",
       "      <td>75847</td>\n",
       "      <td>DT</td>\n",
       "      <td>4</td>\n",
       "      <td>03B1</td>\n",
       "      <td>Rx</td>\n",
       "      <td>-</td>\n",
       "      <td>8</td>\n",
       "      <td>A8</td>\n",
       "      <td>01</td>\n",
       "      <td>15</td>\n",
       "      <td>03</td>\n",
       "      <td>17</td>\n",
       "      <td>01</td>\n",
       "      <td>E3</td>\n",
       "      <td>01</td>\n",
       "    </tr>\n",
       "    <tr>\n",
       "      <th>1970-01-01 00:01:02.077802</th>\n",
       "      <td>75848</td>\n",
       "      <td>DT</td>\n",
       "      <td>4</td>\n",
       "      <td>01B1</td>\n",
       "      <td>Rx</td>\n",
       "      <td>-</td>\n",
       "      <td>8</td>\n",
       "      <td>FD</td>\n",
       "      <td>02</td>\n",
       "      <td>BB</td>\n",
       "      <td>04</td>\n",
       "      <td>F4</td>\n",
       "      <td>04</td>\n",
       "      <td>46</td>\n",
       "      <td>02</td>\n",
       "    </tr>\n",
       "    <tr>\n",
       "      <th>1970-01-01 00:01:02.078074</th>\n",
       "      <td>75849</td>\n",
       "      <td>DT</td>\n",
       "      <td>4</td>\n",
       "      <td>0CF029E3</td>\n",
       "      <td>Rx</td>\n",
       "      <td>-</td>\n",
       "      <td>8</td>\n",
       "      <td>7E</td>\n",
       "      <td>A9</td>\n",
       "      <td>82</td>\n",
       "      <td>1D</td>\n",
       "      <td>F3</td>\n",
       "      <td>A9</td>\n",
       "      <td>00</td>\n",
       "      <td>05</td>\n",
       "    </tr>\n",
       "    <tr>\n",
       "      <th>1970-01-01 00:01:02.078596</th>\n",
       "      <td>75850</td>\n",
       "      <td>DT</td>\n",
       "      <td>4</td>\n",
       "      <td>0181</td>\n",
       "      <td>Rx</td>\n",
       "      <td>-</td>\n",
       "      <td>4</td>\n",
       "      <td>13</td>\n",
       "      <td>37</td>\n",
       "      <td>79</td>\n",
       "      <td>28</td>\n",
       "      <td>NaN</td>\n",
       "      <td>NaN</td>\n",
       "      <td>NaN</td>\n",
       "      <td>NaN</td>\n",
       "    </tr>\n",
       "  </tbody>\n",
       "</table>\n",
       "<p>75850 rows × 15 columns</p>\n",
       "</div>"
      ],
      "text/plain": [
       "                                N   T  B         I   d  R  L  D0  D1  D2  D3  \\\n",
       "O                                                                              \n",
       "1970-01-01 00:00:00.000059      1  DT  4      0181  Rx  -  4  06  B2  95  11   \n",
       "1970-01-01 00:00:00.001133      2  DT  4      0281  Rx  -  8  DF  B1  FF  FF   \n",
       "1970-01-01 00:00:00.002679      3  DT  4      03B1  Rx  -  8  DE  01  66  03   \n",
       "1970-01-01 00:00:00.002910      4  DT  4      01B1  Rx  -  8  5C  03  9B  05   \n",
       "1970-01-01 00:00:00.004752      5  DT  4  0CF02AE3  Rx  -  8  C5  7C  3A  7D   \n",
       "...                           ...  .. ..       ...  .. .. ..  ..  ..  ..  ..   \n",
       "1970-01-01 00:01:02.077336  75846  DT  4  08F02DE3  Rx  -  8  C8  80  C1  7D   \n",
       "1970-01-01 00:01:02.077569  75847  DT  4      03B1  Rx  -  8  A8  01  15  03   \n",
       "1970-01-01 00:01:02.077802  75848  DT  4      01B1  Rx  -  8  FD  02  BB  04   \n",
       "1970-01-01 00:01:02.078074  75849  DT  4  0CF029E3  Rx  -  8  7E  A9  82  1D   \n",
       "1970-01-01 00:01:02.078596  75850  DT  4      0181  Rx  -  4  13  37  79  28   \n",
       "\n",
       "                             D4   D5   D6   D7  \n",
       "O                                               \n",
       "1970-01-01 00:00:00.000059  NaN  NaN  NaN  NaN  \n",
       "1970-01-01 00:00:00.001133   6E   11   01   00  \n",
       "1970-01-01 00:00:00.002679   6F   01   0E   02  \n",
       "1970-01-01 00:00:00.002910   D1   06   22   03  \n",
       "1970-01-01 00:00:00.004752   15   7B   00   05  \n",
       "...                         ...  ...  ...  ...  \n",
       "1970-01-01 00:01:02.077336   00   7D   00   00  \n",
       "1970-01-01 00:01:02.077569   17   01   E3   01  \n",
       "1970-01-01 00:01:02.077802   F4   04   46   02  \n",
       "1970-01-01 00:01:02.078074   F3   A9   00   05  \n",
       "1970-01-01 00:01:02.078596  NaN  NaN  NaN  NaN  \n",
       "\n",
       "[75850 rows x 15 columns]"
      ]
     },
     "execution_count": 5,
     "metadata": {},
     "output_type": "execute_result"
    }
   ],
   "source": [
    "# read text file into pandas DataFrame\n",
    "df = pd.read_csv(\n",
    "        fname,\n",
    "        delim_whitespace=True, \n",
    "        skiprows = rows_to_skip, \n",
    "        header=None, \n",
    "        names=[\"N\",\"O\",\"T\",\"B\",\"I\",\"d\",\"R\",\"L\",\"D0\",\"D1\",\"D2\",\"D3\",\"D4\",\"D5\",\"D6\",\"D7\"],\n",
    "        #nrows=10000,\n",
    "        index_col = 'O',\n",
    "        converters={\n",
    "            'O': partial(pd.to_datetime,unit='ms',infer_datetime_format=True)\n",
    "            #    'D0': partial(int, base=16),\n",
    "        }\n",
    "        \n",
    "    )\n",
    "\n",
    "# display DataFrame\n",
    "df"
   ]
  },
  {
   "cell_type": "code",
   "execution_count": 6,
   "id": "9a56d5f8",
   "metadata": {
    "execution": {
     "iopub.execute_input": "2022-10-03T16:26:27.809534Z",
     "iopub.status.busy": "2022-10-03T16:26:27.809107Z",
     "iopub.status.idle": "2022-10-03T16:26:27.813728Z",
     "shell.execute_reply": "2022-10-03T16:26:27.812613Z"
    },
    "papermill": {
     "duration": 0.019276,
     "end_time": "2022-10-03T16:26:27.816604",
     "exception": false,
     "start_time": "2022-10-03T16:26:27.797328",
     "status": "completed"
    },
    "tags": []
   },
   "outputs": [],
   "source": [
    "# start_time = pd.to_datetime('26/05/2022 12:09:59.00')    \n",
    "# converters = {'O': lambda x: pd.to_datetime(float(x), unit='ms', origin = start_time)}"
   ]
  },
  {
   "cell_type": "code",
   "execution_count": 7,
   "id": "6063c199",
   "metadata": {
    "execution": {
     "iopub.execute_input": "2022-10-03T16:26:27.839277Z",
     "iopub.status.busy": "2022-10-03T16:26:27.838873Z",
     "iopub.status.idle": "2022-10-03T16:26:28.236665Z",
     "shell.execute_reply": "2022-10-03T16:26:28.235511Z"
    },
    "papermill": {
     "duration": 0.411972,
     "end_time": "2022-10-03T16:26:28.239148",
     "exception": false,
     "start_time": "2022-10-03T16:26:27.827176",
     "status": "completed"
    },
    "tags": []
   },
   "outputs": [
    {
     "name": "stderr",
     "output_type": "stream",
     "text": [
      "/opt/conda/lib/python3.7/site-packages/ipykernel_launcher.py:5: SettingWithCopyWarning: \n",
      "A value is trying to be set on a copy of a slice from a DataFrame.\n",
      "Try using .loc[row_indexer,col_indexer] = value instead\n",
      "\n",
      "See the caveats in the documentation: https://pandas.pydata.org/pandas-docs/stable/user_guide/indexing.html#returning-a-view-versus-a-copy\n",
      "  \"\"\"\n"
     ]
    },
    {
     "data": {
      "text/plain": [
       "<AxesSubplot:xlabel='O'>"
      ]
     },
     "execution_count": 7,
     "metadata": {},
     "output_type": "execute_result"
    },
    {
     "data": {
      "image/png": "[encoded data removed]",
      "text/plain": [
       "<Figure size 432x288 with 1 Axes>"
      ]
     },
     "metadata": {
      "needs_background": "light"
     },
     "output_type": "display_data"
    }
   ],
   "source": [
    "# select posital rows\n",
    "posital = df[df[\"I\"] == '0182']\n",
    "\n",
    "# convert angle from hex bytes to unsigned int\n",
    "posital['P2'] = (posital['D1'] + posital['D0']).apply(hex2int_unsigned)\n",
    "\n",
    "# resample at 10 milliseconds\n",
    "posital = posital.resample(\"10L\").ffill()\n",
    "\n",
    "posital['P2'].plot()"
   ]
  },
  {
   "cell_type": "code",
   "execution_count": 8,
   "id": "b472722c",
   "metadata": {
    "execution": {
     "iopub.execute_input": "2022-10-03T16:26:28.263128Z",
     "iopub.status.busy": "2022-10-03T16:26:28.262694Z",
     "iopub.status.idle": "2022-10-03T16:26:28.606392Z",
     "shell.execute_reply": "2022-10-03T16:26:28.605161Z"
    },
    "papermill": {
     "duration": 0.358474,
     "end_time": "2022-10-03T16:26:28.608783",
     "exception": false,
     "start_time": "2022-10-03T16:26:28.250309",
     "status": "completed"
    },
    "tags": []
   },
   "outputs": [
    {
     "name": "stderr",
     "output_type": "stream",
     "text": [
      "/opt/conda/lib/python3.7/site-packages/ipykernel_launcher.py:5: SettingWithCopyWarning: \n",
      "A value is trying to be set on a copy of a slice from a DataFrame.\n",
      "Try using .loc[row_indexer,col_indexer] = value instead\n",
      "\n",
      "See the caveats in the documentation: https://pandas.pydata.org/pandas-docs/stable/user_guide/indexing.html#returning-a-view-versus-a-copy\n",
      "  \"\"\"\n",
      "/opt/conda/lib/python3.7/site-packages/ipykernel_launcher.py:6: SettingWithCopyWarning: \n",
      "A value is trying to be set on a copy of a slice from a DataFrame.\n",
      "Try using .loc[row_indexer,col_indexer] = value instead\n",
      "\n",
      "See the caveats in the documentation: https://pandas.pydata.org/pandas-docs/stable/user_guide/indexing.html#returning-a-view-versus-a-copy\n",
      "  \n"
     ]
    },
    {
     "data": {
      "text/plain": [
       "<AxesSubplot:xlabel='O'>"
      ]
     },
     "execution_count": 8,
     "metadata": {},
     "output_type": "execute_result"
    },
    {
     "data": {
      "image/png": "[encoded data removed]",
      "text/plain": [
       "<Figure size 432x288 with 1 Axes>"
      ]
     },
     "metadata": {
      "needs_background": "light"
     },
     "output_type": "display_data"
    }
   ],
   "source": [
    "# select joystick rows\n",
    "command = df[df[\"I\"] == '02B2']\n",
    "\n",
    "# convert set points from hex strings to signed int\n",
    "command['C2'] = (command['D1'] + command['D0']).apply(hex2int_signed)\n",
    "command['C1'] = (command['D3'] + command['D2']).apply(hex2int_signed)\n",
    "\n",
    "# resample at 10 milliseconds\n",
    "command = command.resample(\"10L\").ffill()\n",
    "\n",
    "command['C2'].plot()"
   ]
  },
  {
   "cell_type": "code",
   "execution_count": 9,
   "id": "895cd61b",
   "metadata": {
    "execution": {
     "iopub.execute_input": "2022-10-03T16:26:28.633856Z",
     "iopub.status.busy": "2022-10-03T16:26:28.633111Z",
     "iopub.status.idle": "2022-10-03T16:26:29.310868Z",
     "shell.execute_reply": "2022-10-03T16:26:29.309413Z"
    },
    "papermill": {
     "duration": 0.693492,
     "end_time": "2022-10-03T16:26:29.313842",
     "exception": false,
     "start_time": "2022-10-03T16:26:28.620350",
     "status": "completed"
    },
    "tags": []
   },
   "outputs": [
    {
     "data": {
      "image/png": "[encoded data removed]",
      "text/plain": [
       "<Figure size 432x288 with 2 Axes>"
      ]
     },
     "metadata": {
      "needs_background": "light"
     },
     "output_type": "display_data"
    }
   ],
   "source": [
    "fig, ax = plt.subplots()\n",
    "ax2 = ax.twinx()\n",
    "\n",
    "posital.plot(y=['P2'], ax=ax)\n",
    "command.plot(y=[\"C1\", \"C2\"], ax=ax2, ls=\"--\")\n",
    "\n",
    "plt.show()"
   ]
  },
  {
   "cell_type": "code",
   "execution_count": 10,
   "id": "07d3057a",
   "metadata": {
    "execution": {
     "iopub.execute_input": "2022-10-03T16:26:29.341371Z",
     "iopub.status.busy": "2022-10-03T16:26:29.340503Z",
     "iopub.status.idle": "2022-10-03T16:26:29.348191Z",
     "shell.execute_reply": "2022-10-03T16:26:29.346902Z"
    },
    "papermill": {
     "duration": 0.023848,
     "end_time": "2022-10-03T16:26:29.350367",
     "exception": false,
     "start_time": "2022-10-03T16:26:29.326519",
     "status": "completed"
    },
    "tags": []
   },
   "outputs": [
    {
     "data": {
      "text/plain": [
       "6207"
      ]
     },
     "execution_count": 10,
     "metadata": {},
     "output_type": "execute_result"
    }
   ],
   "source": [
    "min_length = min(command.shape[0], posital.shape[0])\n",
    "min_length"
   ]
  },
  {
   "cell_type": "code",
   "execution_count": 11,
   "id": "9bf7f38f",
   "metadata": {
    "execution": {
     "iopub.execute_input": "2022-10-03T16:26:29.377898Z",
     "iopub.status.busy": "2022-10-03T16:26:29.377003Z",
     "iopub.status.idle": "2022-10-03T16:26:29.756843Z",
     "shell.execute_reply": "2022-10-03T16:26:29.755725Z"
    },
    "papermill": {
     "duration": 0.396249,
     "end_time": "2022-10-03T16:26:29.759179",
     "exception": false,
     "start_time": "2022-10-03T16:26:29.362930",
     "status": "completed"
    },
    "tags": []
   },
   "outputs": [
    {
     "data": {
      "text/plain": [
       "<AxesSubplot:xlabel='O'>"
      ]
     },
     "execution_count": 11,
     "metadata": {},
     "output_type": "execute_result"
    },
    {
     "data": {
      "image/png": "[encoded data removed]",
      "text/plain": [
       "<Figure size 432x288 with 1 Axes>"
      ]
     },
     "metadata": {
      "needs_background": "light"
     },
     "output_type": "display_data"
    }
   ],
   "source": [
    "command = command[['C1','C2']].iloc[0:min_length].copy()\n",
    "command = command.rolling(command_rolling_length).mean()\n",
    "command.plot()"
   ]
  },
  {
   "cell_type": "code",
   "execution_count": 12,
   "id": "2addf854",
   "metadata": {
    "execution": {
     "iopub.execute_input": "2022-10-03T16:26:29.787823Z",
     "iopub.status.busy": "2022-10-03T16:26:29.787392Z",
     "iopub.status.idle": "2022-10-03T16:26:30.124940Z",
     "shell.execute_reply": "2022-10-03T16:26:30.123814Z"
    },
    "papermill": {
     "duration": 0.3546,
     "end_time": "2022-10-03T16:26:30.127425",
     "exception": false,
     "start_time": "2022-10-03T16:26:29.772825",
     "status": "completed"
    },
    "tags": []
   },
   "outputs": [
    {
     "data": {
      "text/plain": [
       "<AxesSubplot:xlabel='O'>"
      ]
     },
     "execution_count": 12,
     "metadata": {},
     "output_type": "execute_result"
    },
    {
     "data": {
      "image/png": "[encoded data removed]",
      "text/plain": [
       "<Figure size 432x288 with 1 Axes>"
      ]
     },
     "metadata": {
      "needs_background": "light"
     },
     "output_type": "display_data"
    }
   ],
   "source": [
    "position = posital[['P2']].iloc[0:min_length].copy()\n",
    "\n",
    "position = position.rolling(position_rolling_length).mean()\n",
    "position.plot()"
   ]
  },
  {
   "cell_type": "code",
   "execution_count": 13,
   "id": "0ba421d3",
   "metadata": {
    "execution": {
     "iopub.execute_input": "2022-10-03T16:26:30.157159Z",
     "iopub.status.busy": "2022-10-03T16:26:30.156708Z",
     "iopub.status.idle": "2022-10-03T16:26:30.181296Z",
     "shell.execute_reply": "2022-10-03T16:26:30.180154Z"
    },
    "papermill": {
     "duration": 0.042323,
     "end_time": "2022-10-03T16:26:30.183889",
     "exception": false,
     "start_time": "2022-10-03T16:26:30.141566",
     "status": "completed"
    },
    "tags": []
   },
   "outputs": [
    {
     "data": {
      "text/html": [
       "<div>\n",
       "<style scoped>\n",
       "    .dataframe tbody tr th:only-of-type {\n",
       "        vertical-align: middle;\n",
       "    }\n",
       "\n",
       "    .dataframe tbody tr th {\n",
       "        vertical-align: top;\n",
       "    }\n",
       "\n",
       "    .dataframe thead th {\n",
       "        text-align: right;\n",
       "    }\n",
       "</style>\n",
       "<table border=\"1\" class=\"dataframe\">\n",
       "  <thead>\n",
       "    <tr style=\"text-align: right;\">\n",
       "      <th></th>\n",
       "      <th>C1</th>\n",
       "      <th>C2</th>\n",
       "      <th>P2</th>\n",
       "    </tr>\n",
       "    <tr>\n",
       "      <th>O</th>\n",
       "      <th></th>\n",
       "      <th></th>\n",
       "      <th></th>\n",
       "    </tr>\n",
       "  </thead>\n",
       "  <tbody>\n",
       "    <tr>\n",
       "      <th>1970-01-01 00:00:00.010</th>\n",
       "      <td>NaN</td>\n",
       "      <td>NaN</td>\n",
       "      <td>3366.0</td>\n",
       "    </tr>\n",
       "    <tr>\n",
       "      <th>1970-01-01 00:00:00.020</th>\n",
       "      <td>0.0</td>\n",
       "      <td>0.0</td>\n",
       "      <td>3369.0</td>\n",
       "    </tr>\n",
       "    <tr>\n",
       "      <th>1970-01-01 00:00:00.030</th>\n",
       "      <td>0.0</td>\n",
       "      <td>0.0</td>\n",
       "      <td>3371.0</td>\n",
       "    </tr>\n",
       "    <tr>\n",
       "      <th>1970-01-01 00:00:00.040</th>\n",
       "      <td>0.0</td>\n",
       "      <td>0.0</td>\n",
       "      <td>3374.0</td>\n",
       "    </tr>\n",
       "    <tr>\n",
       "      <th>1970-01-01 00:00:00.050</th>\n",
       "      <td>0.0</td>\n",
       "      <td>0.0</td>\n",
       "      <td>3377.0</td>\n",
       "    </tr>\n",
       "    <tr>\n",
       "      <th>...</th>\n",
       "      <td>...</td>\n",
       "      <td>...</td>\n",
       "      <td>...</td>\n",
       "    </tr>\n",
       "    <tr>\n",
       "      <th>1970-01-01 00:01:02.020</th>\n",
       "      <td>0.0</td>\n",
       "      <td>0.0</td>\n",
       "      <td>6523.0</td>\n",
       "    </tr>\n",
       "    <tr>\n",
       "      <th>1970-01-01 00:01:02.030</th>\n",
       "      <td>0.0</td>\n",
       "      <td>0.0</td>\n",
       "      <td>6523.0</td>\n",
       "    </tr>\n",
       "    <tr>\n",
       "      <th>1970-01-01 00:01:02.040</th>\n",
       "      <td>0.0</td>\n",
       "      <td>0.0</td>\n",
       "      <td>6523.0</td>\n",
       "    </tr>\n",
       "    <tr>\n",
       "      <th>1970-01-01 00:01:02.050</th>\n",
       "      <td>0.0</td>\n",
       "      <td>0.0</td>\n",
       "      <td>6523.0</td>\n",
       "    </tr>\n",
       "    <tr>\n",
       "      <th>1970-01-01 00:01:02.060</th>\n",
       "      <td>0.0</td>\n",
       "      <td>0.0</td>\n",
       "      <td>6523.0</td>\n",
       "    </tr>\n",
       "  </tbody>\n",
       "</table>\n",
       "<p>6206 rows × 3 columns</p>\n",
       "</div>"
      ],
      "text/plain": [
       "                          C1   C2      P2\n",
       "O                                        \n",
       "1970-01-01 00:00:00.010  NaN  NaN  3366.0\n",
       "1970-01-01 00:00:00.020  0.0  0.0  3369.0\n",
       "1970-01-01 00:00:00.030  0.0  0.0  3371.0\n",
       "1970-01-01 00:00:00.040  0.0  0.0  3374.0\n",
       "1970-01-01 00:00:00.050  0.0  0.0  3377.0\n",
       "...                      ...  ...     ...\n",
       "1970-01-01 00:01:02.020  0.0  0.0  6523.0\n",
       "1970-01-01 00:01:02.030  0.0  0.0  6523.0\n",
       "1970-01-01 00:01:02.040  0.0  0.0  6523.0\n",
       "1970-01-01 00:01:02.050  0.0  0.0  6523.0\n",
       "1970-01-01 00:01:02.060  0.0  0.0  6523.0\n",
       "\n",
       "[6206 rows x 3 columns]"
      ]
     },
     "execution_count": 13,
     "metadata": {},
     "output_type": "execute_result"
    }
   ],
   "source": [
    "df2 = pd.merge(command, position, left_index=True, right_index=True)\n",
    "df2"
   ]
  },
  {
   "cell_type": "code",
   "execution_count": 14,
   "id": "637bd82b",
   "metadata": {
    "execution": {
     "iopub.execute_input": "2022-10-03T16:26:30.214602Z",
     "iopub.status.busy": "2022-10-03T16:26:30.213933Z",
     "iopub.status.idle": "2022-10-03T16:26:30.602267Z",
     "shell.execute_reply": "2022-10-03T16:26:30.601035Z"
    },
    "papermill": {
     "duration": 0.406077,
     "end_time": "2022-10-03T16:26:30.604593",
     "exception": false,
     "start_time": "2022-10-03T16:26:30.198516",
     "status": "completed"
    },
    "tags": []
   },
   "outputs": [
    {
     "data": {
      "text/plain": [
       "<AxesSubplot:xlabel='O'>"
      ]
     },
     "execution_count": 14,
     "metadata": {},
     "output_type": "execute_result"
    },
    {
     "data": {
      "image/png": "[encoded data removed]",
      "text/plain": [
       "<Figure size 432x288 with 1 Axes>"
      ]
     },
     "metadata": {
      "needs_background": "light"
     },
     "output_type": "display_data"
    }
   ],
   "source": [
    "df2 = df2.dropna()\n",
    "df2.plot()"
   ]
  },
  {
   "cell_type": "code",
   "execution_count": 15,
   "id": "9ee4aef3",
   "metadata": {
    "execution": {
     "iopub.execute_input": "2022-10-03T16:26:30.636259Z",
     "iopub.status.busy": "2022-10-03T16:26:30.635459Z",
     "iopub.status.idle": "2022-10-03T16:26:30.660466Z",
     "shell.execute_reply": "2022-10-03T16:26:30.659332Z"
    },
    "papermill": {
     "duration": 0.043391,
     "end_time": "2022-10-03T16:26:30.662825",
     "exception": false,
     "start_time": "2022-10-03T16:26:30.619434",
     "status": "completed"
    },
    "tags": []
   },
   "outputs": [
    {
     "data": {
      "text/html": [
       "<div>\n",
       "<style scoped>\n",
       "    .dataframe tbody tr th:only-of-type {\n",
       "        vertical-align: middle;\n",
       "    }\n",
       "\n",
       "    .dataframe tbody tr th {\n",
       "        vertical-align: top;\n",
       "    }\n",
       "\n",
       "    .dataframe thead th {\n",
       "        text-align: right;\n",
       "    }\n",
       "</style>\n",
       "<table border=\"1\" class=\"dataframe\">\n",
       "  <thead>\n",
       "    <tr style=\"text-align: right;\">\n",
       "      <th></th>\n",
       "      <th>C1</th>\n",
       "      <th>C2</th>\n",
       "      <th>P2</th>\n",
       "    </tr>\n",
       "  </thead>\n",
       "  <tbody>\n",
       "    <tr>\n",
       "      <th>count</th>\n",
       "      <td>6205.000000</td>\n",
       "      <td>6205.000000</td>\n",
       "      <td>6205.000000</td>\n",
       "    </tr>\n",
       "    <tr>\n",
       "      <th>mean</th>\n",
       "      <td>39.349234</td>\n",
       "      <td>52.610959</td>\n",
       "      <td>4836.388719</td>\n",
       "    </tr>\n",
       "    <tr>\n",
       "      <th>std</th>\n",
       "      <td>437.829163</td>\n",
       "      <td>362.581454</td>\n",
       "      <td>1494.196815</td>\n",
       "    </tr>\n",
       "    <tr>\n",
       "      <th>min</th>\n",
       "      <td>-1000.000000</td>\n",
       "      <td>-995.000000</td>\n",
       "      <td>1886.000000</td>\n",
       "    </tr>\n",
       "    <tr>\n",
       "      <th>25%</th>\n",
       "      <td>0.000000</td>\n",
       "      <td>0.000000</td>\n",
       "      <td>3505.000000</td>\n",
       "    </tr>\n",
       "    <tr>\n",
       "      <th>50%</th>\n",
       "      <td>0.000000</td>\n",
       "      <td>0.000000</td>\n",
       "      <td>4765.000000</td>\n",
       "    </tr>\n",
       "    <tr>\n",
       "      <th>75%</th>\n",
       "      <td>0.000000</td>\n",
       "      <td>0.000000</td>\n",
       "      <td>6496.000000</td>\n",
       "    </tr>\n",
       "    <tr>\n",
       "      <th>max</th>\n",
       "      <td>1000.000000</td>\n",
       "      <td>1000.000000</td>\n",
       "      <td>7689.000000</td>\n",
       "    </tr>\n",
       "  </tbody>\n",
       "</table>\n",
       "</div>"
      ],
      "text/plain": [
       "                C1           C2           P2\n",
       "count  6205.000000  6205.000000  6205.000000\n",
       "mean     39.349234    52.610959  4836.388719\n",
       "std     437.829163   362.581454  1494.196815\n",
       "min   -1000.000000  -995.000000  1886.000000\n",
       "25%       0.000000     0.000000  3505.000000\n",
       "50%       0.000000     0.000000  4765.000000\n",
       "75%       0.000000     0.000000  6496.000000\n",
       "max    1000.000000  1000.000000  7689.000000"
      ]
     },
     "execution_count": 15,
     "metadata": {},
     "output_type": "execute_result"
    }
   ],
   "source": [
    "df2.describe()"
   ]
  },
  {
   "cell_type": "code",
   "execution_count": 16,
   "id": "a023ed73",
   "metadata": {
    "execution": {
     "iopub.execute_input": "2022-10-03T16:26:30.694614Z",
     "iopub.status.busy": "2022-10-03T16:26:30.693601Z",
     "iopub.status.idle": "2022-10-03T16:26:32.268058Z",
     "shell.execute_reply": "2022-10-03T16:26:32.266827Z"
    },
    "papermill": {
     "duration": 1.594059,
     "end_time": "2022-10-03T16:26:32.271566",
     "exception": false,
     "start_time": "2022-10-03T16:26:30.677507",
     "status": "completed"
    },
    "tags": []
   },
   "outputs": [],
   "source": [
    "df2.to_excel('df2.xlsx')"
   ]
  },
  {
   "cell_type": "markdown",
   "id": "686350aa",
   "metadata": {
    "papermill": {
     "duration": 0.01431,
     "end_time": "2022-10-03T16:26:32.300510",
     "exception": false,
     "start_time": "2022-10-03T16:26:32.286200",
     "status": "completed"
    },
    "tags": []
   },
   "source": [
    "# Create additional columns"
   ]
  },
  {
   "cell_type": "code",
   "execution_count": 17,
   "id": "d99355b4",
   "metadata": {
    "execution": {
     "iopub.execute_input": "2022-10-03T16:26:32.331500Z",
     "iopub.status.busy": "2022-10-03T16:26:32.331118Z",
     "iopub.status.idle": "2022-10-03T16:26:32.335753Z",
     "shell.execute_reply": "2022-10-03T16:26:32.334944Z"
    },
    "papermill": {
     "duration": 0.022573,
     "end_time": "2022-10-03T16:26:32.337861",
     "exception": false,
     "start_time": "2022-10-03T16:26:32.315288",
     "status": "completed"
    },
    "tags": []
   },
   "outputs": [],
   "source": [
    "df3 = df2.copy()"
   ]
  },
  {
   "cell_type": "code",
   "execution_count": 18,
   "id": "b82a10e3",
   "metadata": {
    "execution": {
     "iopub.execute_input": "2022-10-03T16:26:32.368915Z",
     "iopub.status.busy": "2022-10-03T16:26:32.368505Z",
     "iopub.status.idle": "2022-10-03T16:26:32.385047Z",
     "shell.execute_reply": "2022-10-03T16:26:32.383912Z"
    },
    "papermill": {
     "duration": 0.034821,
     "end_time": "2022-10-03T16:26:32.387330",
     "exception": false,
     "start_time": "2022-10-03T16:26:32.352509",
     "status": "completed"
    },
    "tags": []
   },
   "outputs": [
    {
     "data": {
      "text/html": [
       "<div>\n",
       "<style scoped>\n",
       "    .dataframe tbody tr th:only-of-type {\n",
       "        vertical-align: middle;\n",
       "    }\n",
       "\n",
       "    .dataframe tbody tr th {\n",
       "        vertical-align: top;\n",
       "    }\n",
       "\n",
       "    .dataframe thead th {\n",
       "        text-align: right;\n",
       "    }\n",
       "</style>\n",
       "<table border=\"1\" class=\"dataframe\">\n",
       "  <thead>\n",
       "    <tr style=\"text-align: right;\">\n",
       "      <th></th>\n",
       "      <th>C1</th>\n",
       "      <th>C2</th>\n",
       "      <th>P2</th>\n",
       "    </tr>\n",
       "    <tr>\n",
       "      <th>O</th>\n",
       "      <th></th>\n",
       "      <th></th>\n",
       "      <th></th>\n",
       "    </tr>\n",
       "  </thead>\n",
       "  <tbody>\n",
       "    <tr>\n",
       "      <th>1970-01-01 00:00:00.020</th>\n",
       "      <td>0.0</td>\n",
       "      <td>0.0</td>\n",
       "      <td>3369.0</td>\n",
       "    </tr>\n",
       "    <tr>\n",
       "      <th>1970-01-01 00:00:00.030</th>\n",
       "      <td>0.0</td>\n",
       "      <td>0.0</td>\n",
       "      <td>3371.0</td>\n",
       "    </tr>\n",
       "    <tr>\n",
       "      <th>1970-01-01 00:00:00.040</th>\n",
       "      <td>0.0</td>\n",
       "      <td>0.0</td>\n",
       "      <td>3374.0</td>\n",
       "    </tr>\n",
       "    <tr>\n",
       "      <th>1970-01-01 00:00:00.050</th>\n",
       "      <td>0.0</td>\n",
       "      <td>0.0</td>\n",
       "      <td>3377.0</td>\n",
       "    </tr>\n",
       "    <tr>\n",
       "      <th>1970-01-01 00:00:00.060</th>\n",
       "      <td>0.0</td>\n",
       "      <td>0.0</td>\n",
       "      <td>3380.0</td>\n",
       "    </tr>\n",
       "    <tr>\n",
       "      <th>...</th>\n",
       "      <td>...</td>\n",
       "      <td>...</td>\n",
       "      <td>...</td>\n",
       "    </tr>\n",
       "    <tr>\n",
       "      <th>1970-01-01 00:01:02.020</th>\n",
       "      <td>0.0</td>\n",
       "      <td>0.0</td>\n",
       "      <td>6523.0</td>\n",
       "    </tr>\n",
       "    <tr>\n",
       "      <th>1970-01-01 00:01:02.030</th>\n",
       "      <td>0.0</td>\n",
       "      <td>0.0</td>\n",
       "      <td>6523.0</td>\n",
       "    </tr>\n",
       "    <tr>\n",
       "      <th>1970-01-01 00:01:02.040</th>\n",
       "      <td>0.0</td>\n",
       "      <td>0.0</td>\n",
       "      <td>6523.0</td>\n",
       "    </tr>\n",
       "    <tr>\n",
       "      <th>1970-01-01 00:01:02.050</th>\n",
       "      <td>0.0</td>\n",
       "      <td>0.0</td>\n",
       "      <td>6523.0</td>\n",
       "    </tr>\n",
       "    <tr>\n",
       "      <th>1970-01-01 00:01:02.060</th>\n",
       "      <td>0.0</td>\n",
       "      <td>0.0</td>\n",
       "      <td>6523.0</td>\n",
       "    </tr>\n",
       "  </tbody>\n",
       "</table>\n",
       "<p>6205 rows × 3 columns</p>\n",
       "</div>"
      ],
      "text/plain": [
       "                          C1   C2      P2\n",
       "O                                        \n",
       "1970-01-01 00:00:00.020  0.0  0.0  3369.0\n",
       "1970-01-01 00:00:00.030  0.0  0.0  3371.0\n",
       "1970-01-01 00:00:00.040  0.0  0.0  3374.0\n",
       "1970-01-01 00:00:00.050  0.0  0.0  3377.0\n",
       "1970-01-01 00:00:00.060  0.0  0.0  3380.0\n",
       "...                      ...  ...     ...\n",
       "1970-01-01 00:01:02.020  0.0  0.0  6523.0\n",
       "1970-01-01 00:01:02.030  0.0  0.0  6523.0\n",
       "1970-01-01 00:01:02.040  0.0  0.0  6523.0\n",
       "1970-01-01 00:01:02.050  0.0  0.0  6523.0\n",
       "1970-01-01 00:01:02.060  0.0  0.0  6523.0\n",
       "\n",
       "[6205 rows x 3 columns]"
      ]
     },
     "execution_count": 18,
     "metadata": {},
     "output_type": "execute_result"
    }
   ],
   "source": [
    "df3"
   ]
  },
  {
   "cell_type": "code",
   "execution_count": 19,
   "id": "1684c0bb",
   "metadata": {
    "execution": {
     "iopub.execute_input": "2022-10-03T16:26:32.418951Z",
     "iopub.status.busy": "2022-10-03T16:26:32.418519Z",
     "iopub.status.idle": "2022-10-03T16:26:32.443852Z",
     "shell.execute_reply": "2022-10-03T16:26:32.442682Z"
    },
    "papermill": {
     "duration": 0.044309,
     "end_time": "2022-10-03T16:26:32.446492",
     "exception": false,
     "start_time": "2022-10-03T16:26:32.402183",
     "status": "completed"
    },
    "tags": []
   },
   "outputs": [],
   "source": [
    "C1_BASE = 3  # start from columns 3\n",
    "C1_STEP = 3  # take 3 steps back\n",
    "C1_SIZE = 5 # was 33 in the ETH model\n",
    "\n",
    "C2_BASE = C1_BASE+C1_SIZE  # start from columns 3+5\n",
    "C2_STEP = 3  # take 3 steps back\n",
    "C2_SIZE = 2 # was 33 in the ETH model\n",
    "\n",
    "\n",
    "V_BASE = C1_BASE+C1_SIZE+C2_SIZE \n",
    "V_STEP = 1 # take 1 step back\n",
    "V_SIZE = 3 # was 10 in the ETH model\n",
    "\n",
    "# create columns with past commands\n",
    "for i in range(1,C1_SIZE+1):\n",
    "    df3[C1_BASE+i] = df3['C1'].shift(i*C1_STEP)\n",
    "    df3.rename(columns={C1_BASE+i:'C1-'+ str(i*C1_STEP)}, inplace=True)\n",
    "\n",
    "for i in range(1,C2_SIZE+1):\n",
    "    df3[C2_BASE+i] = df3['C2'].shift(i*C2_STEP)\n",
    "    df3.rename(columns={C2_BASE+i:'C2-'+ str(i*C2_STEP)}, inplace=True)\n",
    "\n",
    "# create velocities from positions\n",
    "df3['V2'] = df3['P2']-df3['P2'].shift(1)\n",
    "\n",
    "# filter velocities\n",
    "df3['V2'] = df3['V2'].rolling(velocity_rolling_length).mean()\n",
    "\n",
    "# create columns with past velocities\n",
    "for i in range(1,V_SIZE+1):\n",
    "    df3[V_BASE+i] = df3['V2'].shift(i*V_STEP)\n",
    "    df3.rename(columns={V_BASE+i:'V2-'+ str(i*V_STEP)}, inplace=True)\n"
   ]
  },
  {
   "cell_type": "code",
   "execution_count": 20,
   "id": "b5783cbd",
   "metadata": {
    "execution": {
     "iopub.execute_input": "2022-10-03T16:26:32.478413Z",
     "iopub.status.busy": "2022-10-03T16:26:32.477951Z",
     "iopub.status.idle": "2022-10-03T16:26:32.512399Z",
     "shell.execute_reply": "2022-10-03T16:26:32.511107Z"
    },
    "papermill": {
     "duration": 0.05346,
     "end_time": "2022-10-03T16:26:32.514959",
     "exception": false,
     "start_time": "2022-10-03T16:26:32.461499",
     "status": "completed"
    },
    "tags": []
   },
   "outputs": [
    {
     "data": {
      "text/html": [
       "<div>\n",
       "<style scoped>\n",
       "    .dataframe tbody tr th:only-of-type {\n",
       "        vertical-align: middle;\n",
       "    }\n",
       "\n",
       "    .dataframe tbody tr th {\n",
       "        vertical-align: top;\n",
       "    }\n",
       "\n",
       "    .dataframe thead th {\n",
       "        text-align: right;\n",
       "    }\n",
       "</style>\n",
       "<table border=\"1\" class=\"dataframe\">\n",
       "  <thead>\n",
       "    <tr style=\"text-align: right;\">\n",
       "      <th></th>\n",
       "      <th>C1</th>\n",
       "      <th>C2</th>\n",
       "      <th>P2</th>\n",
       "      <th>C1-3</th>\n",
       "      <th>C1-6</th>\n",
       "      <th>C1-9</th>\n",
       "      <th>C1-12</th>\n",
       "      <th>C1-15</th>\n",
       "      <th>C2-3</th>\n",
       "      <th>C2-6</th>\n",
       "      <th>V2</th>\n",
       "      <th>V2-1</th>\n",
       "      <th>V2-2</th>\n",
       "      <th>V2-3</th>\n",
       "    </tr>\n",
       "    <tr>\n",
       "      <th>O</th>\n",
       "      <th></th>\n",
       "      <th></th>\n",
       "      <th></th>\n",
       "      <th></th>\n",
       "      <th></th>\n",
       "      <th></th>\n",
       "      <th></th>\n",
       "      <th></th>\n",
       "      <th></th>\n",
       "      <th></th>\n",
       "      <th></th>\n",
       "      <th></th>\n",
       "      <th></th>\n",
       "      <th></th>\n",
       "    </tr>\n",
       "  </thead>\n",
       "  <tbody>\n",
       "    <tr>\n",
       "      <th>1970-01-01 00:00:00.020</th>\n",
       "      <td>0.0</td>\n",
       "      <td>0.0</td>\n",
       "      <td>3369.0</td>\n",
       "      <td>0.0</td>\n",
       "      <td>0.0</td>\n",
       "      <td>0.0</td>\n",
       "      <td>0.0</td>\n",
       "      <td>0.0</td>\n",
       "      <td>0.0</td>\n",
       "      <td>0.0</td>\n",
       "      <td>0.0</td>\n",
       "      <td>0.00</td>\n",
       "      <td>0.00</td>\n",
       "      <td>0.00</td>\n",
       "    </tr>\n",
       "    <tr>\n",
       "      <th>1970-01-01 00:00:00.030</th>\n",
       "      <td>0.0</td>\n",
       "      <td>0.0</td>\n",
       "      <td>3371.0</td>\n",
       "      <td>0.0</td>\n",
       "      <td>0.0</td>\n",
       "      <td>0.0</td>\n",
       "      <td>0.0</td>\n",
       "      <td>0.0</td>\n",
       "      <td>0.0</td>\n",
       "      <td>0.0</td>\n",
       "      <td>0.0</td>\n",
       "      <td>0.00</td>\n",
       "      <td>0.00</td>\n",
       "      <td>0.00</td>\n",
       "    </tr>\n",
       "    <tr>\n",
       "      <th>1970-01-01 00:00:00.040</th>\n",
       "      <td>0.0</td>\n",
       "      <td>0.0</td>\n",
       "      <td>3374.0</td>\n",
       "      <td>0.0</td>\n",
       "      <td>0.0</td>\n",
       "      <td>0.0</td>\n",
       "      <td>0.0</td>\n",
       "      <td>0.0</td>\n",
       "      <td>0.0</td>\n",
       "      <td>0.0</td>\n",
       "      <td>0.0</td>\n",
       "      <td>0.00</td>\n",
       "      <td>0.00</td>\n",
       "      <td>0.00</td>\n",
       "    </tr>\n",
       "    <tr>\n",
       "      <th>1970-01-01 00:00:00.050</th>\n",
       "      <td>0.0</td>\n",
       "      <td>0.0</td>\n",
       "      <td>3377.0</td>\n",
       "      <td>0.0</td>\n",
       "      <td>0.0</td>\n",
       "      <td>0.0</td>\n",
       "      <td>0.0</td>\n",
       "      <td>0.0</td>\n",
       "      <td>0.0</td>\n",
       "      <td>0.0</td>\n",
       "      <td>0.0</td>\n",
       "      <td>0.00</td>\n",
       "      <td>0.00</td>\n",
       "      <td>0.00</td>\n",
       "    </tr>\n",
       "    <tr>\n",
       "      <th>1970-01-01 00:00:00.060</th>\n",
       "      <td>0.0</td>\n",
       "      <td>0.0</td>\n",
       "      <td>3380.0</td>\n",
       "      <td>0.0</td>\n",
       "      <td>0.0</td>\n",
       "      <td>0.0</td>\n",
       "      <td>0.0</td>\n",
       "      <td>0.0</td>\n",
       "      <td>0.0</td>\n",
       "      <td>0.0</td>\n",
       "      <td>0.0</td>\n",
       "      <td>0.00</td>\n",
       "      <td>0.00</td>\n",
       "      <td>0.00</td>\n",
       "    </tr>\n",
       "    <tr>\n",
       "      <th>...</th>\n",
       "      <td>...</td>\n",
       "      <td>...</td>\n",
       "      <td>...</td>\n",
       "      <td>...</td>\n",
       "      <td>...</td>\n",
       "      <td>...</td>\n",
       "      <td>...</td>\n",
       "      <td>...</td>\n",
       "      <td>...</td>\n",
       "      <td>...</td>\n",
       "      <td>...</td>\n",
       "      <td>...</td>\n",
       "      <td>...</td>\n",
       "      <td>...</td>\n",
       "    </tr>\n",
       "    <tr>\n",
       "      <th>1970-01-01 00:01:02.020</th>\n",
       "      <td>0.0</td>\n",
       "      <td>0.0</td>\n",
       "      <td>6523.0</td>\n",
       "      <td>0.0</td>\n",
       "      <td>0.0</td>\n",
       "      <td>0.0</td>\n",
       "      <td>0.0</td>\n",
       "      <td>0.0</td>\n",
       "      <td>0.0</td>\n",
       "      <td>0.0</td>\n",
       "      <td>0.0</td>\n",
       "      <td>0.01</td>\n",
       "      <td>0.01</td>\n",
       "      <td>0.00</td>\n",
       "    </tr>\n",
       "    <tr>\n",
       "      <th>1970-01-01 00:01:02.030</th>\n",
       "      <td>0.0</td>\n",
       "      <td>0.0</td>\n",
       "      <td>6523.0</td>\n",
       "      <td>0.0</td>\n",
       "      <td>0.0</td>\n",
       "      <td>0.0</td>\n",
       "      <td>0.0</td>\n",
       "      <td>0.0</td>\n",
       "      <td>0.0</td>\n",
       "      <td>0.0</td>\n",
       "      <td>0.0</td>\n",
       "      <td>0.00</td>\n",
       "      <td>0.01</td>\n",
       "      <td>0.01</td>\n",
       "    </tr>\n",
       "    <tr>\n",
       "      <th>1970-01-01 00:01:02.040</th>\n",
       "      <td>0.0</td>\n",
       "      <td>0.0</td>\n",
       "      <td>6523.0</td>\n",
       "      <td>0.0</td>\n",
       "      <td>0.0</td>\n",
       "      <td>0.0</td>\n",
       "      <td>0.0</td>\n",
       "      <td>0.0</td>\n",
       "      <td>0.0</td>\n",
       "      <td>0.0</td>\n",
       "      <td>0.0</td>\n",
       "      <td>0.00</td>\n",
       "      <td>0.00</td>\n",
       "      <td>0.01</td>\n",
       "    </tr>\n",
       "    <tr>\n",
       "      <th>1970-01-01 00:01:02.050</th>\n",
       "      <td>0.0</td>\n",
       "      <td>0.0</td>\n",
       "      <td>6523.0</td>\n",
       "      <td>0.0</td>\n",
       "      <td>0.0</td>\n",
       "      <td>0.0</td>\n",
       "      <td>0.0</td>\n",
       "      <td>0.0</td>\n",
       "      <td>0.0</td>\n",
       "      <td>0.0</td>\n",
       "      <td>0.0</td>\n",
       "      <td>0.00</td>\n",
       "      <td>0.00</td>\n",
       "      <td>0.00</td>\n",
       "    </tr>\n",
       "    <tr>\n",
       "      <th>1970-01-01 00:01:02.060</th>\n",
       "      <td>0.0</td>\n",
       "      <td>0.0</td>\n",
       "      <td>6523.0</td>\n",
       "      <td>0.0</td>\n",
       "      <td>0.0</td>\n",
       "      <td>0.0</td>\n",
       "      <td>0.0</td>\n",
       "      <td>0.0</td>\n",
       "      <td>0.0</td>\n",
       "      <td>0.0</td>\n",
       "      <td>0.0</td>\n",
       "      <td>0.00</td>\n",
       "      <td>0.00</td>\n",
       "      <td>0.00</td>\n",
       "    </tr>\n",
       "  </tbody>\n",
       "</table>\n",
       "<p>6205 rows × 14 columns</p>\n",
       "</div>"
      ],
      "text/plain": [
       "                          C1   C2      P2  C1-3  C1-6  C1-9  C1-12  C1-15  \\\n",
       "O                                                                           \n",
       "1970-01-01 00:00:00.020  0.0  0.0  3369.0   0.0   0.0   0.0    0.0    0.0   \n",
       "1970-01-01 00:00:00.030  0.0  0.0  3371.0   0.0   0.0   0.0    0.0    0.0   \n",
       "1970-01-01 00:00:00.040  0.0  0.0  3374.0   0.0   0.0   0.0    0.0    0.0   \n",
       "1970-01-01 00:00:00.050  0.0  0.0  3377.0   0.0   0.0   0.0    0.0    0.0   \n",
       "1970-01-01 00:00:00.060  0.0  0.0  3380.0   0.0   0.0   0.0    0.0    0.0   \n",
       "...                      ...  ...     ...   ...   ...   ...    ...    ...   \n",
       "1970-01-01 00:01:02.020  0.0  0.0  6523.0   0.0   0.0   0.0    0.0    0.0   \n",
       "1970-01-01 00:01:02.030  0.0  0.0  6523.0   0.0   0.0   0.0    0.0    0.0   \n",
       "1970-01-01 00:01:02.040  0.0  0.0  6523.0   0.0   0.0   0.0    0.0    0.0   \n",
       "1970-01-01 00:01:02.050  0.0  0.0  6523.0   0.0   0.0   0.0    0.0    0.0   \n",
       "1970-01-01 00:01:02.060  0.0  0.0  6523.0   0.0   0.0   0.0    0.0    0.0   \n",
       "\n",
       "                         C2-3  C2-6   V2  V2-1  V2-2  V2-3  \n",
       "O                                                           \n",
       "1970-01-01 00:00:00.020   0.0   0.0  0.0  0.00  0.00  0.00  \n",
       "1970-01-01 00:00:00.030   0.0   0.0  0.0  0.00  0.00  0.00  \n",
       "1970-01-01 00:00:00.040   0.0   0.0  0.0  0.00  0.00  0.00  \n",
       "1970-01-01 00:00:00.050   0.0   0.0  0.0  0.00  0.00  0.00  \n",
       "1970-01-01 00:00:00.060   0.0   0.0  0.0  0.00  0.00  0.00  \n",
       "...                       ...   ...  ...   ...   ...   ...  \n",
       "1970-01-01 00:01:02.020   0.0   0.0  0.0  0.01  0.01  0.00  \n",
       "1970-01-01 00:01:02.030   0.0   0.0  0.0  0.00  0.01  0.01  \n",
       "1970-01-01 00:01:02.040   0.0   0.0  0.0  0.00  0.00  0.01  \n",
       "1970-01-01 00:01:02.050   0.0   0.0  0.0  0.00  0.00  0.00  \n",
       "1970-01-01 00:01:02.060   0.0   0.0  0.0  0.00  0.00  0.00  \n",
       "\n",
       "[6205 rows x 14 columns]"
      ]
     },
     "execution_count": 20,
     "metadata": {},
     "output_type": "execute_result"
    }
   ],
   "source": [
    "df3 = df3.fillna(0)\n",
    "df3"
   ]
  },
  {
   "cell_type": "markdown",
   "id": "14f5887f",
   "metadata": {
    "papermill": {
     "duration": 0.015278,
     "end_time": "2022-10-03T16:26:32.545577",
     "exception": false,
     "start_time": "2022-10-03T16:26:32.530299",
     "status": "completed"
    },
    "tags": []
   },
   "source": [
    "# Use KERAS"
   ]
  },
  {
   "cell_type": "code",
   "execution_count": 21,
   "id": "271ca090",
   "metadata": {
    "execution": {
     "iopub.execute_input": "2022-10-03T16:26:32.577640Z",
     "iopub.status.busy": "2022-10-03T16:26:32.577253Z",
     "iopub.status.idle": "2022-10-03T16:26:38.906863Z",
     "shell.execute_reply": "2022-10-03T16:26:38.905149Z"
    },
    "papermill": {
     "duration": 6.349826,
     "end_time": "2022-10-03T16:26:38.910604",
     "exception": false,
     "start_time": "2022-10-03T16:26:32.560778",
     "status": "completed"
    },
    "tags": []
   },
   "outputs": [
    {
     "name": "stdout",
     "output_type": "stream",
     "text": [
      "2.6.4\n"
     ]
    }
   ],
   "source": [
    "import tensorflow as tf\n",
    "\n",
    "from tensorflow import keras\n",
    "from tensorflow.keras import layers\n",
    "\n",
    "print(tf.__version__)"
   ]
  },
  {
   "cell_type": "code",
   "execution_count": 22,
   "id": "d835a826",
   "metadata": {
    "execution": {
     "iopub.execute_input": "2022-10-03T16:26:38.944011Z",
     "iopub.status.busy": "2022-10-03T16:26:38.943241Z",
     "iopub.status.idle": "2022-10-03T16:26:38.949600Z",
     "shell.execute_reply": "2022-10-03T16:26:38.948403Z"
    },
    "papermill": {
     "duration": 0.025787,
     "end_time": "2022-10-03T16:26:38.952122",
     "exception": false,
     "start_time": "2022-10-03T16:26:38.926335",
     "status": "completed"
    },
    "tags": []
   },
   "outputs": [],
   "source": [
    "keras_dataset=df3.copy()"
   ]
  },
  {
   "cell_type": "code",
   "execution_count": 23,
   "id": "8b8a5621",
   "metadata": {
    "execution": {
     "iopub.execute_input": "2022-10-03T16:26:38.985649Z",
     "iopub.status.busy": "2022-10-03T16:26:38.985209Z",
     "iopub.status.idle": "2022-10-03T16:26:39.016012Z",
     "shell.execute_reply": "2022-10-03T16:26:39.014867Z"
    },
    "papermill": {
     "duration": 0.05114,
     "end_time": "2022-10-03T16:26:39.018908",
     "exception": false,
     "start_time": "2022-10-03T16:26:38.967768",
     "status": "completed"
    },
    "tags": []
   },
   "outputs": [],
   "source": [
    "# split dataset in train and test\n",
    "train_dataset = keras_dataset.sample(frac=0.8, random_state=0)\n",
    "test_dataset = keras_dataset.drop(train_dataset.index)\n",
    "\n",
    "# extract features and labels into separate arrays\n",
    "train_features = train_dataset.copy()\n",
    "train_features = train_features.drop(labels_column_names, axis=1)\n",
    "train_labels = train_dataset.loc[:, labels_column_names]\n",
    "\n",
    "test_features = test_dataset.copy()\n",
    "test_features = test_features.drop(labels_column_names, axis=1)\n",
    "test_labels = test_dataset.loc[:, labels_column_names]"
   ]
  },
  {
   "cell_type": "code",
   "execution_count": 24,
   "id": "fad68e40",
   "metadata": {
    "execution": {
     "iopub.execute_input": "2022-10-03T16:26:39.054365Z",
     "iopub.status.busy": "2022-10-03T16:26:39.053888Z",
     "iopub.status.idle": "2022-10-03T16:26:39.085900Z",
     "shell.execute_reply": "2022-10-03T16:26:39.084677Z"
    },
    "papermill": {
     "duration": 0.052933,
     "end_time": "2022-10-03T16:26:39.088491",
     "exception": false,
     "start_time": "2022-10-03T16:26:39.035558",
     "status": "completed"
    },
    "tags": []
   },
   "outputs": [
    {
     "data": {
      "text/html": [
       "<div>\n",
       "<style scoped>\n",
       "    .dataframe tbody tr th:only-of-type {\n",
       "        vertical-align: middle;\n",
       "    }\n",
       "\n",
       "    .dataframe tbody tr th {\n",
       "        vertical-align: top;\n",
       "    }\n",
       "\n",
       "    .dataframe thead th {\n",
       "        text-align: right;\n",
       "    }\n",
       "</style>\n",
       "<table border=\"1\" class=\"dataframe\">\n",
       "  <thead>\n",
       "    <tr style=\"text-align: right;\">\n",
       "      <th></th>\n",
       "      <th>C1</th>\n",
       "      <th>C2</th>\n",
       "      <th>P2</th>\n",
       "      <th>C1-3</th>\n",
       "      <th>C1-6</th>\n",
       "      <th>C1-9</th>\n",
       "      <th>C1-12</th>\n",
       "      <th>C1-15</th>\n",
       "      <th>C2-3</th>\n",
       "      <th>C2-6</th>\n",
       "      <th>V2-1</th>\n",
       "      <th>V2-2</th>\n",
       "      <th>V2-3</th>\n",
       "    </tr>\n",
       "    <tr>\n",
       "      <th>O</th>\n",
       "      <th></th>\n",
       "      <th></th>\n",
       "      <th></th>\n",
       "      <th></th>\n",
       "      <th></th>\n",
       "      <th></th>\n",
       "      <th></th>\n",
       "      <th></th>\n",
       "      <th></th>\n",
       "      <th></th>\n",
       "      <th></th>\n",
       "      <th></th>\n",
       "      <th></th>\n",
       "    </tr>\n",
       "  </thead>\n",
       "  <tbody>\n",
       "    <tr>\n",
       "      <th>1970-01-01 00:00:15.970</th>\n",
       "      <td>0.0</td>\n",
       "      <td>0.0</td>\n",
       "      <td>3544.0</td>\n",
       "      <td>0.0</td>\n",
       "      <td>0.0</td>\n",
       "      <td>0.0</td>\n",
       "      <td>0.0</td>\n",
       "      <td>0.0</td>\n",
       "      <td>0.0</td>\n",
       "      <td>0.0</td>\n",
       "      <td>0.71</td>\n",
       "      <td>0.74</td>\n",
       "      <td>0.77</td>\n",
       "    </tr>\n",
       "    <tr>\n",
       "      <th>1970-01-01 00:00:41.850</th>\n",
       "      <td>0.0</td>\n",
       "      <td>-164.0</td>\n",
       "      <td>6010.0</td>\n",
       "      <td>0.0</td>\n",
       "      <td>0.0</td>\n",
       "      <td>0.0</td>\n",
       "      <td>0.0</td>\n",
       "      <td>0.0</td>\n",
       "      <td>-664.0</td>\n",
       "      <td>-792.0</td>\n",
       "      <td>2.66</td>\n",
       "      <td>2.85</td>\n",
       "      <td>3.03</td>\n",
       "    </tr>\n",
       "    <tr>\n",
       "      <th>1970-01-01 00:01:01.980</th>\n",
       "      <td>0.0</td>\n",
       "      <td>0.0</td>\n",
       "      <td>6523.0</td>\n",
       "      <td>0.0</td>\n",
       "      <td>0.0</td>\n",
       "      <td>0.0</td>\n",
       "      <td>0.0</td>\n",
       "      <td>0.0</td>\n",
       "      <td>0.0</td>\n",
       "      <td>0.0</td>\n",
       "      <td>0.00</td>\n",
       "      <td>0.00</td>\n",
       "      <td>0.00</td>\n",
       "    </tr>\n",
       "    <tr>\n",
       "      <th>1970-01-01 00:00:11.620</th>\n",
       "      <td>0.0</td>\n",
       "      <td>0.0</td>\n",
       "      <td>3512.0</td>\n",
       "      <td>0.0</td>\n",
       "      <td>0.0</td>\n",
       "      <td>0.0</td>\n",
       "      <td>0.0</td>\n",
       "      <td>0.0</td>\n",
       "      <td>0.0</td>\n",
       "      <td>0.0</td>\n",
       "      <td>0.05</td>\n",
       "      <td>0.05</td>\n",
       "      <td>0.05</td>\n",
       "    </tr>\n",
       "    <tr>\n",
       "      <th>1970-01-01 00:00:24.500</th>\n",
       "      <td>1000.0</td>\n",
       "      <td>0.0</td>\n",
       "      <td>3542.0</td>\n",
       "      <td>1000.0</td>\n",
       "      <td>1000.0</td>\n",
       "      <td>1000.0</td>\n",
       "      <td>1000.0</td>\n",
       "      <td>1000.0</td>\n",
       "      <td>0.0</td>\n",
       "      <td>0.0</td>\n",
       "      <td>6.32</td>\n",
       "      <td>6.32</td>\n",
       "      <td>6.33</td>\n",
       "    </tr>\n",
       "    <tr>\n",
       "      <th>...</th>\n",
       "      <td>...</td>\n",
       "      <td>...</td>\n",
       "      <td>...</td>\n",
       "      <td>...</td>\n",
       "      <td>...</td>\n",
       "      <td>...</td>\n",
       "      <td>...</td>\n",
       "      <td>...</td>\n",
       "      <td>...</td>\n",
       "      <td>...</td>\n",
       "      <td>...</td>\n",
       "      <td>...</td>\n",
       "      <td>...</td>\n",
       "    </tr>\n",
       "    <tr>\n",
       "      <th>1970-01-01 00:00:50.370</th>\n",
       "      <td>-311.0</td>\n",
       "      <td>1000.0</td>\n",
       "      <td>7223.0</td>\n",
       "      <td>-331.0</td>\n",
       "      <td>-340.0</td>\n",
       "      <td>-341.0</td>\n",
       "      <td>-342.0</td>\n",
       "      <td>-343.0</td>\n",
       "      <td>1000.0</td>\n",
       "      <td>1000.0</td>\n",
       "      <td>-0.26</td>\n",
       "      <td>-0.34</td>\n",
       "      <td>-0.43</td>\n",
       "    </tr>\n",
       "    <tr>\n",
       "      <th>1970-01-01 00:00:55.550</th>\n",
       "      <td>0.0</td>\n",
       "      <td>0.0</td>\n",
       "      <td>6562.0</td>\n",
       "      <td>0.0</td>\n",
       "      <td>0.0</td>\n",
       "      <td>0.0</td>\n",
       "      <td>0.0</td>\n",
       "      <td>0.0</td>\n",
       "      <td>0.0</td>\n",
       "      <td>0.0</td>\n",
       "      <td>0.14</td>\n",
       "      <td>0.19</td>\n",
       "      <td>0.26</td>\n",
       "    </tr>\n",
       "    <tr>\n",
       "      <th>1970-01-01 00:01:01.870</th>\n",
       "      <td>0.0</td>\n",
       "      <td>0.0</td>\n",
       "      <td>6523.0</td>\n",
       "      <td>0.0</td>\n",
       "      <td>0.0</td>\n",
       "      <td>0.0</td>\n",
       "      <td>0.0</td>\n",
       "      <td>0.0</td>\n",
       "      <td>0.0</td>\n",
       "      <td>0.0</td>\n",
       "      <td>0.00</td>\n",
       "      <td>0.00</td>\n",
       "      <td>0.00</td>\n",
       "    </tr>\n",
       "    <tr>\n",
       "      <th>1970-01-01 00:00:54.180</th>\n",
       "      <td>-652.0</td>\n",
       "      <td>1000.0</td>\n",
       "      <td>6538.0</td>\n",
       "      <td>-651.0</td>\n",
       "      <td>-654.0</td>\n",
       "      <td>-652.0</td>\n",
       "      <td>-652.0</td>\n",
       "      <td>-695.0</td>\n",
       "      <td>1000.0</td>\n",
       "      <td>1000.0</td>\n",
       "      <td>-2.20</td>\n",
       "      <td>-2.12</td>\n",
       "      <td>-2.04</td>\n",
       "    </tr>\n",
       "    <tr>\n",
       "      <th>1970-01-01 00:00:02.410</th>\n",
       "      <td>0.0</td>\n",
       "      <td>0.0</td>\n",
       "      <td>3377.0</td>\n",
       "      <td>0.0</td>\n",
       "      <td>0.0</td>\n",
       "      <td>0.0</td>\n",
       "      <td>0.0</td>\n",
       "      <td>0.0</td>\n",
       "      <td>0.0</td>\n",
       "      <td>0.0</td>\n",
       "      <td>0.04</td>\n",
       "      <td>0.03</td>\n",
       "      <td>0.03</td>\n",
       "    </tr>\n",
       "  </tbody>\n",
       "</table>\n",
       "<p>4964 rows × 13 columns</p>\n",
       "</div>"
      ],
      "text/plain": [
       "                             C1      C2      P2    C1-3    C1-6    C1-9  \\\n",
       "O                                                                         \n",
       "1970-01-01 00:00:15.970     0.0     0.0  3544.0     0.0     0.0     0.0   \n",
       "1970-01-01 00:00:41.850     0.0  -164.0  6010.0     0.0     0.0     0.0   \n",
       "1970-01-01 00:01:01.980     0.0     0.0  6523.0     0.0     0.0     0.0   \n",
       "1970-01-01 00:00:11.620     0.0     0.0  3512.0     0.0     0.0     0.0   \n",
       "1970-01-01 00:00:24.500  1000.0     0.0  3542.0  1000.0  1000.0  1000.0   \n",
       "...                         ...     ...     ...     ...     ...     ...   \n",
       "1970-01-01 00:00:50.370  -311.0  1000.0  7223.0  -331.0  -340.0  -341.0   \n",
       "1970-01-01 00:00:55.550     0.0     0.0  6562.0     0.0     0.0     0.0   \n",
       "1970-01-01 00:01:01.870     0.0     0.0  6523.0     0.0     0.0     0.0   \n",
       "1970-01-01 00:00:54.180  -652.0  1000.0  6538.0  -651.0  -654.0  -652.0   \n",
       "1970-01-01 00:00:02.410     0.0     0.0  3377.0     0.0     0.0     0.0   \n",
       "\n",
       "                          C1-12   C1-15    C2-3    C2-6  V2-1  V2-2  V2-3  \n",
       "O                                                                          \n",
       "1970-01-01 00:00:15.970     0.0     0.0     0.0     0.0  0.71  0.74  0.77  \n",
       "1970-01-01 00:00:41.850     0.0     0.0  -664.0  -792.0  2.66  2.85  3.03  \n",
       "1970-01-01 00:01:01.980     0.0     0.0     0.0     0.0  0.00  0.00  0.00  \n",
       "1970-01-01 00:00:11.620     0.0     0.0     0.0     0.0  0.05  0.05  0.05  \n",
       "1970-01-01 00:00:24.500  1000.0  1000.0     0.0     0.0  6.32  6.32  6.33  \n",
       "...                         ...     ...     ...     ...   ...   ...   ...  \n",
       "1970-01-01 00:00:50.370  -342.0  -343.0  1000.0  1000.0 -0.26 -0.34 -0.43  \n",
       "1970-01-01 00:00:55.550     0.0     0.0     0.0     0.0  0.14  0.19  0.26  \n",
       "1970-01-01 00:01:01.870     0.0     0.0     0.0     0.0  0.00  0.00  0.00  \n",
       "1970-01-01 00:00:54.180  -652.0  -695.0  1000.0  1000.0 -2.20 -2.12 -2.04  \n",
       "1970-01-01 00:00:02.410     0.0     0.0     0.0     0.0  0.04  0.03  0.03  \n",
       "\n",
       "[4964 rows x 13 columns]"
      ]
     },
     "execution_count": 24,
     "metadata": {},
     "output_type": "execute_result"
    }
   ],
   "source": [
    "train_features"
   ]
  },
  {
   "cell_type": "markdown",
   "id": "9a624a20",
   "metadata": {
    "papermill": {
     "duration": 0.015878,
     "end_time": "2022-10-03T16:26:39.120529",
     "exception": false,
     "start_time": "2022-10-03T16:26:39.104651",
     "status": "completed"
    },
    "tags": []
   },
   "source": [
    "## Normalization"
   ]
  },
  {
   "cell_type": "code",
   "execution_count": 25,
   "id": "0b55acbc",
   "metadata": {
    "execution": {
     "iopub.execute_input": "2022-10-03T16:26:39.154469Z",
     "iopub.status.busy": "2022-10-03T16:26:39.154058Z",
     "iopub.status.idle": "2022-10-03T16:26:39.710653Z",
     "shell.execute_reply": "2022-10-03T16:26:39.709458Z"
    },
    "papermill": {
     "duration": 0.576782,
     "end_time": "2022-10-03T16:26:39.713400",
     "exception": false,
     "start_time": "2022-10-03T16:26:39.136618",
     "status": "completed"
    },
    "tags": []
   },
   "outputs": [
    {
     "name": "stderr",
     "output_type": "stream",
     "text": [
      "2022-10-03 16:26:39.229609: I tensorflow/core/common_runtime/process_util.cc:146] Creating new thread pool with default inter op setting: 2. Tune using inter_op_parallelism_threads for best performance.\n",
      "2022-10-03 16:26:39.330284: I tensorflow/compiler/mlir/mlir_graph_optimization_pass.cc:185] None of the MLIR Optimization Passes are enabled (registered 2)\n"
     ]
    },
    {
     "name": "stdout",
     "output_type": "stream",
     "text": [
      "[[3.7551159e+01 5.4985912e+01 4.8341089e+03 3.6776981e+01 3.6354160e+01\n",
      "  3.6044533e+01 3.6346508e+01 3.7081997e+01 5.5782833e+01 5.7036057e+01\n",
      "  5.2322316e-01 5.2260667e-01 5.2192187e-01]]\n"
     ]
    }
   ],
   "source": [
    "# show train_dataset mean and std\n",
    "train_dataset.describe().transpose()\n",
    "\n",
    "# create a Normalization layer\n",
    "normalizer = tf.keras.layers.Normalization(axis=-1)  # many variables\n",
    "# normalizer = tf.keras.layers.Normalization(input_shape=[1,], axis=None) #one variable\n",
    "\n",
    "# set mean and std for Normalization layer\n",
    "normalizer.adapt(np.array(train_features))\n",
    "print(normalizer.mean.numpy())"
   ]
  },
  {
   "cell_type": "markdown",
   "id": "73ad44e2",
   "metadata": {
    "papermill": {
     "duration": 0.015558,
     "end_time": "2022-10-03T16:26:39.744859",
     "exception": false,
     "start_time": "2022-10-03T16:26:39.729301",
     "status": "completed"
    },
    "tags": []
   },
   "source": [
    "## Utility functions"
   ]
  },
  {
   "cell_type": "code",
   "execution_count": 26,
   "id": "5b87de3e",
   "metadata": {
    "execution": {
     "iopub.execute_input": "2022-10-03T16:26:39.778876Z",
     "iopub.status.busy": "2022-10-03T16:26:39.778459Z",
     "iopub.status.idle": "2022-10-03T16:26:39.785927Z",
     "shell.execute_reply": "2022-10-03T16:26:39.784641Z"
    },
    "papermill": {
     "duration": 0.027349,
     "end_time": "2022-10-03T16:26:39.788431",
     "exception": false,
     "start_time": "2022-10-03T16:26:39.761082",
     "status": "completed"
    },
    "tags": []
   },
   "outputs": [],
   "source": [
    "def plot_loss(history, ymax=100):\n",
    "  plt.plot(history.history['loss'], label='loss')\n",
    "  plt.plot(history.history['val_loss'], label='val_loss')\n",
    "  plt.ylim([0, ymax])\n",
    "  plt.xlabel('Epoch')\n",
    "  plt.ylabel('Error [y]')\n",
    "  plt.legend()\n",
    "  plt.grid(True)"
   ]
  },
  {
   "cell_type": "markdown",
   "id": "430ec7fe",
   "metadata": {
    "papermill": {
     "duration": 0.015339,
     "end_time": "2022-10-03T16:26:39.819752",
     "exception": false,
     "start_time": "2022-10-03T16:26:39.804413",
     "status": "completed"
    },
    "tags": []
   },
   "source": [
    "## Regression using a DNN"
   ]
  },
  {
   "cell_type": "code",
   "execution_count": 27,
   "id": "642b5bbd",
   "metadata": {
    "execution": {
     "iopub.execute_input": "2022-10-03T16:26:39.853534Z",
     "iopub.status.busy": "2022-10-03T16:26:39.853042Z",
     "iopub.status.idle": "2022-10-03T16:26:39.930548Z",
     "shell.execute_reply": "2022-10-03T16:26:39.928820Z"
    },
    "papermill": {
     "duration": 0.09772,
     "end_time": "2022-10-03T16:26:39.933349",
     "exception": false,
     "start_time": "2022-10-03T16:26:39.835629",
     "status": "completed"
    },
    "tags": []
   },
   "outputs": [
    {
     "name": "stdout",
     "output_type": "stream",
     "text": [
      "Model: \"sequential\"\n",
      "_________________________________________________________________\n",
      "Layer (type)                 Output Shape              Param #   \n",
      "=================================================================\n",
      "normalization (Normalization (None, 13)                27        \n",
      "_________________________________________________________________\n",
      "dense (Dense)                (None, 128)               1792      \n",
      "_________________________________________________________________\n",
      "dense_1 (Dense)              (None, 128)               16512     \n",
      "_________________________________________________________________\n",
      "dense_2 (Dense)              (None, 128)               16512     \n",
      "_________________________________________________________________\n",
      "dense_3 (Dense)              (None, 1)                 129       \n",
      "=================================================================\n",
      "Total params: 34,972\n",
      "Trainable params: 34,945\n",
      "Non-trainable params: 27\n",
      "_________________________________________________________________\n"
     ]
    }
   ],
   "source": [
    "# create keras model\n",
    "\n",
    "dnn_model = keras.Sequential([\n",
    "      normalizer,\n",
    "      layers.Dense(units=128, activation='relu'),\n",
    "      layers.Dense(units = 128, activation='relu'),\n",
    "      layers.Dense(units=128, activation='relu'),\n",
    "      layers.Dense(output_dimension)\n",
    "  ])\n",
    "\n",
    "dnn_model.compile(loss='mean_absolute_error',\n",
    "                optimizer=tf.keras.optimizers.Adam(0.001))\n",
    "dnn_model.summary()"
   ]
  },
  {
   "cell_type": "code",
   "execution_count": 28,
   "id": "70f5f72b",
   "metadata": {
    "execution": {
     "iopub.execute_input": "2022-10-03T16:26:39.967581Z",
     "iopub.status.busy": "2022-10-03T16:26:39.967161Z",
     "iopub.status.idle": "2022-10-03T16:26:43.838665Z",
     "shell.execute_reply": "2022-10-03T16:26:43.837497Z"
    },
    "papermill": {
     "duration": 3.892097,
     "end_time": "2022-10-03T16:26:43.841721",
     "exception": false,
     "start_time": "2022-10-03T16:26:39.949624",
     "status": "completed"
    },
    "tags": []
   },
   "outputs": [],
   "source": [
    "# train keras model\n",
    "\n",
    "history = dnn_model.fit(\n",
    "    train_features,\n",
    "    train_labels,\n",
    "    validation_split=0.2,\n",
    "    verbose=0, \n",
    "    epochs=10\n",
    ")"
   ]
  },
  {
   "cell_type": "code",
   "execution_count": 29,
   "id": "fc302ce1",
   "metadata": {
    "execution": {
     "iopub.execute_input": "2022-10-03T16:26:43.875979Z",
     "iopub.status.busy": "2022-10-03T16:26:43.875575Z",
     "iopub.status.idle": "2022-10-03T16:26:44.093349Z",
     "shell.execute_reply": "2022-10-03T16:26:44.092256Z"
    },
    "papermill": {
     "duration": 0.238155,
     "end_time": "2022-10-03T16:26:44.096265",
     "exception": false,
     "start_time": "2022-10-03T16:26:43.858110",
     "status": "completed"
    },
    "tags": []
   },
   "outputs": [
    {
     "data": {
      "image/png": "[encoded data removed]",
      "text/plain": [
       "<Figure size 432x288 with 1 Axes>"
      ]
     },
     "metadata": {
      "needs_background": "light"
     },
     "output_type": "display_data"
    }
   ],
   "source": [
    "plot_loss(history,2)"
   ]
  },
  {
   "cell_type": "markdown",
   "id": "15c732ce",
   "metadata": {
    "papermill": {
     "duration": 0.016951,
     "end_time": "2022-10-03T16:26:44.130439",
     "exception": false,
     "start_time": "2022-10-03T16:26:44.113488",
     "status": "completed"
    },
    "tags": []
   },
   "source": [
    "## Evaluate model with test_data"
   ]
  },
  {
   "cell_type": "code",
   "execution_count": 30,
   "id": "9ec1f816",
   "metadata": {
    "execution": {
     "iopub.execute_input": "2022-10-03T16:26:44.165585Z",
     "iopub.status.busy": "2022-10-03T16:26:44.164440Z",
     "iopub.status.idle": "2022-10-03T16:26:44.293106Z",
     "shell.execute_reply": "2022-10-03T16:26:44.292028Z"
    },
    "papermill": {
     "duration": 0.148765,
     "end_time": "2022-10-03T16:26:44.295560",
     "exception": false,
     "start_time": "2022-10-03T16:26:44.146795",
     "status": "completed"
    },
    "tags": []
   },
   "outputs": [
    {
     "data": {
      "text/plain": [
       "0.10497795045375824"
      ]
     },
     "execution_count": 30,
     "metadata": {},
     "output_type": "execute_result"
    }
   ],
   "source": [
    "# evaluate model loss with test_data \n",
    "test_results = {}\n",
    "test_results = dnn_model.evaluate(test_features, test_labels, verbose=0)\n",
    "test_results"
   ]
  },
  {
   "cell_type": "code",
   "execution_count": 31,
   "id": "4a8cb152",
   "metadata": {
    "execution": {
     "iopub.execute_input": "2022-10-03T16:26:44.330061Z",
     "iopub.status.busy": "2022-10-03T16:26:44.329622Z",
     "iopub.status.idle": "2022-10-03T16:26:44.789956Z",
     "shell.execute_reply": "2022-10-03T16:26:44.788552Z"
    },
    "papermill": {
     "duration": 0.480921,
     "end_time": "2022-10-03T16:26:44.793015",
     "exception": false,
     "start_time": "2022-10-03T16:26:44.312094",
     "status": "completed"
    },
    "tags": []
   },
   "outputs": [
    {
     "data": {
      "image/png": "[encoded data removed]",
      "text/plain": [
       "<Figure size 432x288 with 1 Axes>"
      ]
     },
     "metadata": {
      "needs_background": "light"
     },
     "output_type": "display_data"
    }
   ],
   "source": [
    "# compare test predictions with test labels\n",
    "test_predictions = dnn_model.predict(test_features)\n",
    "\n",
    "a = plt.axes(aspect='equal')\n",
    "plt.scatter(test_labels, test_predictions)\n",
    "plt.xlabel('True Values [y]')\n",
    "plt.ylabel('Predictions [y]')\n",
    "lims = [0, 20]\n",
    "plt.xlim(lims)\n",
    "plt.ylim(lims)\n",
    "_ = plt.plot(lims, lims)"
   ]
  },
  {
   "cell_type": "code",
   "execution_count": 32,
   "id": "4773db59",
   "metadata": {
    "execution": {
     "iopub.execute_input": "2022-10-03T16:26:44.829720Z",
     "iopub.status.busy": "2022-10-03T16:26:44.829305Z",
     "iopub.status.idle": "2022-10-03T16:26:45.119716Z",
     "shell.execute_reply": "2022-10-03T16:26:45.118357Z"
    },
    "papermill": {
     "duration": 0.31321,
     "end_time": "2022-10-03T16:26:45.123594",
     "exception": false,
     "start_time": "2022-10-03T16:26:44.810384",
     "status": "completed"
    },
    "tags": []
   },
   "outputs": [
    {
     "data": {
      "image/png": "[encoded data removed]",
      "text/plain": [
       "<Figure size 432x288 with 1 Axes>"
      ]
     },
     "metadata": {
      "needs_background": "light"
     },
     "output_type": "display_data"
    }
   ],
   "source": [
    "# evaluate predictions error\n",
    "error = test_predictions - test_labels\n",
    "plt.hist(error, bins=25)\n",
    "plt.xlabel('Prediction Error [y]')\n",
    "_ = plt.ylabel('Count')"
   ]
  },
  {
   "cell_type": "code",
   "execution_count": 33,
   "id": "501c807d",
   "metadata": {
    "execution": {
     "iopub.execute_input": "2022-10-03T16:26:45.159818Z",
     "iopub.status.busy": "2022-10-03T16:26:45.158594Z",
     "iopub.status.idle": "2022-10-03T16:26:45.386555Z",
     "shell.execute_reply": "2022-10-03T16:26:45.385401Z"
    },
    "papermill": {
     "duration": 0.248349,
     "end_time": "2022-10-03T16:26:45.388879",
     "exception": false,
     "start_time": "2022-10-03T16:26:45.140530",
     "status": "completed"
    },
    "tags": []
   },
   "outputs": [
    {
     "data": {
      "text/plain": [
       "[<matplotlib.lines.Line2D at 0x7f2803681a50>]"
      ]
     },
     "execution_count": 33,
     "metadata": {},
     "output_type": "execute_result"
    },
    {
     "data": {
      "image/png": "[encoded data removed]",
      "text/plain": [
       "<Figure size 432x288 with 1 Axes>"
      ]
     },
     "metadata": {
      "needs_background": "light"
     },
     "output_type": "display_data"
    }
   ],
   "source": [
    "plt.plot(test_predictions)"
   ]
  },
  {
   "cell_type": "code",
   "execution_count": 34,
   "id": "e1a6c920",
   "metadata": {
    "execution": {
     "iopub.execute_input": "2022-10-03T16:26:45.425545Z",
     "iopub.status.busy": "2022-10-03T16:26:45.425128Z",
     "iopub.status.idle": "2022-10-03T16:26:45.991478Z",
     "shell.execute_reply": "2022-10-03T16:26:45.990243Z"
    },
    "papermill": {
     "duration": 0.587719,
     "end_time": "2022-10-03T16:26:45.993891",
     "exception": false,
     "start_time": "2022-10-03T16:26:45.406172",
     "status": "completed"
    },
    "tags": []
   },
   "outputs": [
    {
     "data": {
      "text/plain": [
       "<AxesSubplot:xlabel='O'>"
      ]
     },
     "execution_count": 34,
     "metadata": {},
     "output_type": "execute_result"
    },
    {
     "data": {
      "image/png": "[encoded data removed]",
      "text/plain": [
       "<Figure size 432x288 with 1 Axes>"
      ]
     },
     "metadata": {
      "needs_background": "light"
     },
     "output_type": "display_data"
    }
   ],
   "source": [
    "df3['V2'].plot()"
   ]
  },
  {
   "cell_type": "markdown",
   "id": "3e5144a1",
   "metadata": {
    "papermill": {
     "duration": 0.017506,
     "end_time": "2022-10-03T16:26:46.029831",
     "exception": false,
     "start_time": "2022-10-03T16:26:46.012325",
     "status": "completed"
    },
    "tags": []
   },
   "source": [
    "## Save and Load model"
   ]
  },
  {
   "cell_type": "code",
   "execution_count": 35,
   "id": "b6c6e742",
   "metadata": {
    "execution": {
     "iopub.execute_input": "2022-10-03T16:26:46.067534Z",
     "iopub.status.busy": "2022-10-03T16:26:46.067107Z",
     "iopub.status.idle": "2022-10-03T16:26:47.091039Z",
     "shell.execute_reply": "2022-10-03T16:26:47.090037Z"
    },
    "papermill": {
     "duration": 1.046654,
     "end_time": "2022-10-03T16:26:47.094497",
     "exception": false,
     "start_time": "2022-10-03T16:26:46.047843",
     "status": "completed"
    },
    "tags": []
   },
   "outputs": [
    {
     "name": "stderr",
     "output_type": "stream",
     "text": [
      "2022-10-03 16:26:46.397471: W tensorflow/python/util/util.cc:348] Sets are not currently considered sequences, but this may change in the future, so consider avoiding using them.\n"
     ]
    }
   ],
   "source": [
    "dnn_model.save(model_filename)"
   ]
  },
  {
   "cell_type": "code",
   "execution_count": 36,
   "id": "be759c4a",
   "metadata": {
    "execution": {
     "iopub.execute_input": "2022-10-03T16:26:47.132888Z",
     "iopub.status.busy": "2022-10-03T16:26:47.132494Z",
     "iopub.status.idle": "2022-10-03T16:26:47.475113Z",
     "shell.execute_reply": "2022-10-03T16:26:47.473843Z"
    },
    "papermill": {
     "duration": 0.365745,
     "end_time": "2022-10-03T16:26:47.478601",
     "exception": false,
     "start_time": "2022-10-03T16:26:47.112856",
     "status": "completed"
    },
    "tags": []
   },
   "outputs": [],
   "source": [
    "reloaded = tf.keras.models.load_model(model_filename)"
   ]
  }
 ],
 "metadata": {
  "kernelspec": {
   "display_name": "Python 3",
   "language": "python",
   "name": "python3"
  },
  "language_info": {
   "codemirror_mode": {
    "name": "ipython",
    "version": 3
   },
   "file_extension": ".py",
   "mimetype": "text/x-python",
   "name": "python",
   "nbconvert_exporter": "python",
   "pygments_lexer": "ipython3",
   "version": "3.7.12"
  },
  "papermill": {
   "default_parameters": {},
   "duration": 39.161051,
   "end_time": "2022-10-03T16:26:50.204297",
   "environment_variables": {},
   "exception": null,
   "input_path": "__notebook__.ipynb",
   "output_path": "__notebook__.ipynb",
   "parameters": {},
   "start_time": "2022-10-03T16:26:11.043246",
   "version": "2.3.4"
  }
 },
 "nbformat": 4,
 "nbformat_minor": 5
}
