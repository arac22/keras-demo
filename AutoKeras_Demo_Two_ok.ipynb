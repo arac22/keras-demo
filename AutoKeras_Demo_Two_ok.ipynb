{
  "nbformat": 4,
  "nbformat_minor": 0,
  "metadata": {
    "colab": {
      "name": "AutoKeras Demo Two ok.ipynb",
      "provenance": [],
      "collapsed_sections": [],
      "authorship_tag": "ABX9TyO/ZVn25KNlDl2dkNASqLBy",
      "include_colab_link": true
    },
    "kernelspec": {
      "name": "python3",
      "display_name": "Python 3"
    },
    "language_info": {
      "name": "python"
    }
  },
  "cells": [
    {
      "cell_type": "markdown",
      "metadata": {
        "id": "view-in-github",
        "colab_type": "text"
      },
      "source": [
        "<a href=\"https://colab.research.google.com/github/arac22/keras-demo/blob/main/AutoKeras_Demo_Two_ok.ipynb\" target=\"_parent\"><img src=\"https://colab.research.google.com/assets/colab-badge.svg\" alt=\"Open In Colab\"/></a>"
      ]
    },
    {
      "cell_type": "code",
      "execution_count": null,
      "metadata": {
        "id": "auDMS4vcWudx"
      },
      "outputs": [],
      "source": [
        "!pip install autokeras"
      ]
    },
    {
      "cell_type": "code",
      "source": [
        "import os\n",
        "import shutil\n",
        "\n",
        "import numpy as np\n",
        "import pandas as pd\n",
        "import tensorflow as tf\n",
        "\n",
        "import autokeras as ak\n"
      ],
      "metadata": {
        "id": "BHfFklZWXyo5"
      },
      "execution_count": 26,
      "outputs": []
    },
    {
      "cell_type": "code",
      "source": [
        "TRAIN_DATA_URL = \"https://raw.githubusercontent.com/arac22/keras-demo/main/mouse-points-train.csv\"\n",
        "TEST_DATA_URL = \"https://raw.githubusercontent.com/arac22/keras-demo/main/mouse-points-eval.csv\"\n",
        "\n",
        "train_file_path = tf.keras.utils.get_file(\"train.csv\", TRAIN_DATA_URL)\n",
        "test_file_path = tf.keras.utils.get_file(\"eval.csv\", TEST_DATA_URL)\n",
        "\n"
      ],
      "metadata": {
        "id": "QMWbNgUlX2Ca",
        "colab": {
          "base_uri": "https://localhost:8080/"
        },
        "outputId": "10f4f17f-2d5b-4672-a341-3542d9652820"
      },
      "execution_count": 27,
      "outputs": [
        {
          "output_type": "stream",
          "name": "stdout",
          "text": [
            "Downloading data from https://raw.githubusercontent.com/arac22/keras-demo/main/mouse-points-train.csv\n",
            "16384/1325 [==================================================================================================================================================================================================================================================================================================================================================================================] - 0s 0us/step\n"
          ]
        }
      ]
    },
    {
      "cell_type": "code",
      "source": [
        "!rm  /root/.keras/datasets/train.csv"
      ],
      "metadata": {
        "id": "2J4-ZuR6JxME"
      },
      "execution_count": 25,
      "outputs": []
    },
    {
      "cell_type": "code",
      "source": [
        "!ls -l /root/.keras/datasets/train.csv\n",
        "!cat  /root/.keras/datasets/train.csv\n"
      ],
      "metadata": {
        "colab": {
          "base_uri": "https://localhost:8080/"
        },
        "id": "aIRwIduSI2hp",
        "outputId": "58386055-4c9e-4f50-b8ad-da0332bbb3b0"
      },
      "execution_count": 28,
      "outputs": [
        {
          "output_type": "stream",
          "name": "stdout",
          "text": [
            "-rw-r--r-- 1 root root 1325 Aug 30 15:36 /root/.keras/datasets/train.csv\n",
            "x,y,label\n",
            "134.00,61.44,C\n",
            "127.00,141.44,C\n",
            "121.00,228.44,C\n",
            "441.00,55.44,D\n",
            "432.00,142.44,D\n",
            "425.00,219.44,D\n",
            "418.00,302.44,D\n",
            "490.00,277.44,E\n",
            "459.00,361.44,E\n",
            "527.00,365.44,E\n",
            "560.00,295.44,E\n",
            "408.00,260.44,E\n",
            "383.00,342.44,E\n",
            "134.00,61.44,C\n",
            "127.00,141.44,C\n",
            "121.00,228.44,C\n",
            "441.00,55.44,D\n",
            "432.00,142.44,D\n",
            "425.00,219.44,D\n",
            "418.00,302.44,D\n",
            "490.00,277.44,E\n",
            "459.00,361.44,E\n",
            "527.00,365.44,E\n",
            "560.00,295.44,E\n",
            "408.00,260.44,E\n",
            "383.00,342.44,E\n",
            "134.00,61.44,C\n",
            "127.00,141.44,C\n",
            "121.00,228.44,C\n",
            "441.00,55.44,D\n",
            "432.00,142.44,D\n",
            "425.00,219.44,D\n",
            "418.00,302.44,D\n",
            "490.00,277.44,E\n",
            "459.00,361.44,E\n",
            "527.00,365.44,E\n",
            "560.00,295.44,E\n",
            "408.00,260.44,E\n",
            "383.00,342.44,E\n",
            "134.00,61.44,C\n",
            "127.00,141.44,C\n",
            "121.00,228.44,C\n",
            "441.00,55.44,D\n",
            "432.00,142.44,D\n",
            "425.00,219.44,D\n",
            "418.00,302.44,D\n",
            "490.00,277.44,E\n",
            "459.00,361.44,E\n",
            "527.00,365.44,E\n",
            "560.00,295.44,E\n",
            "408.00,260.44,E\n",
            "383.00,342.44,E\n",
            "134.00,61.44,C\n",
            "127.00,141.44,C\n",
            "121.00,228.44,C\n",
            "441.00,55.44,D\n",
            "432.00,142.44,D\n",
            "425.00,219.44,D\n",
            "418.00,302.44,D\n",
            "490.00,277.44,E\n",
            "459.00,361.44,E\n",
            "527.00,365.44,E\n",
            "560.00,295.44,E\n",
            "408.00,260.44,E\n",
            "383.00,342.44,E\n",
            "134.00,61.44,C\n",
            "127.00,141.44,C\n",
            "121.00,228.44,C\n",
            "441.00,55.44,D\n",
            "432.00,142.44,D\n",
            "425.00,219.44,D\n",
            "418.00,302.44,D\n",
            "490.00,277.44,E\n",
            "459.00,361.44,E\n",
            "527.00,365.44,E\n",
            "560.00,295.44,E\n",
            "408.00,260.44,E\n",
            "383.00,342.44,E\n"
          ]
        }
      ]
    },
    {
      "cell_type": "code",
      "source": [
        "# Initialize the structured data classifier.\n",
        "clf = ak.StructuredDataClassifier(\n",
        "    overwrite=True, max_trials=3\n",
        ")  # It tries 3 different models.\n",
        "# Feed the structured data classifier with training data.\n",
        "clf.fit(\n",
        "    # The path to the train.csv file.\n",
        "    train_file_path,\n",
        "    # The name of the label column.\n",
        "    \"label\",\n",
        "    epochs=10,\n",
        ")\n",
        "\n"
      ],
      "metadata": {
        "colab": {
          "base_uri": "https://localhost:8080/"
        },
        "id": "ie4I4HXZYNO_",
        "outputId": "3ce580e3-e3ca-4599-d2f2-9acd49d2dd29"
      },
      "execution_count": 29,
      "outputs": [
        {
          "output_type": "stream",
          "name": "stdout",
          "text": [
            "Trial 3 Complete [00h 00m 05s]\n",
            "val_accuracy: 0.9285714030265808\n",
            "\n",
            "Best val_accuracy So Far: 0.9285714030265808\n",
            "Total elapsed time: 00h 00m 13s\n"
          ]
        },
        {
          "output_type": "stream",
          "name": "stderr",
          "text": [
            "WARNING:tensorflow:5 out of the last 14 calls to <function PreprocessingLayer.make_adapt_function.<locals>.adapt_step at 0x7ff7539348c0> triggered tf.function retracing. Tracing is expensive and the excessive number of tracings could be due to (1) creating @tf.function repeatedly in a loop, (2) passing tensors with different shapes, (3) passing Python objects instead of tensors. For (1), please define your @tf.function outside of the loop. For (2), @tf.function has experimental_relax_shapes=True option that relaxes argument shapes that can avoid unnecessary retracing. For (3), please refer to https://www.tensorflow.org/guide/function#controlling_retracing and https://www.tensorflow.org/api_docs/python/tf/function for  more details.\n"
          ]
        },
        {
          "output_type": "stream",
          "name": "stdout",
          "text": [
            "Epoch 1/10\n",
            "3/3 [==============================] - 1s 331ms/step - loss: 1.0685 - accuracy: 0.4103\n",
            "Epoch 2/10\n",
            "3/3 [==============================] - 0s 3ms/step - loss: 1.0169 - accuracy: 0.5256\n",
            "Epoch 3/10\n",
            "3/3 [==============================] - 0s 3ms/step - loss: 0.9634 - accuracy: 0.6538\n",
            "Epoch 4/10\n",
            "3/3 [==============================] - 0s 3ms/step - loss: 0.9548 - accuracy: 0.6154\n",
            "Epoch 5/10\n",
            "3/3 [==============================] - 0s 3ms/step - loss: 0.8807 - accuracy: 0.7821\n",
            "Epoch 6/10\n",
            "3/3 [==============================] - 0s 3ms/step - loss: 0.8486 - accuracy: 0.7308\n",
            "Epoch 7/10\n",
            "3/3 [==============================] - 0s 3ms/step - loss: 0.8303 - accuracy: 0.7436\n",
            "Epoch 8/10\n",
            "3/3 [==============================] - 0s 3ms/step - loss: 0.8036 - accuracy: 0.8205\n",
            "Epoch 9/10\n",
            "3/3 [==============================] - 0s 3ms/step - loss: 0.7746 - accuracy: 0.8462\n",
            "Epoch 10/10\n",
            "3/3 [==============================] - 0s 3ms/step - loss: 0.7366 - accuracy: 0.8205\n"
          ]
        },
        {
          "output_type": "execute_result",
          "data": {
            "text/plain": [
              "<keras.callbacks.History at 0x7ff753c19090>"
            ]
          },
          "metadata": {},
          "execution_count": 29
        }
      ]
    },
    {
      "cell_type": "code",
      "source": [
        "# Predict with the best model.\n",
        "predicted_y = clf.predict(test_file_path)\n",
        "# Evaluate the best model with testing data.\n",
        "print(clf.evaluate(test_file_path, \"label\"))"
      ],
      "metadata": {
        "colab": {
          "base_uri": "https://localhost:8080/"
        },
        "id": "8dkkC6jdHymB",
        "outputId": "f2fb208e-9b8c-49ec-8401-e0efd7b29943"
      },
      "execution_count": 30,
      "outputs": [
        {
          "output_type": "stream",
          "name": "stderr",
          "text": [
            "WARNING:tensorflow:5 out of the last 9 calls to <function Model.make_predict_function.<locals>.predict_function at 0x7ff75390f9e0> triggered tf.function retracing. Tracing is expensive and the excessive number of tracings could be due to (1) creating @tf.function repeatedly in a loop, (2) passing tensors with different shapes, (3) passing Python objects instead of tensors. For (1), please define your @tf.function outside of the loop. For (2), @tf.function has experimental_relax_shapes=True option that relaxes argument shapes that can avoid unnecessary retracing. For (3), please refer to https://www.tensorflow.org/guide/function#controlling_retracing and https://www.tensorflow.org/api_docs/python/tf/function for  more details.\n"
          ]
        },
        {
          "output_type": "stream",
          "name": "stdout",
          "text": [
            "1/1 [==============================] - 0s 8ms/step\n",
            "1/1 [==============================] - 1s 622ms/step - loss: 1.0048 - accuracy: 0.4000\n",
            "[1.0048338174819946, 0.4000000059604645]\n"
          ]
        }
      ]
    },
    {
      "cell_type": "code",
      "source": [],
      "metadata": {
        "id": "PYM5BMiQKaOs"
      },
      "execution_count": null,
      "outputs": []
    }
  ]
}