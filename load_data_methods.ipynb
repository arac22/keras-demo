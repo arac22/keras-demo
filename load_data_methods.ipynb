{
  "nbformat": 4,
  "nbformat_minor": 0,
  "metadata": {
    "colab": {
      "name": "load data methods.ipynb",
      "provenance": [],
      "collapsed_sections": [],
      "authorship_tag": "ABX9TyMi/m/se+I3WUhxCYYT0pfH",
      "include_colab_link": true
    },
    "kernelspec": {
      "name": "python3",
      "display_name": "Python 3"
    },
    "language_info": {
      "name": "python"
    }
  },
  "cells": [
    {
      "cell_type": "markdown",
      "metadata": {
        "id": "view-in-github",
        "colab_type": "text"
      },
      "source": [
        "<a href=\"https://colab.research.google.com/github/arac22/keras-demo/blob/main/load_data_methods.ipynb\" target=\"_parent\"><img src=\"https://colab.research.google.com/assets/colab-badge.svg\" alt=\"Open In Colab\"/></a>"
      ]
    },
    {
      "cell_type": "markdown",
      "source": [
        "tratto da\n",
        "\n",
        "https://towardsdatascience.com/3-ways-to-load-csv-files-into-colab-7c14fcbdcb92\n",
        "\n",
        "https://colab.research.google.com/notebooks/io.ipynb#scrollTo=RWSJpsyKqHjH"
      ],
      "metadata": {
        "id": "6JEO32efSOEp"
      }
    },
    {
      "cell_type": "code",
      "execution_count": 2,
      "metadata": {
        "id": "CzA_uYNFRYSH"
      },
      "outputs": [],
      "source": [
        "import pandas as pd"
      ]
    },
    {
      "cell_type": "markdown",
      "source": [
        "1 - carica da GitHub direttamente nella data frame Pandas senza copiare il file sulla Virtual Machine Colab o su Google Drive"
      ],
      "metadata": {
        "id": "eNP7GiciSDkh"
      }
    },
    {
      "cell_type": "code",
      "source": [
        "#url = 'copied_raw_GH_link'\n",
        "# in GitHub visualize raw and copy the https address from the browser address bar\n",
        "url = 'https://raw.githubusercontent.com/arac22/keras-demo/664c9bedc880a4d14f61e9280511c6c596214dd4/demo_data.csv'\n",
        "df1 = pd.read_csv(url)\n",
        "# Dataset is now stored in a Pandas Dataframe"
      ],
      "metadata": {
        "id": "zzord6QzSL_Q"
      },
      "execution_count": 6,
      "outputs": []
    },
    {
      "cell_type": "code",
      "source": [
        "df1"
      ],
      "metadata": {
        "id": "YjHPMV0Fp9GF"
      },
      "execution_count": null,
      "outputs": []
    },
    {
      "cell_type": "markdown",
      "source": [
        "2 - upload da disco locale nel file system della Virtual Machine Colab e poi carica nella data frame Pandas"
      ],
      "metadata": {
        "id": "Vt028UA6R0hR"
      }
    },
    {
      "cell_type": "code",
      "source": [
        "from google.colab import files\n",
        "uploaded = files.upload()\n"
      ],
      "metadata": {
        "id": "k_dUjNZkRsPK"
      },
      "execution_count": null,
      "outputs": []
    },
    {
      "cell_type": "code",
      "source": [
        "import io\n",
        "\n",
        "df2 = pd.read_csv(io.BytesIO(uploaded['demo_data.csv']))\n",
        "# Dataset is now stored in a Pandas Dataframe\n",
        "df2.plot()\n",
        "\n"
      ],
      "metadata": {
        "id": "Az21DZsoTs1R"
      },
      "execution_count": null,
      "outputs": []
    },
    {
      "cell_type": "markdown",
      "source": [
        "3 - load from Google Drive\n",
        "\n",
        "Monta Google Drive nel file system del runtime Colab\n",
        "\n",
        "In your Google Drive (“My Drive”), create a folder called data in the location of your choosing. This is where you will upload your data."
      ],
      "metadata": {
        "id": "NIj8vpsTSjJb"
      }
    },
    {
      "cell_type": "code",
      "source": [
        "from google.colab import drive\n",
        "drive.mount('/content/drive')"
      ],
      "metadata": {
        "colab": {
          "base_uri": "https://localhost:8080/"
        },
        "id": "zo0uBwdISvxQ",
        "outputId": "bffcc55c-2757-4118-828b-fb90a8134a55"
      },
      "execution_count": 24,
      "outputs": [
        {
          "output_type": "stream",
          "name": "stdout",
          "text": [
            "Mounted at /content/drive\n"
          ]
        }
      ]
    },
    {
      "cell_type": "code",
      "source": [
        "!ls drive/MyDrive/Colabs/"
      ],
      "metadata": {
        "colab": {
          "base_uri": "https://localhost:8080/"
        },
        "id": "YywUgydSt-hO",
        "outputId": "1e92b7a5-ad15-4da0-d308-b69f568a9bf6"
      },
      "execution_count": 27,
      "outputs": [
        {
          "output_type": "stream",
          "name": "stdout",
          "text": [
            "'AutoKeras Demo One.ipynb'   demo_data.gsheet\n",
            " demo_data.csv\t\t    'load data methods.ipynb'\n"
          ]
        }
      ]
    },
    {
      "cell_type": "code",
      "source": [
        "from pandas.io.parsers.readers import read_csv\n",
        "\n",
        "import io\n",
        "df3 = read_csv('drive/MyDrive/Colabs/demo_data.csv')\n",
        "df3\n"
      ],
      "metadata": {
        "id": "mPG8JotJWqGj"
      },
      "execution_count": null,
      "outputs": []
    },
    {
      "cell_type": "code",
      "source": [
        "!ls drive/MyDrive/Colabs/\n",
        "\n"
      ],
      "metadata": {
        "colab": {
          "base_uri": "https://localhost:8080/"
        },
        "id": "eN5DsjPJrsKj",
        "outputId": "c37016b9-6d7e-46a0-eab5-30515521d4a5"
      },
      "execution_count": 32,
      "outputs": [
        {
          "output_type": "stream",
          "name": "stdout",
          "text": [
            "'AutoKeras Demo One.ipynb'   demo_data.gsheet\n",
            " demo_data.csv\t\t    'load data methods.ipynb'\n"
          ]
        }
      ]
    }
  ]
}