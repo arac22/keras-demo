{
  "nbformat": 4,
  "nbformat_minor": 0,
  "metadata": {
    "colab": {
      "provenance": [],
      "collapsed_sections": [],
      "authorship_tag": "ABX9TyOgxB4xPOWZK8U52zrxEPrt",
      "include_colab_link": true
    },
    "kernelspec": {
      "name": "python3",
      "display_name": "Python 3"
    },
    "language_info": {
      "name": "python"
    }
  },
  "cells": [
    {
      "cell_type": "markdown",
      "metadata": {
        "id": "view-in-github",
        "colab_type": "text"
      },
      "source": [
        "<a href=\"https://colab.research.google.com/github/arac22/keras-demo/blob/main/mouse_notes_nn.ipynb\" target=\"_parent\"><img src=\"https://colab.research.google.com/assets/colab-badge.svg\" alt=\"Open In Colab\"/></a>"
      ]
    },
    {
      "cell_type": "code",
      "source": [
        "import pandas as pd\n",
        "import numpy as np\n",
        "\n",
        "# Make numpy values easier to read.\n",
        "np.set_printoptions(precision=3, suppress=True)\n",
        "\n",
        "import tensorflow as tf\n",
        "from tensorflow.keras import layers"
      ],
      "metadata": {
        "id": "NIRT4iRl84iG"
      },
      "execution_count": 1,
      "outputs": []
    },
    {
      "cell_type": "code",
      "execution_count": 2,
      "metadata": {
        "colab": {
          "base_uri": "https://localhost:8080/",
          "height": 0
        },
        "id": "-mIeK0QYwye8",
        "outputId": "31dde667-eb96-422f-8dcf-08f348e7a1da"
      },
      "outputs": [
        {
          "output_type": "stream",
          "name": "stdout",
          "text": [
            "Mounted at /content/drive\n"
          ]
        }
      ],
      "source": [
        "\n",
        "from google.colab import drive\n",
        "drive.mount('/content/drive')\n"
      ]
    },
    {
      "cell_type": "code",
      "source": [
        "!ls drive/MyDrive/Colabs/"
      ],
      "metadata": {
        "colab": {
          "base_uri": "https://localhost:8080/",
          "height": 0
        },
        "id": "JtoYiJ2AxZNq",
        "outputId": "1c352f44-030e-4439-d8e0-9c06f4afe436"
      },
      "execution_count": 3,
      "outputs": [
        {
          "output_type": "stream",
          "name": "stdout",
          "text": [
            "'AutoKeras Demo One.ipynb'      mouse-notes.json\n",
            "'AutoKeras Demo Two ok.ipynb'  'mouse-notes nn.ipynb'\n",
            " demo_data.csv\t\t        mouse-points-eval.csv\n",
            " demo_data.gsheet\t        mouse-points-train.csv\n",
            "'load data methods.ipynb'\n"
          ]
        }
      ]
    },
    {
      "cell_type": "code",
      "source": [
        "\n",
        "df2 = pd.read_csv('drive/MyDrive/Colabs/mouse-points-train.csv')\n",
        "# Dataset is now stored in a Pandas Dataframe\n",
        "\n",
        "\n"
      ],
      "metadata": {
        "id": "niKi4XocxiPb"
      },
      "execution_count": 55,
      "outputs": []
    },
    {
      "cell_type": "code",
      "source": [
        "\n",
        "from altair import Chart\n",
        "c = Chart(df2)\n",
        "c.mark_circle().encode(x='x', y='y', color='label')\n"
      ],
      "metadata": {
        "colab": {
          "base_uri": "https://localhost:8080/",
          "height": 368
        },
        "id": "581EioK5w0hY",
        "outputId": "5df2a72a-6771-4ac1-beca-477d1f2999e4"
      },
      "execution_count": 56,
      "outputs": [
        {
          "output_type": "execute_result",
          "data": {
            "text/html": [
              "\n",
              "<div id=\"altair-viz-be43acd7b6e04f8d95911b1bbab538ec\"></div>\n",
              "<script type=\"text/javascript\">\n",
              "  var VEGA_DEBUG = (typeof VEGA_DEBUG == \"undefined\") ? {} : VEGA_DEBUG;\n",
              "  (function(spec, embedOpt){\n",
              "    let outputDiv = document.currentScript.previousElementSibling;\n",
              "    if (outputDiv.id !== \"altair-viz-be43acd7b6e04f8d95911b1bbab538ec\") {\n",
              "      outputDiv = document.getElementById(\"altair-viz-be43acd7b6e04f8d95911b1bbab538ec\");\n",
              "    }\n",
              "    const paths = {\n",
              "      \"vega\": \"https://cdn.jsdelivr.net/npm//vega@5?noext\",\n",
              "      \"vega-lib\": \"https://cdn.jsdelivr.net/npm//vega-lib?noext\",\n",
              "      \"vega-lite\": \"https://cdn.jsdelivr.net/npm//vega-lite@4.17.0?noext\",\n",
              "      \"vega-embed\": \"https://cdn.jsdelivr.net/npm//vega-embed@6?noext\",\n",
              "    };\n",
              "\n",
              "    function maybeLoadScript(lib, version) {\n",
              "      var key = `${lib.replace(\"-\", \"\")}_version`;\n",
              "      return (VEGA_DEBUG[key] == version) ?\n",
              "        Promise.resolve(paths[lib]) :\n",
              "        new Promise(function(resolve, reject) {\n",
              "          var s = document.createElement('script');\n",
              "          document.getElementsByTagName(\"head\")[0].appendChild(s);\n",
              "          s.async = true;\n",
              "          s.onload = () => {\n",
              "            VEGA_DEBUG[key] = version;\n",
              "            return resolve(paths[lib]);\n",
              "          };\n",
              "          s.onerror = () => reject(`Error loading script: ${paths[lib]}`);\n",
              "          s.src = paths[lib];\n",
              "        });\n",
              "    }\n",
              "\n",
              "    function showError(err) {\n",
              "      outputDiv.innerHTML = `<div class=\"error\" style=\"color:red;\">${err}</div>`;\n",
              "      throw err;\n",
              "    }\n",
              "\n",
              "    function displayChart(vegaEmbed) {\n",
              "      vegaEmbed(outputDiv, spec, embedOpt)\n",
              "        .catch(err => showError(`Javascript Error: ${err.message}<br>This usually means there's a typo in your chart specification. See the javascript console for the full traceback.`));\n",
              "    }\n",
              "\n",
              "    if(typeof define === \"function\" && define.amd) {\n",
              "      requirejs.config({paths});\n",
              "      require([\"vega-embed\"], displayChart, err => showError(`Error loading script: ${err.message}`));\n",
              "    } else {\n",
              "      maybeLoadScript(\"vega\", \"5\")\n",
              "        .then(() => maybeLoadScript(\"vega-lite\", \"4.17.0\"))\n",
              "        .then(() => maybeLoadScript(\"vega-embed\", \"6\"))\n",
              "        .catch(showError)\n",
              "        .then(() => displayChart(vegaEmbed));\n",
              "    }\n",
              "  })({\"config\": {\"view\": {\"continuousWidth\": 400, \"continuousHeight\": 300}}, \"data\": {\"name\": \"data-aedd80cad0b410c3f01b2261b96067a5\"}, \"mark\": \"circle\", \"encoding\": {\"color\": {\"field\": \"label\", \"type\": \"nominal\"}, \"x\": {\"field\": \"x\", \"type\": \"quantitative\"}, \"y\": {\"field\": \"y\", \"type\": \"quantitative\"}}, \"$schema\": \"https://vega.github.io/schema/vega-lite/v4.17.0.json\", \"datasets\": {\"data-aedd80cad0b410c3f01b2261b96067a5\": [{\"x\": 134.0, \"y\": 61.44, \"label\": \"C\"}, {\"x\": 127.0, \"y\": 141.44, \"label\": \"C\"}, {\"x\": 121.0, \"y\": 228.44, \"label\": \"C\"}, {\"x\": 441.0, \"y\": 55.44, \"label\": \"D\"}, {\"x\": 432.0, \"y\": 142.44, \"label\": \"D\"}, {\"x\": 425.0, \"y\": 219.44, \"label\": \"D\"}, {\"x\": 418.0, \"y\": 302.44, \"label\": \"D\"}, {\"x\": 490.0, \"y\": 277.44, \"label\": \"E\"}, {\"x\": 459.0, \"y\": 361.44, \"label\": \"E\"}, {\"x\": 527.0, \"y\": 365.44, \"label\": \"E\"}, {\"x\": 560.0, \"y\": 295.44, \"label\": \"E\"}, {\"x\": 408.0, \"y\": 260.44, \"label\": \"E\"}, {\"x\": 383.0, \"y\": 342.44, \"label\": \"E\"}]}}, {\"mode\": \"vega-lite\"});\n",
              "</script>"
            ],
            "text/plain": [
              "alt.Chart(...)"
            ]
          },
          "metadata": {},
          "execution_count": 56
        }
      ]
    },
    {
      "cell_type": "code",
      "source": [
        "df2['label'].replace(['C', 'D', 'E'], [10, 20, 30], inplace=True)"
      ],
      "metadata": {
        "id": "KxgfWgoc5Y_5"
      },
      "execution_count": 64,
      "outputs": []
    },
    {
      "cell_type": "markdown",
      "source": [
        "The nominal task for this dataset is to predict the age from the other measurements, so separate the features and labels for training:\n",
        "\n"
      ],
      "metadata": {
        "id": "xauKVscR8Kbs"
      }
    },
    {
      "cell_type": "code",
      "source": [
        "targets = df2['label']"
      ],
      "metadata": {
        "id": "PInnDCWc8IlX"
      },
      "execution_count": 65,
      "outputs": []
    },
    {
      "cell_type": "code",
      "source": [
        "targets"
      ],
      "metadata": {
        "colab": {
          "base_uri": "https://localhost:8080/"
        },
        "id": "mViYqtQ823DE",
        "outputId": "403abbfc-6b96-48b8-8922-13ed91c6d33d"
      },
      "execution_count": 66,
      "outputs": [
        {
          "output_type": "execute_result",
          "data": {
            "text/plain": [
              "0     10\n",
              "1     10\n",
              "2     10\n",
              "3     20\n",
              "4     20\n",
              "5     20\n",
              "6     20\n",
              "7     30\n",
              "8     30\n",
              "9     30\n",
              "10    30\n",
              "11    30\n",
              "12    30\n",
              "Name: label, dtype: int64"
            ]
          },
          "metadata": {},
          "execution_count": 66
        }
      ]
    },
    {
      "cell_type": "code",
      "source": [
        "features = df2[['x','y']]"
      ],
      "metadata": {
        "id": "RwJ3Y3lE3HtT"
      },
      "execution_count": 61,
      "outputs": []
    },
    {
      "cell_type": "code",
      "source": [
        "features"
      ],
      "metadata": {
        "id": "9ZrPBwBO3d4X"
      },
      "execution_count": null,
      "outputs": []
    },
    {
      "cell_type": "code",
      "source": [
        "from keras import Sequential\n",
        "from keras.layers import Dense\n",
        "\n",
        "# define the keras model\n",
        "model = Sequential()\n",
        "model.add(Dense(16, input_shape=(2,), activation='relu'))\n",
        "model.add(Dense(8, activation='relu'))\n",
        "model.add(Dense(1, activation='sigmoid'))"
      ],
      "metadata": {
        "id": "MOGEH9HN9p02"
      },
      "execution_count": 52,
      "outputs": []
    },
    {
      "cell_type": "code",
      "source": [
        "\n",
        "# compile the keras model\n",
        "model.compile(loss='binary_crossentropy', optimizer='adam', metrics=['accuracy'])\n"
      ],
      "metadata": {
        "id": "gJ2Zvg9J-gr8"
      },
      "execution_count": 53,
      "outputs": []
    },
    {
      "cell_type": "code",
      "source": [
        "\n",
        "# fit the keras model on the dataset\n",
        "model.fit(features, targets, epochs=100, batch_size=10)\n"
      ],
      "metadata": {
        "id": "phG7eHOd-oFO"
      },
      "execution_count": null,
      "outputs": []
    },
    {
      "cell_type": "code",
      "source": [
        "# evaluate the keras model\n",
        "loss, accuracy = model.evaluate(features, targets)\n",
        "print('Accuracy: %.2f' % (accuracy*100))"
      ],
      "metadata": {
        "colab": {
          "base_uri": "https://localhost:8080/"
        },
        "id": "tTL_3TsEATid",
        "outputId": "4417cc50-ab41-4495-f7f5-f7e2cdb05543"
      },
      "execution_count": 69,
      "outputs": [
        {
          "output_type": "stream",
          "name": "stdout",
          "text": [
            "1/1 [==============================] - 0s 148ms/step - loss: -40748.7109 - accuracy: 0.0000e+00\n",
            "Accuracy: 0.00\n"
          ]
        }
      ]
    }
  ]
}