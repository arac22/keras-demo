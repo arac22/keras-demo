{
 "cells": [
  {
   "cell_type": "markdown",
   "id": "8ae515ab",
   "metadata": {
    "papermill": {
     "duration": 0.004788,
     "end_time": "2022-10-05T21:01:56.265745",
     "exception": false,
     "start_time": "2022-10-05T21:01:56.260957",
     "status": "completed"
    },
    "tags": []
   },
   "source": [
    "https://youtu.be/cO5g5qLrLSo?list=PLgNJO2hghbmjlE6cuKMws2ejC54BTAaWV"
   ]
  },
  {
   "cell_type": "code",
   "execution_count": 1,
   "id": "c4deb04f",
   "metadata": {
    "execution": {
     "iopub.execute_input": "2022-10-05T21:01:56.275471Z",
     "iopub.status.busy": "2022-10-05T21:01:56.274838Z",
     "iopub.status.idle": "2022-10-05T21:02:12.072879Z",
     "shell.execute_reply": "2022-10-05T21:02:12.071183Z"
    },
    "papermill": {
     "duration": 15.806516,
     "end_time": "2022-10-05T21:02:12.076115",
     "exception": false,
     "start_time": "2022-10-05T21:01:56.269599",
     "status": "completed"
    },
    "tags": []
   },
   "outputs": [
    {
     "name": "stdout",
     "output_type": "stream",
     "text": [
      "Requirement already satisfied: gym[classic_control] in /opt/conda/lib/python3.7/site-packages (0.26.0)\r\n",
      "Requirement already satisfied: gym-notices>=0.0.4 in /opt/conda/lib/python3.7/site-packages (from gym[classic_control]) (0.0.8)\r\n",
      "Requirement already satisfied: numpy>=1.18.0 in /opt/conda/lib/python3.7/site-packages (from gym[classic_control]) (1.21.6)\r\n",
      "Requirement already satisfied: importlib-metadata>=4.8.0 in /opt/conda/lib/python3.7/site-packages (from gym[classic_control]) (4.12.0)\r\n",
      "Requirement already satisfied: cloudpickle>=1.2.0 in /opt/conda/lib/python3.7/site-packages (from gym[classic_control]) (2.1.0)\r\n",
      "Collecting pygame==2.1.0\r\n",
      "  Downloading pygame-2.1.0-cp37-cp37m-manylinux_2_17_x86_64.manylinux2014_x86_64.whl (18.3 MB)\r\n",
      "\u001b[2K     \u001b[90m━━━━━━━━━━━━━━━━━━━━━━━━━━━━━━━━━━━━━━━━\u001b[0m \u001b[32m18.3/18.3 MB\u001b[0m \u001b[31m28.9 MB/s\u001b[0m eta \u001b[36m0:00:00\u001b[0m\r\n",
      "\u001b[?25hRequirement already satisfied: zipp>=0.5 in /opt/conda/lib/python3.7/site-packages (from importlib-metadata>=4.8.0->gym[classic_control]) (3.8.0)\r\n",
      "Requirement already satisfied: typing-extensions>=3.6.4 in /opt/conda/lib/python3.7/site-packages (from importlib-metadata>=4.8.0->gym[classic_control]) (4.3.0)\r\n",
      "Installing collected packages: pygame\r\n",
      "Successfully installed pygame-2.1.0\r\n",
      "\u001b[33mWARNING: Running pip as the 'root' user can result in broken permissions and conflicting behaviour with the system package manager. It is recommended to use a virtual environment instead: https://pip.pypa.io/warnings/venv\u001b[0m\u001b[33m\r\n",
      "\u001b[0m"
     ]
    }
   ],
   "source": [
    "!pip install gym[classic_control]"
   ]
  },
  {
   "cell_type": "code",
   "execution_count": 2,
   "id": "229ae106",
   "metadata": {
    "execution": {
     "iopub.execute_input": "2022-10-05T21:02:12.091026Z",
     "iopub.status.busy": "2022-10-05T21:02:12.090453Z",
     "iopub.status.idle": "2022-10-05T21:02:46.101426Z",
     "shell.execute_reply": "2022-10-05T21:02:46.099802Z"
    },
    "papermill": {
     "duration": 34.022327,
     "end_time": "2022-10-05T21:02:46.104329",
     "exception": false,
     "start_time": "2022-10-05T21:02:12.082002",
     "status": "completed"
    },
    "tags": []
   },
   "outputs": [
    {
     "name": "stdout",
     "output_type": "stream",
     "text": [
      "Collecting keras-rl2\r\n",
      "  Downloading keras_rl2-1.0.5-py3-none-any.whl (52 kB)\r\n",
      "\u001b[2K     \u001b[90m━━━━━━━━━━━━━━━━━━━━━━━━━━━━━━━━━━━━━━━\u001b[0m \u001b[32m52.1/52.1 kB\u001b[0m \u001b[31m660.9 kB/s\u001b[0m eta \u001b[36m0:00:00\u001b[0m\r\n",
      "\u001b[?25hRequirement already satisfied: tensorflow in /opt/conda/lib/python3.7/site-packages (from keras-rl2) (2.6.4)\r\n",
      "Requirement already satisfied: protobuf>=3.9.2 in /opt/conda/lib/python3.7/site-packages (from tensorflow->keras-rl2) (3.19.4)\r\n",
      "Collecting typing-extensions<3.11,>=3.7\r\n",
      "  Downloading typing_extensions-3.10.0.2-py3-none-any.whl (26 kB)\r\n",
      "Requirement already satisfied: opt-einsum~=3.3.0 in /opt/conda/lib/python3.7/site-packages (from tensorflow->keras-rl2) (3.3.0)\r\n",
      "Requirement already satisfied: astunparse~=1.6.3 in /opt/conda/lib/python3.7/site-packages (from tensorflow->keras-rl2) (1.6.3)\r\n",
      "Requirement already satisfied: termcolor~=1.1.0 in /opt/conda/lib/python3.7/site-packages (from tensorflow->keras-rl2) (1.1.0)\r\n",
      "Requirement already satisfied: wheel~=0.35 in /opt/conda/lib/python3.7/site-packages (from tensorflow->keras-rl2) (0.37.1)\r\n",
      "Collecting h5py~=3.1.0\r\n",
      "  Downloading h5py-3.1.0-cp37-cp37m-manylinux1_x86_64.whl (4.0 MB)\r\n",
      "\u001b[2K     \u001b[90m━━━━━━━━━━━━━━━━━━━━━━━━━━━━━━━━━━━━━━━━\u001b[0m \u001b[32m4.0/4.0 MB\u001b[0m \u001b[31m12.1 MB/s\u001b[0m eta \u001b[36m0:00:00\u001b[0m\r\n",
      "\u001b[?25hRequirement already satisfied: flatbuffers~=1.12.0 in /opt/conda/lib/python3.7/site-packages (from tensorflow->keras-rl2) (1.12)\r\n",
      "Requirement already satisfied: clang~=5.0 in /opt/conda/lib/python3.7/site-packages (from tensorflow->keras-rl2) (5.0)\r\n",
      "Requirement already satisfied: keras-preprocessing~=1.1.2 in /opt/conda/lib/python3.7/site-packages (from tensorflow->keras-rl2) (1.1.2)\r\n",
      "Requirement already satisfied: six~=1.15.0 in /opt/conda/lib/python3.7/site-packages (from tensorflow->keras-rl2) (1.15.0)\r\n",
      "Requirement already satisfied: google-pasta~=0.2 in /opt/conda/lib/python3.7/site-packages (from tensorflow->keras-rl2) (0.2.0)\r\n",
      "Requirement already satisfied: absl-py~=0.10 in /opt/conda/lib/python3.7/site-packages (from tensorflow->keras-rl2) (0.15.0)\r\n",
      "Requirement already satisfied: keras<2.7,>=2.6.0 in /opt/conda/lib/python3.7/site-packages (from tensorflow->keras-rl2) (2.6.0)\r\n",
      "Collecting numpy~=1.19.2\r\n",
      "  Downloading numpy-1.19.5-cp37-cp37m-manylinux2010_x86_64.whl (14.8 MB)\r\n",
      "\u001b[2K     \u001b[90m━━━━━━━━━━━━━━━━━━━━━━━━━━━━━━━━━━━━━━━━\u001b[0m \u001b[32m14.8/14.8 MB\u001b[0m \u001b[31m32.6 MB/s\u001b[0m eta \u001b[36m0:00:00\u001b[0m\r\n",
      "\u001b[?25hRequirement already satisfied: wrapt~=1.12.1 in /opt/conda/lib/python3.7/site-packages (from tensorflow->keras-rl2) (1.12.1)\r\n",
      "Requirement already satisfied: gast==0.4.0 in /opt/conda/lib/python3.7/site-packages (from tensorflow->keras-rl2) (0.4.0)\r\n",
      "Collecting tensorboard<2.7,>=2.6.0\r\n",
      "  Downloading tensorboard-2.6.0-py3-none-any.whl (5.6 MB)\r\n",
      "\u001b[2K     \u001b[90m━━━━━━━━━━━━━━━━━━━━━━━━━━━━━━━━━━━━━━━━\u001b[0m \u001b[32m5.6/5.6 MB\u001b[0m \u001b[31m37.3 MB/s\u001b[0m eta \u001b[36m0:00:00\u001b[0m\r\n",
      "\u001b[?25hRequirement already satisfied: grpcio<2.0,>=1.37.0 in /opt/conda/lib/python3.7/site-packages (from tensorflow->keras-rl2) (1.43.0)\r\n",
      "Requirement already satisfied: tensorflow-estimator<2.7,>=2.6.0 in /opt/conda/lib/python3.7/site-packages (from tensorflow->keras-rl2) (2.6.0)\r\n",
      "Requirement already satisfied: cached-property in /opt/conda/lib/python3.7/site-packages (from h5py~=3.1.0->tensorflow->keras-rl2) (1.5.2)\r\n",
      "Requirement already satisfied: google-auth-oauthlib<0.5,>=0.4.1 in /opt/conda/lib/python3.7/site-packages (from tensorboard<2.7,>=2.6.0->tensorflow->keras-rl2) (0.4.6)\r\n",
      "Requirement already satisfied: tensorboard-data-server<0.7.0,>=0.6.0 in /opt/conda/lib/python3.7/site-packages (from tensorboard<2.7,>=2.6.0->tensorflow->keras-rl2) (0.6.1)\r\n",
      "Requirement already satisfied: markdown>=2.6.8 in /opt/conda/lib/python3.7/site-packages (from tensorboard<2.7,>=2.6.0->tensorflow->keras-rl2) (3.3.7)\r\n",
      "Requirement already satisfied: requests<3,>=2.21.0 in /opt/conda/lib/python3.7/site-packages (from tensorboard<2.7,>=2.6.0->tensorflow->keras-rl2) (2.28.1)\r\n",
      "Requirement already satisfied: tensorboard-plugin-wit>=1.6.0 in /opt/conda/lib/python3.7/site-packages (from tensorboard<2.7,>=2.6.0->tensorflow->keras-rl2) (1.8.1)\r\n",
      "Requirement already satisfied: setuptools>=41.0.0 in /opt/conda/lib/python3.7/site-packages (from tensorboard<2.7,>=2.6.0->tensorflow->keras-rl2) (59.8.0)\r\n",
      "Requirement already satisfied: werkzeug>=0.11.15 in /opt/conda/lib/python3.7/site-packages (from tensorboard<2.7,>=2.6.0->tensorflow->keras-rl2) (2.2.2)\r\n",
      "Requirement already satisfied: google-auth<2,>=1.6.3 in /opt/conda/lib/python3.7/site-packages (from tensorboard<2.7,>=2.6.0->tensorflow->keras-rl2) (1.35.0)\r\n",
      "Requirement already satisfied: pyasn1-modules>=0.2.1 in /opt/conda/lib/python3.7/site-packages (from google-auth<2,>=1.6.3->tensorboard<2.7,>=2.6.0->tensorflow->keras-rl2) (0.2.7)\r\n",
      "Requirement already satisfied: rsa<5,>=3.1.4 in /opt/conda/lib/python3.7/site-packages (from google-auth<2,>=1.6.3->tensorboard<2.7,>=2.6.0->tensorflow->keras-rl2) (4.8)\r\n",
      "Requirement already satisfied: cachetools<5.0,>=2.0.0 in /opt/conda/lib/python3.7/site-packages (from google-auth<2,>=1.6.3->tensorboard<2.7,>=2.6.0->tensorflow->keras-rl2) (4.2.4)\r\n",
      "Requirement already satisfied: requests-oauthlib>=0.7.0 in /opt/conda/lib/python3.7/site-packages (from google-auth-oauthlib<0.5,>=0.4.1->tensorboard<2.7,>=2.6.0->tensorflow->keras-rl2) (1.3.1)\r\n",
      "Requirement already satisfied: importlib-metadata>=4.4 in /opt/conda/lib/python3.7/site-packages (from markdown>=2.6.8->tensorboard<2.7,>=2.6.0->tensorflow->keras-rl2) (4.12.0)\r\n",
      "Requirement already satisfied: charset-normalizer<3,>=2 in /opt/conda/lib/python3.7/site-packages (from requests<3,>=2.21.0->tensorboard<2.7,>=2.6.0->tensorflow->keras-rl2) (2.1.0)\r\n",
      "Requirement already satisfied: certifi>=2017.4.17 in /opt/conda/lib/python3.7/site-packages (from requests<3,>=2.21.0->tensorboard<2.7,>=2.6.0->tensorflow->keras-rl2) (2022.6.15.2)\r\n",
      "Requirement already satisfied: idna<4,>=2.5 in /opt/conda/lib/python3.7/site-packages (from requests<3,>=2.21.0->tensorboard<2.7,>=2.6.0->tensorflow->keras-rl2) (3.3)\r\n",
      "Requirement already satisfied: urllib3<1.27,>=1.21.1 in /opt/conda/lib/python3.7/site-packages (from requests<3,>=2.21.0->tensorboard<2.7,>=2.6.0->tensorflow->keras-rl2) (1.26.12)\r\n",
      "Requirement already satisfied: MarkupSafe>=2.1.1 in /opt/conda/lib/python3.7/site-packages (from werkzeug>=0.11.15->tensorboard<2.7,>=2.6.0->tensorflow->keras-rl2) (2.1.1)\r\n",
      "Requirement already satisfied: zipp>=0.5 in /opt/conda/lib/python3.7/site-packages (from importlib-metadata>=4.4->markdown>=2.6.8->tensorboard<2.7,>=2.6.0->tensorflow->keras-rl2) (3.8.0)\r\n",
      "Requirement already satisfied: pyasn1<0.5.0,>=0.4.6 in /opt/conda/lib/python3.7/site-packages (from pyasn1-modules>=0.2.1->google-auth<2,>=1.6.3->tensorboard<2.7,>=2.6.0->tensorflow->keras-rl2) (0.4.8)\r\n",
      "Requirement already satisfied: oauthlib>=3.0.0 in /opt/conda/lib/python3.7/site-packages (from requests-oauthlib>=0.7.0->google-auth-oauthlib<0.5,>=0.4.1->tensorboard<2.7,>=2.6.0->tensorflow->keras-rl2) (3.2.0)\r\n",
      "Installing collected packages: typing-extensions, numpy, h5py, tensorboard, keras-rl2\r\n",
      "  Attempting uninstall: typing-extensions\r\n",
      "    Found existing installation: typing_extensions 4.3.0\r\n",
      "    Uninstalling typing_extensions-4.3.0:\r\n",
      "      Successfully uninstalled typing_extensions-4.3.0\r\n",
      "  Attempting uninstall: numpy\r\n",
      "    Found existing installation: numpy 1.21.6\r\n",
      "    Uninstalling numpy-1.21.6:\r\n",
      "      Successfully uninstalled numpy-1.21.6\r\n",
      "  Attempting uninstall: h5py\r\n",
      "    Found existing installation: h5py 3.7.0\r\n",
      "    Uninstalling h5py-3.7.0:\r\n",
      "      Successfully uninstalled h5py-3.7.0\r\n",
      "  Attempting uninstall: tensorboard\r\n",
      "    Found existing installation: tensorboard 2.10.0\r\n",
      "    Uninstalling tensorboard-2.10.0:\r\n",
      "      Successfully uninstalled tensorboard-2.10.0\r\n",
      "\u001b[31mERROR: pip's dependency resolver does not currently take into account all the packages that are installed. This behaviour is the source of the following dependency conflicts.\r\n",
      "tensorflow-io 0.21.0 requires tensorflow-io-gcs-filesystem==0.21.0, which is not installed.\r\n",
      "beatrix-jupyterlab 3.1.7 requires google-cloud-bigquery-storage, which is not installed.\r\n",
      "xarray-einstats 0.2.2 requires numpy>=1.21, but you have numpy 1.19.5 which is incompatible.\r\n",
      "tfx-bsl 1.9.0 requires pyarrow<6,>=1, but you have pyarrow 8.0.0 which is incompatible.\r\n",
      "tfx-bsl 1.9.0 requires tensorflow!=2.0.*,!=2.1.*,!=2.2.*,!=2.3.*,!=2.4.*,!=2.5.*,!=2.6.*,!=2.7.*,!=2.8.*,<3,>=1.15.5, but you have tensorflow 2.6.4 which is incompatible.\r\n",
      "tensorflow-transform 1.9.0 requires pyarrow<6,>=1, but you have pyarrow 8.0.0 which is incompatible.\r\n",
      "tensorflow-transform 1.9.0 requires tensorflow!=2.0.*,!=2.1.*,!=2.2.*,!=2.3.*,!=2.4.*,!=2.5.*,!=2.6.*,!=2.7.*,!=2.8.*,<2.10,>=1.15.5, but you have tensorflow 2.6.4 which is incompatible.\r\n",
      "tensorflow-serving-api 2.9.0 requires tensorflow<3,>=2.9.0, but you have tensorflow 2.6.4 which is incompatible.\r\n",
      "pytorch-lightning 1.7.6 requires tensorboard>=2.9.1, but you have tensorboard 2.6.0 which is incompatible.\r\n",
      "pytorch-lightning 1.7.6 requires typing-extensions>=4.0.0, but you have typing-extensions 3.10.0.2 which is incompatible.\r\n",
      "pdpbox 0.2.1 requires matplotlib==3.1.1, but you have matplotlib 3.5.3 which is incompatible.\r\n",
      "pandas-profiling 3.1.0 requires markupsafe~=2.0.1, but you have markupsafe 2.1.1 which is incompatible.\r\n",
      "nnabla 1.30.0 requires numpy>=1.20.0, but you have numpy 1.19.5 which is incompatible.\r\n",
      "jax 0.3.17 requires numpy>=1.20, but you have numpy 1.19.5 which is incompatible.\r\n",
      "flax 0.6.0 requires rich~=11.1, but you have rich 12.1.0 which is incompatible.\r\n",
      "flax 0.6.0 requires typing-extensions>=4.1.1, but you have typing-extensions 3.10.0.2 which is incompatible.\r\n",
      "flake8 4.0.1 requires importlib-metadata<4.3; python_version < \"3.8\", but you have importlib-metadata 4.12.0 which is incompatible.\r\n",
      "featuretools 1.11.1 requires numpy>=1.21.0, but you have numpy 1.19.5 which is incompatible.\r\n",
      "cmdstanpy 1.0.7 requires numpy>=1.21, but you have numpy 1.19.5 which is incompatible.\r\n",
      "apache-beam 2.40.0 requires dill<0.3.2,>=0.3.1.1, but you have dill 0.3.5.1 which is incompatible.\r\n",
      "apache-beam 2.40.0 requires pyarrow<8.0.0,>=0.15.1, but you have pyarrow 8.0.0 which is incompatible.\r\n",
      "allennlp 2.10.0 requires h5py>=3.6.0, but you have h5py 3.1.0 which is incompatible.\r\n",
      "allennlp 2.10.0 requires numpy>=1.21.4, but you have numpy 1.19.5 which is incompatible.\r\n",
      "allennlp 2.10.0 requires protobuf==3.20.0, but you have protobuf 3.19.4 which is incompatible.\r\n",
      "aioitertools 0.10.0 requires typing_extensions>=4.0; python_version < \"3.10\", but you have typing-extensions 3.10.0.2 which is incompatible.\r\n",
      "aiobotocore 2.4.0 requires botocore<1.27.60,>=1.27.59, but you have botocore 1.27.72 which is incompatible.\u001b[0m\u001b[31m\r\n",
      "\u001b[0mSuccessfully installed h5py-3.1.0 keras-rl2-1.0.5 numpy-1.19.5 tensorboard-2.6.0 typing-extensions-3.10.0.2\r\n",
      "\u001b[33mWARNING: Running pip as the 'root' user can result in broken permissions and conflicting behaviour with the system package manager. It is recommended to use a virtual environment instead: https://pip.pypa.io/warnings/venv\u001b[0m\u001b[33m\r\n",
      "\u001b[0m"
     ]
    }
   ],
   "source": [
    "!pip install keras-rl2"
   ]
  },
  {
   "cell_type": "code",
   "execution_count": 3,
   "id": "c3f37053",
   "metadata": {
    "execution": {
     "iopub.execute_input": "2022-10-05T21:02:46.123876Z",
     "iopub.status.busy": "2022-10-05T21:02:46.123414Z",
     "iopub.status.idle": "2022-10-05T21:02:46.465200Z",
     "shell.execute_reply": "2022-10-05T21:02:46.463997Z"
    },
    "papermill": {
     "duration": 0.354877,
     "end_time": "2022-10-05T21:02:46.467965",
     "exception": false,
     "start_time": "2022-10-05T21:02:46.113088",
     "status": "completed"
    },
    "tags": []
   },
   "outputs": [],
   "source": [
    "import gym\n",
    "import random"
   ]
  },
  {
   "cell_type": "code",
   "execution_count": 4,
   "id": "d11335f8",
   "metadata": {
    "execution": {
     "iopub.execute_input": "2022-10-05T21:02:46.487104Z",
     "iopub.status.busy": "2022-10-05T21:02:46.486660Z",
     "iopub.status.idle": "2022-10-05T21:02:46.503225Z",
     "shell.execute_reply": "2022-10-05T21:02:46.502263Z"
    },
    "papermill": {
     "duration": 0.028863,
     "end_time": "2022-10-05T21:02:46.505714",
     "exception": false,
     "start_time": "2022-10-05T21:02:46.476851",
     "status": "completed"
    },
    "tags": []
   },
   "outputs": [],
   "source": [
    "env = gym.make('CartPole-v1')\n",
    "states = env.observation_space.shape[0]\n",
    "actions = env.action_space.n"
   ]
  },
  {
   "cell_type": "code",
   "execution_count": 5,
   "id": "5dc66570",
   "metadata": {
    "execution": {
     "iopub.execute_input": "2022-10-05T21:02:46.525056Z",
     "iopub.status.busy": "2022-10-05T21:02:46.524402Z",
     "iopub.status.idle": "2022-10-05T21:02:46.776283Z",
     "shell.execute_reply": "2022-10-05T21:02:46.774980Z"
    },
    "papermill": {
     "duration": 0.266107,
     "end_time": "2022-10-05T21:02:46.780330",
     "exception": false,
     "start_time": "2022-10-05T21:02:46.514223",
     "status": "completed"
    },
    "tags": []
   },
   "outputs": [
    {
     "name": "stdout",
     "output_type": "stream",
     "text": [
      "Episode: 1 Score: 14.0\n",
      "Episode: 2 Score: 19.0\n",
      "Episode: 3 Score: 18.0\n",
      "Episode: 4 Score: 30.0\n",
      "Episode: 5 Score: 13.0\n",
      "Episode: 6 Score: 10.0\n",
      "Episode: 7 Score: 21.0\n",
      "Episode: 8 Score: 31.0\n",
      "Episode: 9 Score: 27.0\n",
      "Episode: 10 Score: 20.0\n"
     ]
    }
   ],
   "source": [
    "episodes = 10\n",
    "for episode in range(1, episodes + 1):\n",
    "    state = env.reset()\n",
    "    done = False\n",
    "    score = 0\n",
    "    \n",
    "    while not done:\n",
    "        env.render()\n",
    "        action = random.choice([0,1])\n",
    "        observations, reward, done, truncated, info = env.step(action)\n",
    "        score += reward\n",
    "    \n",
    "    print('Episode: {} Score: {}'.format(episode, score))"
   ]
  },
  {
   "cell_type": "code",
   "execution_count": 6,
   "id": "de03dcb6",
   "metadata": {
    "execution": {
     "iopub.execute_input": "2022-10-05T21:02:46.801014Z",
     "iopub.status.busy": "2022-10-05T21:02:46.800560Z",
     "iopub.status.idle": "2022-10-05T21:02:52.875430Z",
     "shell.execute_reply": "2022-10-05T21:02:52.874164Z"
    },
    "papermill": {
     "duration": 6.088185,
     "end_time": "2022-10-05T21:02:52.878402",
     "exception": false,
     "start_time": "2022-10-05T21:02:46.790217",
     "status": "completed"
    },
    "tags": []
   },
   "outputs": [],
   "source": [
    "import numpy\n",
    "from tensorflow.keras.models import Sequential\n",
    "from tensorflow.keras.layers import Dense, Flatten\n",
    "from tensorflow.keras.optimizers import Adam\n"
   ]
  },
  {
   "cell_type": "code",
   "execution_count": 7,
   "id": "39e5eee8",
   "metadata": {
    "execution": {
     "iopub.execute_input": "2022-10-05T21:02:52.897397Z",
     "iopub.status.busy": "2022-10-05T21:02:52.896708Z",
     "iopub.status.idle": "2022-10-05T21:02:52.903589Z",
     "shell.execute_reply": "2022-10-05T21:02:52.902288Z"
    },
    "papermill": {
     "duration": 0.018829,
     "end_time": "2022-10-05T21:02:52.905891",
     "exception": false,
     "start_time": "2022-10-05T21:02:52.887062",
     "status": "completed"
    },
    "tags": []
   },
   "outputs": [],
   "source": [
    "def build_model(states, actions):\n",
    "    model = Sequential()\n",
    "    model.add(Flatten(input_shape=(1,states)))\n",
    "    model.add(Dense(24, activation='relu'))\n",
    "    model.add(Dense(24, activation='relu'))\n",
    "    model.add(Dense(actions, activation='linear'))\n",
    "    return model\n",
    "    \n",
    "    "
   ]
  },
  {
   "cell_type": "code",
   "execution_count": 8,
   "id": "ba07e0e0",
   "metadata": {
    "execution": {
     "iopub.execute_input": "2022-10-05T21:02:52.924666Z",
     "iopub.status.busy": "2022-10-05T21:02:52.924279Z",
     "iopub.status.idle": "2022-10-05T21:02:53.056352Z",
     "shell.execute_reply": "2022-10-05T21:02:53.055142Z"
    },
    "papermill": {
     "duration": 0.144614,
     "end_time": "2022-10-05T21:02:53.058906",
     "exception": false,
     "start_time": "2022-10-05T21:02:52.914292",
     "status": "completed"
    },
    "tags": []
   },
   "outputs": [
    {
     "name": "stderr",
     "output_type": "stream",
     "text": [
      "2022-10-05 21:02:52.964122: I tensorflow/core/common_runtime/process_util.cc:146] Creating new thread pool with default inter op setting: 2. Tune using inter_op_parallelism_threads for best performance.\n"
     ]
    }
   ],
   "source": [
    "model = build_model(states, actions)"
   ]
  },
  {
   "cell_type": "code",
   "execution_count": 9,
   "id": "e7147902",
   "metadata": {
    "execution": {
     "iopub.execute_input": "2022-10-05T21:02:53.078068Z",
     "iopub.status.busy": "2022-10-05T21:02:53.077405Z",
     "iopub.status.idle": "2022-10-05T21:02:53.084214Z",
     "shell.execute_reply": "2022-10-05T21:02:53.082988Z"
    },
    "papermill": {
     "duration": 0.020357,
     "end_time": "2022-10-05T21:02:53.087740",
     "exception": false,
     "start_time": "2022-10-05T21:02:53.067383",
     "status": "completed"
    },
    "tags": []
   },
   "outputs": [
    {
     "name": "stdout",
     "output_type": "stream",
     "text": [
      "Model: \"sequential\"\n",
      "_________________________________________________________________\n",
      "Layer (type)                 Output Shape              Param #   \n",
      "=================================================================\n",
      "flatten (Flatten)            (None, 4)                 0         \n",
      "_________________________________________________________________\n",
      "dense (Dense)                (None, 24)                120       \n",
      "_________________________________________________________________\n",
      "dense_1 (Dense)              (None, 24)                600       \n",
      "_________________________________________________________________\n",
      "dense_2 (Dense)              (None, 2)                 50        \n",
      "=================================================================\n",
      "Total params: 770\n",
      "Trainable params: 770\n",
      "Non-trainable params: 0\n",
      "_________________________________________________________________\n"
     ]
    }
   ],
   "source": [
    "model.summary()"
   ]
  },
  {
   "cell_type": "code",
   "execution_count": 10,
   "id": "a22db2c1",
   "metadata": {
    "execution": {
     "iopub.execute_input": "2022-10-05T21:02:53.107387Z",
     "iopub.status.busy": "2022-10-05T21:02:53.106683Z",
     "iopub.status.idle": "2022-10-05T21:02:53.118150Z",
     "shell.execute_reply": "2022-10-05T21:02:53.117001Z"
    },
    "papermill": {
     "duration": 0.024133,
     "end_time": "2022-10-05T21:02:53.120712",
     "exception": false,
     "start_time": "2022-10-05T21:02:53.096579",
     "status": "completed"
    },
    "tags": []
   },
   "outputs": [],
   "source": [
    "from rl.agents import DQNAgent\n",
    "from rl.policy import BoltzmannQPolicy\n",
    "from rl.memory import SequentialMemory"
   ]
  },
  {
   "cell_type": "code",
   "execution_count": 11,
   "id": "3a8d57c5",
   "metadata": {
    "execution": {
     "iopub.execute_input": "2022-10-05T21:02:53.141665Z",
     "iopub.status.busy": "2022-10-05T21:02:53.141004Z",
     "iopub.status.idle": "2022-10-05T21:02:53.147503Z",
     "shell.execute_reply": "2022-10-05T21:02:53.146396Z"
    },
    "papermill": {
     "duration": 0.019048,
     "end_time": "2022-10-05T21:02:53.149837",
     "exception": false,
     "start_time": "2022-10-05T21:02:53.130789",
     "status": "completed"
    },
    "tags": []
   },
   "outputs": [],
   "source": [
    "def build_agent(model,actions):\n",
    "    policy = BoltzmannQPolicy\n",
    "    memory = SequentialMemory(limit = 50000, window_length=1)\n",
    "    dqn = DQNAgent(model=model, memory= memory, policy = policy,\n",
    "                  nb_actions = actions, nb_steps_warmup=10, target_model_update=1e-2)\n",
    "    return dqn"
   ]
  }
 ],
 "metadata": {
  "kernelspec": {
   "display_name": "Python 3",
   "language": "python",
   "name": "python3"
  },
  "language_info": {
   "codemirror_mode": {
    "name": "ipython",
    "version": 3
   },
   "file_extension": ".py",
   "mimetype": "text/x-python",
   "name": "python",
   "nbconvert_exporter": "python",
   "pygments_lexer": "ipython3",
   "version": "3.7.12"
  },
  "papermill": {
   "default_parameters": {},
   "duration": 69.172954,
   "end_time": "2022-10-05T21:02:55.793559",
   "environment_variables": {},
   "exception": null,
   "input_path": "__notebook__.ipynb",
   "output_path": "__notebook__.ipynb",
   "parameters": {},
   "start_time": "2022-10-05T21:01:46.620605",
   "version": "2.3.4"
  }
 },
 "nbformat": 4,
 "nbformat_minor": 5
}
